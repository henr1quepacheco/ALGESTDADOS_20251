{
  "nbformat": 4,
  "nbformat_minor": 0,
  "metadata": {
    "colab": {
      "provenance": [],
      "toc_visible": true,
      "authorship_tag": "ABX9TyOauLBrOR7lcAAKtq2NqjUb",
      "include_colab_link": true
    },
    "kernelspec": {
      "name": "python3",
      "display_name": "Python 3"
    },
    "language_info": {
      "name": "python"
    }
  },
  "cells": [
    {
      "cell_type": "markdown",
      "metadata": {
        "id": "view-in-github",
        "colab_type": "text"
      },
      "source": [
        "<a href=\"https://colab.research.google.com/github/henr1quepacheco/ALGESTDADOS_20251/blob/main/Algoritmo_e_an%C3%A1lise_de_dados_segunda_semana.ipynb\" target=\"_parent\"><img src=\"https://colab.research.google.com/assets/colab-badge.svg\" alt=\"Open In Colab\"/></a>"
      ]
    },
    {
      "cell_type": "code",
      "execution_count": null,
      "metadata": {
        "colab": {
          "base_uri": "https://localhost:8080/"
        },
        "id": "fZWbQwS1ZrxJ",
        "outputId": "1bf82e35-b833-417d-8965-e818d753eec3"
      },
      "outputs": [
        {
          "output_type": "stream",
          "name": "stdout",
          "text": [
            "3570\n"
          ]
        }
      ],
      "source": [
        "#soma de dois números conhecidos em python\n",
        "num1 = 1930\n",
        "num2 = 1640\n",
        "resultado = num1 + num2\n",
        "print(resultado)"
      ]
    },
    {
      "cell_type": "code",
      "source": [
        "#soma de dois números desconhecidos em python\n",
        "num1 = int (input('digite o primeiro número'))\n",
        "num2 = int (input('digite o segundo número'))\n",
        "resultado = num1 + num2\n",
        "print(resultado)"
      ],
      "metadata": {
        "id": "ChVH0ysabm-o"
      },
      "execution_count": null,
      "outputs": []
    },
    {
      "cell_type": "markdown",
      "source": [],
      "metadata": {
        "id": "lJPJxUyOd6_B"
      }
    },
    {
      "cell_type": "code",
      "source": [
        "#Crie um algoritmo em python que calcule o valor do imc de uma pessoa\n",
        "#peso=x\n",
        "#altura=y\n",
        "num1 = float (input('digite seu peso: '))\n",
        "num2 = float (input('digite  altura: '))\n",
        "resultado = num1/(num2*num2)\n",
        "print(resultado)"
      ],
      "metadata": {
        "id": "a_pJma5c7DYD"
      },
      "execution_count": null,
      "outputs": []
    },
    {
      "cell_type": "markdown",
      "source": [
        "TERCEIRA AULA"
      ],
      "metadata": {
        "id": "BW2u5TPVe4Vr"
      }
    },
    {
      "cell_type": "code",
      "source": [
        "#criar um programa que retorne o nome, a cidade e a idade de um usuário através da sua data de nascimento.\n",
        "\n",
        "#importando a biblioteca datetime\n",
        "from datetime import datetime\n",
        "\n",
        "# Atribui um valor textual a variavel nome\n",
        "nome = input('digite o seu nome: ')\n",
        "\n",
        "# Atribui um valor textual a variavel nome\n",
        "cidade = input('digite o nome da sua cidade: ')\n",
        "\n",
        "#data de nascimento em formato de texto\n",
        "data_nasc = input('quando você nasceu? (DD/MM/YYYY): ')\n",
        "\n",
        "# convertendo a data_nasc em forma de data\n",
        "data_conv = datetime.strptime(data_nasc, '%d/%m/%Y')\n",
        "\n",
        "#pegando do sistema a data de hoje\n",
        "hoje = datetime.now()\n",
        "\n",
        "#idade = data de hoje - data de nascimento, em dias, dividido por 365 dias no ano\n",
        "idade = (hoje - data_conv).days //365\n",
        "\n",
        "print(f'seu nome é {nome},sua cidade é {cidade} e sua idade é {idade} anos')"
      ],
      "metadata": {
        "id": "16UtlbfsbUXM"
      },
      "execution_count": null,
      "outputs": []
    },
    {
      "cell_type": "code",
      "source": [
        "from datetime import datetime, date, time, timedelta\n",
        "import pytz\n",
        "fuso_horario = pytz.timezone(\"America/Sao_Paulo\")\n",
        "data_hora_atual = datetime.now(fuso_horario)\n",
        "print(\"Formato padrão:\", data_hora_atual.strftime(\"%d de %m de %Y e são %HH:%MM:%SS\"))\n"
      ],
      "metadata": {
        "colab": {
          "base_uri": "https://localhost:8080/"
        },
        "id": "LQjwXWb5yOHl",
        "outputId": "94a74461-3abb-4f7f-d32f-37d8858c24a9"
      },
      "execution_count": 18,
      "outputs": [
        {
          "output_type": "stream",
          "name": "stdout",
          "text": [
            "Formato padrão: 07-03-2025 e são 15:23:01:736162\n"
          ]
        }
      ]
    },
    {
      "cell_type": "code",
      "source": [
        "# EXERCÍCIOS\n",
        "# 1- solicite a data e hora atual do sistema e axiba-a formatada no seguinte formato:\"dia e mês de ano,HH:MM:SS\".\n",
        "# 2- pedir ao usuário sua data de nascimentov(no formato dd/mm/aaaa).\n",
        "# 3- peça ao usuário a data de um evento futuro e calcule quantos dias faltam para ele.\n",
        "# 4- peça ao usuário uma data e informe qual o dia da semana correspondente.\n",
        "# 5- exiba a data e hora atuais em 3 fusos horários diferentes: São Paulo, Nova York e Tóquio.\n",
        "#5\n",
        "from datetime import datetime, date, time, timedelta\n",
        "import pytz\n",
        "fuso_horario = pytz.timezone(\"America/Sao_Paulo\")\n",
        "data_hora_atual = datetime.now(fuso_horario)\n",
        "print(\"Formato padrão:\", data_hora_atual.strftime(\"%d de %m de %Y e são %HH:%MM:%SS\"))\n",
        "\n",
        "from datetime import datetime, date, time, timedelta\n",
        "import pytz\n",
        "fuso_horario = pytz.timezone(\"America/New_York\")\n",
        "data_hora_atual = datetime.now(fuso_horario)\n",
        "print(\"Formato padrão:\", data_hora_atual.strftime(\"%d de %m de %Y e são %HH:%MM:%SS\"))\n",
        "\n",
        " from datetime import datetime, date, time, timedelta\n",
        "import pytz\n",
        "fuso_horario = pytz.timezone(\"Asia/Toquio\")\n",
        "data_hora_atual = datetime.now(fuso_horario)\n",
        "print(\"Formato padrão:\", data_hora_atual.strftime(\"%d de %m de %Y e são %HH:%MM:%SS\"))"
      ],
      "metadata": {
        "colab": {
          "base_uri": "https://localhost:8080/",
          "height": 106
        },
        "id": "28YR2K5881L1",
        "outputId": "ce7af69a-4778-4dda-8f59-250f3ac50fa2"
      },
      "execution_count": 20,
      "outputs": [
        {
          "output_type": "error",
          "ename": "IndentationError",
          "evalue": "unexpected indent (<ipython-input-20-b3861dafbb86>, line 29)",
          "traceback": [
            "\u001b[0;36m  File \u001b[0;32m\"<ipython-input-20-b3861dafbb86>\"\u001b[0;36m, line \u001b[0;32m29\u001b[0m\n\u001b[0;31m    from datetime import datetime, date, time, timedelta\u001b[0m\n\u001b[0m    ^\u001b[0m\n\u001b[0;31mIndentationError\u001b[0m\u001b[0;31m:\u001b[0m unexpected indent\n"
          ]
        }
      ]
    },
    {
      "cell_type": "code",
      "source": [
        "#1\n",
        "from datetime import datetime, date, time, timedelta\n",
        "import pytz\n",
        "data_hora_atual = datetime.now()\n",
        "print(\"Hoje é:\", data_hora_atual.strftime(\"%d de %m de %Y e são %HH:%MM:%SS\"))"
      ],
      "metadata": {
        "colab": {
          "base_uri": "https://localhost:8080/"
        },
        "id": "3oQGcUZpAIbV",
        "outputId": "7a427d1f-1da2-4d1d-c63b-7c733e0dff6b"
      },
      "execution_count": 40,
      "outputs": [
        {
          "output_type": "stream",
          "name": "stdout",
          "text": [
            "Hoje é: 07 de 03 de 2025 e são 19H:28M:42S\n"
          ]
        }
      ]
    },
    {
      "cell_type": "code",
      "source": [
        "#2\n",
        "from datetime import datetime\n",
        "data_nasc = input('quando você nasceu? (DD/MM/YYYY): ')\n",
        "data_conv = datetime.strptime(data_nasc, '%d/%m/%Y')\n",
        "hoje = datetime.now()\n",
        "idade = (hoje - data_conv).days //365\n",
        "print(f'sua idade é {idade} anos')"
      ],
      "metadata": {
        "colab": {
          "base_uri": "https://localhost:8080/"
        },
        "id": "EfAtGKACArMD",
        "outputId": "7ac70a48-ed7e-4aa0-b7e1-8def9d2aa268"
      },
      "execution_count": 31,
      "outputs": [
        {
          "output_type": "stream",
          "name": "stdout",
          "text": [
            "quando você nasceu? (DD/MM/YYYY): 30/04/2006\n",
            "sua idade é 18 anos\n"
          ]
        }
      ]
    },
    {
      "cell_type": "code",
      "source": [
        "#3\n",
        "data1 = datetime.now()\n",
        "data2 = input('insira a data do evento: (DD/MM/YYYY)')\n",
        "data2_conv = datetime.strptime(data2, '%d/%m/%Y')\n",
        "diferenca = data2_conv - data1\n",
        "print(f\"faltam {diferenca.days} dias para o evento\")"
      ],
      "metadata": {
        "colab": {
          "base_uri": "https://localhost:8080/",
          "height": 373
        },
        "id": "Wb44GxD9BvkS",
        "outputId": "d3a879a5-6536-4e6f-8bcd-708c6b51501a"
      },
      "execution_count": 41,
      "outputs": [
        {
          "output_type": "error",
          "ename": "KeyboardInterrupt",
          "evalue": "Interrupted by user",
          "traceback": [
            "\u001b[0;31m---------------------------------------------------------------------------\u001b[0m",
            "\u001b[0;31mKeyboardInterrupt\u001b[0m                         Traceback (most recent call last)",
            "\u001b[0;32m<ipython-input-41-60c258c1b35f>\u001b[0m in \u001b[0;36m<cell line: 0>\u001b[0;34m()\u001b[0m\n\u001b[1;32m      1\u001b[0m \u001b[0;31m#3\u001b[0m\u001b[0;34m\u001b[0m\u001b[0;34m\u001b[0m\u001b[0m\n\u001b[1;32m      2\u001b[0m \u001b[0mdata1\u001b[0m \u001b[0;34m=\u001b[0m \u001b[0mdatetime\u001b[0m\u001b[0;34m.\u001b[0m\u001b[0mnow\u001b[0m\u001b[0;34m(\u001b[0m\u001b[0;34m)\u001b[0m\u001b[0;34m\u001b[0m\u001b[0;34m\u001b[0m\u001b[0m\n\u001b[0;32m----> 3\u001b[0;31m \u001b[0mdata2\u001b[0m \u001b[0;34m=\u001b[0m \u001b[0minput\u001b[0m\u001b[0;34m(\u001b[0m\u001b[0;34m'insira a data do evento: (DD/MM/YYYY)'\u001b[0m\u001b[0;34m)\u001b[0m\u001b[0;34m\u001b[0m\u001b[0;34m\u001b[0m\u001b[0m\n\u001b[0m\u001b[1;32m      4\u001b[0m \u001b[0mdata2_conv\u001b[0m \u001b[0;34m=\u001b[0m \u001b[0mdatetime\u001b[0m\u001b[0;34m.\u001b[0m\u001b[0mstrptime\u001b[0m\u001b[0;34m(\u001b[0m\u001b[0mdata2\u001b[0m\u001b[0;34m,\u001b[0m \u001b[0;34m'%d/%m/%Y'\u001b[0m\u001b[0;34m)\u001b[0m\u001b[0;34m\u001b[0m\u001b[0;34m\u001b[0m\u001b[0m\n\u001b[1;32m      5\u001b[0m \u001b[0mdiferenca\u001b[0m \u001b[0;34m=\u001b[0m \u001b[0mdata2_conv\u001b[0m \u001b[0;34m-\u001b[0m \u001b[0mdata1\u001b[0m\u001b[0;34m\u001b[0m\u001b[0;34m\u001b[0m\u001b[0m\n",
            "\u001b[0;32m/usr/local/lib/python3.11/dist-packages/ipykernel/kernelbase.py\u001b[0m in \u001b[0;36mraw_input\u001b[0;34m(self, prompt)\u001b[0m\n\u001b[1;32m   1175\u001b[0m                 \u001b[0;34m\"raw_input was called, but this frontend does not support input requests.\"\u001b[0m\u001b[0;34m\u001b[0m\u001b[0;34m\u001b[0m\u001b[0m\n\u001b[1;32m   1176\u001b[0m             )\n\u001b[0;32m-> 1177\u001b[0;31m         return self._input_request(\n\u001b[0m\u001b[1;32m   1178\u001b[0m             \u001b[0mstr\u001b[0m\u001b[0;34m(\u001b[0m\u001b[0mprompt\u001b[0m\u001b[0;34m)\u001b[0m\u001b[0;34m,\u001b[0m\u001b[0;34m\u001b[0m\u001b[0;34m\u001b[0m\u001b[0m\n\u001b[1;32m   1179\u001b[0m             \u001b[0mself\u001b[0m\u001b[0;34m.\u001b[0m\u001b[0m_parent_ident\u001b[0m\u001b[0;34m[\u001b[0m\u001b[0;34m\"shell\"\u001b[0m\u001b[0;34m]\u001b[0m\u001b[0;34m,\u001b[0m\u001b[0;34m\u001b[0m\u001b[0;34m\u001b[0m\u001b[0m\n",
            "\u001b[0;32m/usr/local/lib/python3.11/dist-packages/ipykernel/kernelbase.py\u001b[0m in \u001b[0;36m_input_request\u001b[0;34m(self, prompt, ident, parent, password)\u001b[0m\n\u001b[1;32m   1217\u001b[0m             \u001b[0;32mexcept\u001b[0m \u001b[0mKeyboardInterrupt\u001b[0m\u001b[0;34m:\u001b[0m\u001b[0;34m\u001b[0m\u001b[0;34m\u001b[0m\u001b[0m\n\u001b[1;32m   1218\u001b[0m                 \u001b[0;31m# re-raise KeyboardInterrupt, to truncate traceback\u001b[0m\u001b[0;34m\u001b[0m\u001b[0;34m\u001b[0m\u001b[0m\n\u001b[0;32m-> 1219\u001b[0;31m                 \u001b[0;32mraise\u001b[0m \u001b[0mKeyboardInterrupt\u001b[0m\u001b[0;34m(\u001b[0m\u001b[0;34m\"Interrupted by user\"\u001b[0m\u001b[0;34m)\u001b[0m \u001b[0;32mfrom\u001b[0m \u001b[0;32mNone\u001b[0m\u001b[0;34m\u001b[0m\u001b[0;34m\u001b[0m\u001b[0m\n\u001b[0m\u001b[1;32m   1220\u001b[0m             \u001b[0;32mexcept\u001b[0m \u001b[0mException\u001b[0m\u001b[0;34m:\u001b[0m\u001b[0;34m\u001b[0m\u001b[0;34m\u001b[0m\u001b[0m\n\u001b[1;32m   1221\u001b[0m                 \u001b[0mself\u001b[0m\u001b[0;34m.\u001b[0m\u001b[0mlog\u001b[0m\u001b[0;34m.\u001b[0m\u001b[0mwarning\u001b[0m\u001b[0;34m(\u001b[0m\u001b[0;34m\"Invalid Message:\"\u001b[0m\u001b[0;34m,\u001b[0m \u001b[0mexc_info\u001b[0m\u001b[0;34m=\u001b[0m\u001b[0;32mTrue\u001b[0m\u001b[0;34m)\u001b[0m\u001b[0;34m\u001b[0m\u001b[0;34m\u001b[0m\u001b[0m\n",
            "\u001b[0;31mKeyboardInterrupt\u001b[0m: Interrupted by user"
          ]
        }
      ]
    },
    {
      "cell_type": "code",
      "source": [
        "from datetime import datetime, date, time, timedelta\n",
        "import pytz\n",
        "data_usuario = input(\"digite uma data(dd/mm/yyyy)\")\n",
        "data_usuario = datetime.strptime(data_usuario, \"%d/%m/%\")\n",
        "print(\"seu dia da semana é: {}\")"
      ],
      "metadata": {
        "id": "oa4XoPT3EWwF"
      },
      "execution_count": 43,
      "outputs": []
    }
  ]
}