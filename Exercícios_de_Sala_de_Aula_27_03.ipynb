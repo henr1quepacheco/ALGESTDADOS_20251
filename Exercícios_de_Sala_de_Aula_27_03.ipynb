{
  "nbformat": 4,
  "nbformat_minor": 0,
  "metadata": {
    "colab": {
      "provenance": [],
      "authorship_tag": "ABX9TyPmKqEDQrpOP8qhi/oTuHnk",
      "include_colab_link": true
    },
    "kernelspec": {
      "name": "python3",
      "display_name": "Python 3"
    },
    "language_info": {
      "name": "python"
    }
  },
  "cells": [
    {
      "cell_type": "markdown",
      "metadata": {
        "id": "view-in-github",
        "colab_type": "text"
      },
      "source": [
        "<a href=\"https://colab.research.google.com/github/henr1quepacheco/ALGESTDADOS_20251/blob/main/Exerc%C3%ADcios_de_Sala_de_Aula_27_03.ipynb\" target=\"_parent\"><img src=\"https://colab.research.google.com/assets/colab-badge.svg\" alt=\"Open In Colab\"/></a>"
      ]
    },
    {
      "cell_type": "code",
      "execution_count": null,
      "metadata": {
        "colab": {
          "base_uri": "https://localhost:8080/"
        },
        "id": "iVY_yrGCZRzY",
        "outputId": "d1811bf7-e6be-4f1f-f609-1421ce975c04"
      },
      "outputs": [
        {
          "output_type": "stream",
          "name": "stdout",
          "text": [
            "Digite o primeiro lado do triângulo: 87\n",
            "Digite o segundo lado do triângulo: 87\n",
            "Digite o terceiro lado do triângulo: 87\n",
            "O triângulo é equilátero.\n"
          ]
        }
      ],
      "source": [
        "# 1. Peça ao usuário três lados de um triângulo e classifique-o como equilátero, isósceles ou escaleno.\n",
        "lado1 = float(input(\"Digite o primeiro lado do triângulo: \"))\n",
        "lado2 = float(input(\"Digite o segundo lado do triângulo: \"))\n",
        "lado3 = float(input(\"Digite o terceiro lado do triângulo: \"))\n",
        "if lado1 == lado2 == lado3:\n",
        "  print(\"O triângulo é equilátero.\")\n",
        "elif lado1 == lado2 or lado1 == lado3 or lado2 == lado3:\n",
        "  print(\"O triângulo é isósceles.\")\n",
        "else:\n",
        "  print(\"O triângulo é escaleno.\")"
      ]
    },
    {
      "cell_type": "code",
      "source": [
        "\n",
        "#2-Peça ao usuário um horário no formato 24h (por exemplo, 13:45) e converta para o formato 12h com AM/PM.\n",
        "\n",
        "from datetime import datetime\n",
        "\n",
        "horario = input('Digite a hora desejada (HH:MM):')\n",
        "\n",
        "hora = int(datetime.strptime (horario, '%H:%M').hour)\n",
        "\n",
        "minuto = int(datetime.strptime (horario, '%H:%M').minute)\n",
        "\n",
        "if hora > 12:\n",
        "\n",
        "  hora = hora - 12\n",
        "\n",
        "  print(f\" {hora}:{minuto} PM\")\n",
        "\n",
        "elif hora - 12:\n",
        "\n",
        "  print(f'{horario}PM')\n",
        "\n",
        "else:\n",
        "  print(f'{horario} AM')"
      ],
      "metadata": {
        "colab": {
          "base_uri": "https://localhost:8080/"
        },
        "id": "OFaL03RLbDmz",
        "outputId": "ca8e1dff-0f80-4e70-e0b9-317705142026"
      },
      "execution_count": 1,
      "outputs": [
        {
          "output_type": "stream",
          "name": "stdout",
          "text": [
            "Digite a hora desejada (HH:MM):13:40\n",
            " 1:40 PM\n"
          ]
        }
      ]
    },
    {
      "cell_type": "code",
      "source": [
        "# 3. Solicite a idade de um nadador e classifique-o em uma categoria:\n",
        "# - Até 7 anos → Mirim\n",
        "# - 8 a 10 anos → Infantil\n",
        "# - 11 a 13 anos → Juvenil\n",
        "# - 14 a 17 anos → Júnior\n",
        "# - 18 anos ou mais → Sênior\n",
        "idade = int(input(\"Digite a idade do nadador: \"))\n",
        "if idade <= 7:\n",
        "  print(\"Categoria: Mirim\")\n",
        "elif idade <= 10:\n",
        "  print(\"Categoria: Infantil\")\n",
        "elif idade <= 13:\n",
        "  print(\"Categoria: Juvenil\")\n",
        "elif idade <= 17:\n",
        "  print(\"Categoria: Júnior\")\n",
        "else:\n",
        "  print(\"Categoria: Sênior\")"
      ],
      "metadata": {
        "id": "9SE3oOjdcGSo",
        "colab": {
          "base_uri": "https://localhost:8080/"
        },
        "outputId": "d6058512-1da6-415d-b464-941fd91543ec"
      },
      "execution_count": null,
      "outputs": [
        {
          "output_type": "stream",
          "name": "stdout",
          "text": [
            "Digite a idade do nadador: 99\n",
            "Categoria: Sênior\n"
          ]
        }
      ]
    },
    {
      "cell_type": "code",
      "source": [
        "# 4. Simule uma partida de Pedra, Papel e Tesoura entre o usuário e o computador (sem aleatoriedade, o jogador deve escolher as duas opções).\n",
        "jogador1 = input(\"Jogador 1, escolha Pedra, Papel ou Tesoura: \").lower()\n",
        "jogador2 = input(\"Jogador 2, escolha Pedra, Papel ou Tesoura: \").lower()\n",
        "if jogador1 == jogador2:\n",
        "  print(\"Empate!\")\n",
        "elif jogador1 == \"pedra\":\n",
        "  if jogador2 == \"tesoura\":\n",
        "    print(\"Jogador 1 vence!\")\n",
        "  else:\n",
        "    print(\"Jogador 2 vence!\")\n",
        "elif jogador1 == \"papel\":\n",
        "  if jogador2 == \"pedra\":\n",
        "    print(\"Jogador 1 vence!\")\n",
        "  else:\n",
        "    print(\"Jogador 2 vence!\")\n",
        "elif jogador1 == \"tesoura\":\n",
        "  if jogador2 == \"papel\":\n",
        "    print(\"Jogador 1 vence!\")\n",
        "  else:\n",
        "    print(\"Jogador 2 vence!\")\n",
        "else:\n",
        "  print(\"Opção inválida.\")\n"
      ],
      "metadata": {
        "colab": {
          "base_uri": "https://localhost:8080/"
        },
        "id": "6-vX030Sev-E",
        "outputId": "bd42fb4a-c3cf-4ff5-cdab-eb32d4197e5d"
      },
      "execution_count": null,
      "outputs": [
        {
          "output_type": "stream",
          "name": "stdout",
          "text": [
            "Jogador 1, escolha Pedra, Papel ou Tesoura: pedra\n",
            "Jogador 2, escolha Pedra, Papel ou Tesoura: papel\n",
            "Jogador 2 vence!\n"
          ]
        }
      ]
    },
    {
      "cell_type": "code",
      "source": [
        "# 5. Peça uma nota de 0 a 10 e classifique-a:\n",
        "# - A (9-10)\n",
        "# - B (7-8.9)\n",
        "# - C (5-6.9)\n",
        "# - D (3-4.9)\n",
        "# - F (0-2.9)\n",
        "nota = float(input(\"Digite a nota do aluno: \"))\n",
        "if nota >= 9:\n",
        "  print('Sua classificação é A')\n",
        "elif nota >= 7:\n",
        "  print('Sua classificação é B')\n",
        "elif nota >= 5:\n",
        "  print('Sua classificação é C')\n",
        "elif nota >= 3:\n",
        "  print('Sua classificação é D')\n",
        "else:\n",
        "  print('Sua classificação é F')"
      ],
      "metadata": {
        "id": "zCoZBt3jpZz_",
        "colab": {
          "base_uri": "https://localhost:8080/"
        },
        "outputId": "c1f72aed-6c73-4018-ad91-4117ab0399e1"
      },
      "execution_count": 3,
      "outputs": [
        {
          "output_type": "stream",
          "name": "stdout",
          "text": [
            "Digite a nota do aluno: 8.9\n",
            "Sua classificação é B\n"
          ]
        }
      ]
    },
    {
      "cell_type": "code",
      "source": [
        "# 6. Solicite o peso e altura do usuário e calcule o IMC. Classifique conforme a tabela:\n",
        "# - Abaixo do peso: < 18.5\n",
        "# - Normal: 18.5 - 24.9\n",
        "# - Sobrepeso: 25 - 29.9\n",
        "# - Obesidade: >= 30\n",
        "num1 = float (input('digite seu peso: '))\n",
        "num2 = float (input('digite  altura: '))\n",
        "imc = num1/(num2*num2)\n",
        "if imc >= 30:\n",
        "  print('Você está obeso')\n",
        "elif imc >= 25:\n",
        "  print('Você está com sobrepeso')\n",
        "elif imc >= 18.5:\n",
        "  print('Você está com o peso normal')\n",
        "else:\n",
        "  print('Você está abaixo do peso')"
      ],
      "metadata": {
        "colab": {
          "base_uri": "https://localhost:8080/"
        },
        "id": "aCzKZVhX4uoI",
        "outputId": "f982c5e8-f7fe-456b-87f7-6b195dcb966f"
      },
      "execution_count": 5,
      "outputs": [
        {
          "output_type": "stream",
          "name": "stdout",
          "text": [
            "digite seu peso: 65.5\n",
            "digite  altura: 1.78\n",
            "Você está com o peso normal\n"
          ]
        }
      ]
    },
    {
      "cell_type": "code",
      "source": [
        "# 7. Peça uma letra ao usuário e diga se é vogal ou consoante:\n",
        "letra = input(\"Digite uma letra: \").lower()\n",
        "if letra in \"aeiou\":\n",
        "  print(\"A letra é uma vogal.\")\n",
        "elif letra in \"bcdfghjklmnpqrstvwxyz\":\n",
        "  print(\"A letra é uma consoante.\")\n",
        "else:\n",
        "  print(\"verifique se você digitou uma letra válida, e tente novamente!\")"
      ],
      "metadata": {
        "colab": {
          "base_uri": "https://localhost:8080/"
        },
        "id": "DwLSvD9T5iP2",
        "outputId": "c5491b48-54ad-4e42-ca81-3cd3930d5f18"
      },
      "execution_count": 10,
      "outputs": [
        {
          "output_type": "stream",
          "name": "stdout",
          "text": [
            "Digite uma letra: g\n",
            "A letra é uma consoante.\n"
          ]
        }
      ]
    },
    {
      "cell_type": "code",
      "source": [
        "# 8. Solicite o valor da compra e aplique descontos:\n",
        "# - Até R$ 100,00 → sem desconto\n",
        "# - De R$ 100,01 a R$ 500,00 → 10% de desconto\n",
        "# - Acima de R$ 500,00 → 20% de desconto\n",
        "valor = float(input(\"Digite o valor da compra: \"))\n",
        "if valor <= 100:\n",
        "  print(\"Sem desconto.\")\n",
        "elif valor <= 500:\n",
        "  desconto = valor * 0.1\n",
        "  valor_com_desconto = valor - desconto\n",
        "  print(f\"Valor com desconto: R${valor_com_desconto:.2f}\")\n",
        "else:\n",
        "  desconto = valor * 0.2\n",
        "  valor_com_desconto = valor - desconto\n",
        "print(f\"Valor com desconto: R${valor_com_desconto:.2f}\")\n"
      ],
      "metadata": {
        "colab": {
          "base_uri": "https://localhost:8080/"
        },
        "id": "YrWqP9Mi6LwV",
        "outputId": "1ee2359e-ff4e-4c85-d106-8c60cf58cd4f"
      },
      "execution_count": 28,
      "outputs": [
        {
          "output_type": "stream",
          "name": "stdout",
          "text": [
            "Digite o valor da compra: 650\n",
            "Valor com desconto: R$520.00\n"
          ]
        }
      ]
    },
    {
      "cell_type": "code",
      "source": [
        "# 9. Crie um programa que calcula o preço do estacionamento:\n",
        "# - Até 2h → R$ 5,00 por hora\n",
        "# - De 2h a 5h → R$ 4,00 por hora\n",
        "# - Mais de 5h → R$ 3,00 por hora\n",
        "from datetime import datetime\n",
        "tempo = input(\"Digite o tempo de estacionamento: (HH:MM) \")\n",
        "hrs = int(datetime.strptime(tempo, 'H%:%M').hour)\n",
        "min = int(datetime.strptime(tempo, 'H%:%M').minute)\n",
        "if min > 15:\n",
        "  hrs+=1\n",
        "if hrs <= 2:\n",
        "  print(f'O preço do estacionamento é de R${hrs*5:.2f}')\n",
        "elif hrs <= 5:\n",
        "  print(f'O preço do estacionamento é de R${hrs*4:.2f}')\n",
        "else:\n",
        "    print(f'O preço do estacionamento é de R${hrs*3:.2f}')"
      ],
      "metadata": {
        "colab": {
          "base_uri": "https://localhost:8080/",
          "height": 373
        },
        "id": "mnYKhbqmAq3h",
        "outputId": "241c74e5-cbbf-43ba-b0c5-f653e624736e"
      },
      "execution_count": 44,
      "outputs": [
        {
          "name": "stdout",
          "output_type": "stream",
          "text": [
            "Digite o tempo de estacionamento: (HH:MM) 3:40\n"
          ]
        },
        {
          "output_type": "error",
          "ename": "ValueError",
          "evalue": "':' is a bad directive in format 'H%:%M'",
          "traceback": [
            "\u001b[0;31m---------------------------------------------------------------------------\u001b[0m",
            "\u001b[0;31mValueError\u001b[0m                                Traceback (most recent call last)",
            "\u001b[0;32m<ipython-input-44-6f3863127113>\u001b[0m in \u001b[0;36m<cell line: 0>\u001b[0;34m()\u001b[0m\n\u001b[1;32m      5\u001b[0m \u001b[0;32mfrom\u001b[0m \u001b[0mdatetime\u001b[0m \u001b[0;32mimport\u001b[0m \u001b[0mdatetime\u001b[0m\u001b[0;34m\u001b[0m\u001b[0;34m\u001b[0m\u001b[0m\n\u001b[1;32m      6\u001b[0m \u001b[0mtempo\u001b[0m \u001b[0;34m=\u001b[0m \u001b[0minput\u001b[0m\u001b[0;34m(\u001b[0m\u001b[0;34m\"Digite o tempo de estacionamento: (HH:MM) \"\u001b[0m\u001b[0;34m)\u001b[0m\u001b[0;34m\u001b[0m\u001b[0;34m\u001b[0m\u001b[0m\n\u001b[0;32m----> 7\u001b[0;31m \u001b[0mhrs\u001b[0m \u001b[0;34m=\u001b[0m \u001b[0mint\u001b[0m\u001b[0;34m(\u001b[0m\u001b[0mdatetime\u001b[0m\u001b[0;34m.\u001b[0m\u001b[0mstrptime\u001b[0m\u001b[0;34m(\u001b[0m\u001b[0mtempo\u001b[0m\u001b[0;34m,\u001b[0m \u001b[0;34m'H%:%M'\u001b[0m\u001b[0;34m)\u001b[0m\u001b[0;34m.\u001b[0m\u001b[0mhour\u001b[0m\u001b[0;34m)\u001b[0m\u001b[0;34m\u001b[0m\u001b[0;34m\u001b[0m\u001b[0m\n\u001b[0m\u001b[1;32m      8\u001b[0m \u001b[0mmin\u001b[0m \u001b[0;34m=\u001b[0m \u001b[0mint\u001b[0m\u001b[0;34m(\u001b[0m\u001b[0mdatetime\u001b[0m\u001b[0;34m.\u001b[0m\u001b[0mstrptime\u001b[0m\u001b[0;34m(\u001b[0m\u001b[0mtempo\u001b[0m\u001b[0;34m,\u001b[0m \u001b[0;34m'H%:%M'\u001b[0m\u001b[0;34m)\u001b[0m\u001b[0;34m.\u001b[0m\u001b[0mminute\u001b[0m\u001b[0;34m)\u001b[0m\u001b[0;34m\u001b[0m\u001b[0;34m\u001b[0m\u001b[0m\n\u001b[1;32m      9\u001b[0m \u001b[0;32mif\u001b[0m \u001b[0mmin\u001b[0m \u001b[0;34m>\u001b[0m \u001b[0;36m15\u001b[0m\u001b[0;34m:\u001b[0m\u001b[0;34m\u001b[0m\u001b[0;34m\u001b[0m\u001b[0m\n",
            "\u001b[0;32m/usr/lib/python3.11/_strptime.py\u001b[0m in \u001b[0;36m_strptime_datetime\u001b[0;34m(cls, data_string, format)\u001b[0m\n\u001b[1;32m    565\u001b[0m     \"\"\"Return a class cls instance based on the input string and the\n\u001b[1;32m    566\u001b[0m     format string.\"\"\"\n\u001b[0;32m--> 567\u001b[0;31m     \u001b[0mtt\u001b[0m\u001b[0;34m,\u001b[0m \u001b[0mfraction\u001b[0m\u001b[0;34m,\u001b[0m \u001b[0mgmtoff_fraction\u001b[0m \u001b[0;34m=\u001b[0m \u001b[0m_strptime\u001b[0m\u001b[0;34m(\u001b[0m\u001b[0mdata_string\u001b[0m\u001b[0;34m,\u001b[0m \u001b[0mformat\u001b[0m\u001b[0;34m)\u001b[0m\u001b[0;34m\u001b[0m\u001b[0;34m\u001b[0m\u001b[0m\n\u001b[0m\u001b[1;32m    568\u001b[0m     \u001b[0mtzname\u001b[0m\u001b[0;34m,\u001b[0m \u001b[0mgmtoff\u001b[0m \u001b[0;34m=\u001b[0m \u001b[0mtt\u001b[0m\u001b[0;34m[\u001b[0m\u001b[0;34m-\u001b[0m\u001b[0;36m2\u001b[0m\u001b[0;34m:\u001b[0m\u001b[0;34m]\u001b[0m\u001b[0;34m\u001b[0m\u001b[0;34m\u001b[0m\u001b[0m\n\u001b[1;32m    569\u001b[0m     \u001b[0margs\u001b[0m \u001b[0;34m=\u001b[0m \u001b[0mtt\u001b[0m\u001b[0;34m[\u001b[0m\u001b[0;34m:\u001b[0m\u001b[0;36m6\u001b[0m\u001b[0;34m]\u001b[0m \u001b[0;34m+\u001b[0m \u001b[0;34m(\u001b[0m\u001b[0mfraction\u001b[0m\u001b[0;34m,\u001b[0m\u001b[0;34m)\u001b[0m\u001b[0;34m\u001b[0m\u001b[0;34m\u001b[0m\u001b[0m\n",
            "\u001b[0;32m/usr/lib/python3.11/_strptime.py\u001b[0m in \u001b[0;36m_strptime\u001b[0;34m(data_string, format)\u001b[0m\n\u001b[1;32m    339\u001b[0m                     \u001b[0mbad_directive\u001b[0m \u001b[0;34m=\u001b[0m \u001b[0;34m\"%\"\u001b[0m\u001b[0;34m\u001b[0m\u001b[0;34m\u001b[0m\u001b[0m\n\u001b[1;32m    340\u001b[0m                 \u001b[0;32mdel\u001b[0m \u001b[0merr\u001b[0m\u001b[0;34m\u001b[0m\u001b[0;34m\u001b[0m\u001b[0m\n\u001b[0;32m--> 341\u001b[0;31m                 raise ValueError(\"'%s' is a bad directive in format '%s'\" %\n\u001b[0m\u001b[1;32m    342\u001b[0m                                     (bad_directive, format)) from None\n\u001b[1;32m    343\u001b[0m             \u001b[0;31m# IndexError only occurs when the format string is \"%\"\u001b[0m\u001b[0;34m\u001b[0m\u001b[0;34m\u001b[0m\u001b[0m\n",
            "\u001b[0;31mValueError\u001b[0m: ':' is a bad directive in format 'H%:%M'"
          ]
        }
      ]
    }
  ]
}