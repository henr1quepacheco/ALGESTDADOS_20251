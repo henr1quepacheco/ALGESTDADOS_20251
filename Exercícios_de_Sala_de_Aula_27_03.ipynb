{
  "nbformat": 4,
  "nbformat_minor": 0,
  "metadata": {
    "colab": {
      "provenance": [],
      "authorship_tag": "ABX9TyNl6IF7X3YumOhbA4pCrc2q",
      "include_colab_link": true
    },
    "kernelspec": {
      "name": "python3",
      "display_name": "Python 3"
    },
    "language_info": {
      "name": "python"
    }
  },
  "cells": [
    {
      "cell_type": "markdown",
      "metadata": {
        "id": "view-in-github",
        "colab_type": "text"
      },
      "source": [
        "<a href=\"https://colab.research.google.com/github/henr1quepacheco/ALGESTDADOS_20251/blob/main/Exerc%C3%ADcios_de_Sala_de_Aula_27_03.ipynb\" target=\"_parent\"><img src=\"https://colab.research.google.com/assets/colab-badge.svg\" alt=\"Open In Colab\"/></a>"
      ]
    },
    {
      "cell_type": "code",
      "execution_count": null,
      "metadata": {
        "colab": {
          "base_uri": "https://localhost:8080/"
        },
        "id": "iVY_yrGCZRzY",
        "outputId": "d1811bf7-e6be-4f1f-f609-1421ce975c04"
      },
      "outputs": [
        {
          "output_type": "stream",
          "name": "stdout",
          "text": [
            "Digite o primeiro lado do triângulo: 87\n",
            "Digite o segundo lado do triângulo: 87\n",
            "Digite o terceiro lado do triângulo: 87\n",
            "O triângulo é equilátero.\n"
          ]
        }
      ],
      "source": [
        "# 1. Peça ao usuário três lados de um triângulo e classifique-o como equilátero, isósceles ou escaleno.\n",
        "lado1 = float(input(\"Digite o primeiro lado do triângulo: \"))\n",
        "lado2 = float(input(\"Digite o segundo lado do triângulo: \"))\n",
        "lado3 = float(input(\"Digite o terceiro lado do triângulo: \"))\n",
        "if lado1 == lado2 == lado3:\n",
        "  print(\"O triângulo é equilátero.\")\n",
        "elif lado1 == lado2 or lado1 == lado3 or lado2 == lado3:\n",
        "  print(\"O triângulo é isósceles.\")\n",
        "else:\n",
        "  print(\"O triângulo é escaleno.\")"
      ]
    },
    {
      "cell_type": "code",
      "source": [
        "\n",
        "#2-Peça ao usuário um horário no formato 24h (por exemplo, 13:45) e converta para o formato 12h com AM/PM.\n",
        "\n",
        "from datetime import datetime\n",
        "\n",
        "horario = input('Digite a hora desejada (HH:MM):')\n",
        "\n",
        "hora = int(datetime.strptime (horario, '%H:%M').hour)\n",
        "\n",
        "minuto = int(datetime.strptime (horario, '%H:%M').minute)\n",
        "\n",
        "if hora > 12:\n",
        "\n",
        "  hora = hora - 12\n",
        "\n",
        "  print(f\" {hora}:{minuto} PM\")\n",
        "\n",
        "elif hora - 12:\n",
        "\n",
        "  print(f'{horario}PM')\n",
        "\n",
        "else:\n",
        "  print(f'{horario} AM')"
      ],
      "metadata": {
        "colab": {
          "base_uri": "https://localhost:8080/"
        },
        "id": "OFaL03RLbDmz",
        "outputId": "02d4d2d3-d39b-4c05-b034-21cd0104eaeb"
      },
      "execution_count": 23,
      "outputs": [
        {
          "output_type": "stream",
          "name": "stdout",
          "text": [
            "Digite a hora desejada (HH:MM):22:50\n",
            " 10:50 PM\n"
          ]
        }
      ]
    },
    {
      "cell_type": "code",
      "source": [
        "# 3. Solicite a idade de um nadador e classifique-o em uma categoria:\n",
        "# - Até 7 anos → Mirim\n",
        "# - 8 a 10 anos → Infantil\n",
        "# - 11 a 13 anos → Juvenil\n",
        "# - 14 a 17 anos → Júnior\n",
        "# - 18 anos ou mais → Sênior\n",
        "idade = int(input(\"Digite a idade do nadador: \"))\n",
        "if idade <= 7:\n",
        "  print(\"Categoria: Mirim\")\n",
        "elif idade <= 10:\n",
        "  print(\"Categoria: Infantil\")\n",
        "elif idade <= 13:\n",
        "  print(\"Categoria: Juvenil\")\n",
        "elif idade <= 17:\n",
        "  print(\"Categoria: Júnior\")\n",
        "else:\n",
        "  print(\"Categoria: Sênior\")"
      ],
      "metadata": {
        "id": "9SE3oOjdcGSo",
        "colab": {
          "base_uri": "https://localhost:8080/"
        },
        "outputId": "d6058512-1da6-415d-b464-941fd91543ec"
      },
      "execution_count": null,
      "outputs": [
        {
          "output_type": "stream",
          "name": "stdout",
          "text": [
            "Digite a idade do nadador: 99\n",
            "Categoria: Sênior\n"
          ]
        }
      ]
    },
    {
      "cell_type": "code",
      "source": [
        "# 4. Simule uma partida de Pedra, Papel e Tesoura entre o usuário e o computador (sem aleatoriedade, o jogador deve escolher as duas opções).\n",
        "jogador1 = input(\"Jogador 1, escolha Pedra, Papel ou Tesoura: \").lower()\n",
        "jogador2 = input(\"Jogador 2, escolha Pedra, Papel ou Tesoura: \").lower()\n",
        "if jogador1 == jogador2:\n",
        "  print(\"Empate!\")\n",
        "elif jogador1 == \"pedra\":\n",
        "  if jogador2 == \"tesoura\":\n",
        "    print(\"Jogador 1 vence!\")\n",
        "  else:\n",
        "    print(\"Jogador 2 vence!\")\n",
        "elif jogador1 == \"papel\":\n",
        "  if jogador2 == \"pedra\":\n",
        "    print(\"Jogador 1 vence!\")\n",
        "  else:\n",
        "    print(\"Jogador 2 vence!\")\n",
        "elif jogador1 == \"tesoura\":\n",
        "  if jogador2 == \"papel\":\n",
        "    print(\"Jogador 1 vence!\")\n",
        "  else:\n",
        "    print(\"Jogador 2 vence!\")\n",
        "else:\n",
        "  print(\"Opção inválida.\")\n"
      ],
      "metadata": {
        "colab": {
          "base_uri": "https://localhost:8080/"
        },
        "id": "6-vX030Sev-E",
        "outputId": "bd42fb4a-c3cf-4ff5-cdab-eb32d4197e5d"
      },
      "execution_count": null,
      "outputs": [
        {
          "output_type": "stream",
          "name": "stdout",
          "text": [
            "Jogador 1, escolha Pedra, Papel ou Tesoura: pedra\n",
            "Jogador 2, escolha Pedra, Papel ou Tesoura: papel\n",
            "Jogador 2 vence!\n"
          ]
        }
      ]
    },
    {
      "cell_type": "code",
      "source": [
        "# 5. Peça uma nota de 0 a 10 e classifique-a:\n",
        "# - A (9-10)\n",
        "# - B (7-8.9)\n",
        "# - C (5-6.9)\n",
        "# - D (3-4.9)\n",
        "# - F (0-2.9)\n",
        "nota = float(input(\"Digite a nota do aluno: \"))\n",
        "if nota >="
      ],
      "metadata": {
        "id": "zCoZBt3jpZz_"
      },
      "execution_count": null,
      "outputs": []
    }
  ]
}