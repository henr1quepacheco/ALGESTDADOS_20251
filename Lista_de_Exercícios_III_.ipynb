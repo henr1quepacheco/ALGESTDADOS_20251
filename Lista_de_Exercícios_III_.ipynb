{
  "nbformat": 4,
  "nbformat_minor": 0,
  "metadata": {
    "colab": {
      "provenance": [],
      "include_colab_link": true
    },
    "kernelspec": {
      "name": "python3",
      "display_name": "Python 3"
    },
    "language_info": {
      "name": "python"
    }
  },
  "cells": [
    {
      "cell_type": "markdown",
      "metadata": {
        "id": "view-in-github",
        "colab_type": "text"
      },
      "source": [
        "<a href=\"https://colab.research.google.com/github/henr1quepacheco/ALGESTDADOS_20251/blob/main/Lista_de_Exerc%C3%ADcios_III_.ipynb\" target=\"_parent\"><img src=\"https://colab.research.google.com/assets/colab-badge.svg\" alt=\"Open In Colab\"/></a>"
      ]
    },
    {
      "cell_type": "markdown",
      "source": [
        "KAYLANY SOARES CORREA | HENRIQUE PACHECO MOREIRA"
      ],
      "metadata": {
        "id": "E-QF35N9ffO5"
      }
    },
    {
      "cell_type": "code",
      "source": [
        "#1. Crie uma lista com 15 números inteiros digitados pelo usuário. Em seguida, remova todos os números repetidos, mantendo a ordem original.\n",
        "numeros = []\n",
        "print(\"Digite 15 números inteiros:\")\n",
        "for i in range(15):\n",
        "    numero = int(input(f\"Digite o {i+1}º número: \"))\n",
        "    numeros.append(numero)\n",
        "numeros_sem_repetidos = []\n",
        "for num in numeros:\n",
        "    if num not in numeros_sem_repetidos:\n",
        "        numeros_sem_repetidos.append(num)\n",
        "print(\"\\nLista sem números repetidos (ordem original mantida):\")\n",
        "print(numeros_sem_repetidos)\n"
      ],
      "metadata": {
        "id": "xj6sEA34fxEE",
        "colab": {
          "base_uri": "https://localhost:8080/"
        },
        "outputId": "133a4217-a960-4fa0-a92f-32dc4e423108"
      },
      "execution_count": null,
      "outputs": [
        {
          "output_type": "stream",
          "name": "stdout",
          "text": [
            "Digite 15 números inteiros:\n",
            "Digite o 1º número: 5\n",
            "Digite o 2º número: 3\n",
            "Digite o 3º número: 5\n",
            "Digite o 4º número: 2\n",
            "Digite o 5º número: 3\n",
            "Digite o 6º número: 6\n",
            "Digite o 7º número: 7\n",
            "Digite o 8º número: 8\n",
            "Digite o 9º número: 8\n",
            "Digite o 10º número: 7\n",
            "Digite o 11º número: 6\n",
            "Digite o 12º número: 9\n",
            "Digite o 13º número: 3\n",
            "Digite o 14º número: 1\n",
            "Digite o 15º número: 0\n",
            "\n",
            "Lista sem números repetidos (ordem original mantida):\n",
            "[5, 3, 2, 6, 7, 8, 9, 1, 0]\n"
          ]
        }
      ]
    },
    {
      "cell_type": "code",
      "source": [
        "#2. Escreva um programa que leia 10 nomes e 10 idades. Armazene os nomes em uma lista e as idades em outra. Em seguida, exiba o nome da pessoa mais velha.\n",
        "nomes = []\n",
        "idades = []\n",
        "print(\"Digite o nome e a idade de 10 pessoas:\")\n",
        "for i in range(10):\n",
        "    nome = input(f\"Nome da {i+1}ª pessoa: \")\n",
        "    idade = int(input(f\"Idade da {i+1}ª pessoa: \"))\n",
        "    nomes.append(nome)\n",
        "    idades.append(idade)\n",
        "maior_idade = idades[0]\n",
        "indice_mais_velho = 0\n",
        "for i in range(1, 10):\n",
        "    if idades[i] > maior_idade:\n",
        "        maior_idade = idades[i]\n",
        "        indice_mais_velho = i\n",
        "print(\"nome da pessoa mais velha é:\", nomes[indice_mais_velho])\n"
      ],
      "metadata": {
        "id": "fKDGHM-jw09n",
        "colab": {
          "base_uri": "https://localhost:8080/"
        },
        "outputId": "d9fa42b7-f131-46d1-f56d-b41c75e7fd0a"
      },
      "execution_count": null,
      "outputs": [
        {
          "output_type": "stream",
          "name": "stdout",
          "text": [
            "Digite o nome e a idade de 10 pessoas:\n",
            "Nome da 1ª pessoa: sara\n",
            "Idade da 1ª pessoa: 12\n",
            "Nome da 2ª pessoa: francisco\n",
            "Idade da 2ª pessoa: 18\n",
            "Nome da 3ª pessoa: pedro\n",
            "Idade da 3ª pessoa: 19\n",
            "Nome da 4ª pessoa: lucas\n",
            "Idade da 4ª pessoa: 20\n",
            "Nome da 5ª pessoa: wesley\n",
            "Idade da 5ª pessoa: 22\n",
            "Nome da 6ª pessoa: tiana\n",
            "Idade da 6ª pessoa: 88\n",
            "Nome da 7ª pessoa: tião\n",
            "Idade da 7ª pessoa: 76\n",
            "Nome da 8ª pessoa: ester\n",
            "Idade da 8ª pessoa: 111\n",
            "Nome da 9ª pessoa: gerson\n",
            "Idade da 9ª pessoa: 32\n",
            "Nome da 10ª pessoa: luiz\n",
            "Idade da 10ª pessoa: 22\n",
            "nome da pessoa mais velha é: ester\n"
          ]
        }
      ]
    },
    {
      "cell_type": "code",
      "source": [
        "#3. Faça um programa que leia uma lista de 10 números e divida todos os valores ímpares por 3 e os pares por 2, substituindo os valores originais.\n",
        "numeros = []\n",
        "print(\"Digite 10 números inteiros:\")\n",
        "for i in range(10):\n",
        "    num = int(input(f\"Digite o {i+1}º número: \"))\n",
        "    numeros.append(num)\n",
        "for i in range(10):\n",
        "    if numeros[i] % 2 == 0:\n",
        "        numeros[i] = numeros[i] / 2\n",
        "    else:\n",
        "        numeros[i] = numeros[i] / 3\n",
        "print(\"\\nLista com os valores modificados:\")\n",
        "print(numeros)\n"
      ],
      "metadata": {
        "id": "QgGtIyg5w4XY",
        "colab": {
          "base_uri": "https://localhost:8080/"
        },
        "outputId": "aafb2b66-d1f8-4962-d613-5a8ab4a5252d"
      },
      "execution_count": null,
      "outputs": [
        {
          "output_type": "stream",
          "name": "stdout",
          "text": [
            "Digite 10 números inteiros:\n",
            "Digite o 1º número: 2\n",
            "Digite o 2º número: 3\n",
            "Digite o 3º número: 4\n",
            "Digite o 4º número: 5\n",
            "Digite o 5º número: 6\n",
            "Digite o 6º número: 7\n",
            "Digite o 7º número: 8\n",
            "Digite o 8º número: 9\n",
            "Digite o 9º número: 2\n",
            "Digite o 10º número: 3\n",
            "\n",
            "Lista com os valores modificados:\n",
            "[1.0, 1.0, 2.0, 1.6666666666666667, 3.0, 2.3333333333333335, 4.0, 3.0, 1.0, 1.0]\n"
          ]
        }
      ]
    },
    {
      "cell_type": "code",
      "source": [
        "#4. Solicite ao usuário uma frase. Armazene em uma lista cada palavra que começa com uma vogal. Exiba a lista resultante.\n",
        "frase = input(\"Digite uma frase: \")\n",
        "palavras = frase.split()\n",
        "vogais = ['a', 'e', 'i', 'o', 'u']\n",
        "palavras_com_vogal = []\n",
        "for palavra in palavras:\n",
        "    if palavra[0].lower() in vogais:\n",
        "        palavras_com_vogal.append(palavra)\n",
        "print(\"Palavras que começam com vogal:\")\n",
        "print(palavras_com_vogal)\n"
      ],
      "metadata": {
        "id": "ixQk7Knuw4j3",
        "colab": {
          "base_uri": "https://localhost:8080/"
        },
        "outputId": "b998ed9e-490d-44a1-dd4e-4d4adea46537"
      },
      "execution_count": null,
      "outputs": [
        {
          "output_type": "stream",
          "name": "stdout",
          "text": [
            "Digite uma frase: era uma vez\n",
            "Palavras que começam com vogal:\n",
            "['era', 'uma']\n"
          ]
        }
      ]
    },
    {
      "cell_type": "code",
      "source": [
        "#5. Leia 10 números inteiros e armazene-os em uma lista. Em seguida, crie uma segunda lista apenas com os números primos da primeira.\n",
        "numeros = []\n",
        "print(\"Digite 10 números inteiros:\")\n",
        "for i in range(10):\n",
        "    num = int(input(f\"Digite o {i+1}º número: \"))\n",
        "    numeros.append(num)\n",
        "primos = []\n",
        "for num in numeros:\n",
        "    if num > 1:\n",
        "        for i in range(2, num):\n",
        "            if (num % i) == 0:\n",
        "                break\n",
        "        else:\n",
        "            primos.append(num)\n",
        "print(\"\\nLista com os números primos:\")\n",
        "print(primos)\n"
      ],
      "metadata": {
        "id": "-q5xbjYvw4s3",
        "colab": {
          "base_uri": "https://localhost:8080/"
        },
        "outputId": "2dcfd5fa-0667-4049-929b-2630f149ac13"
      },
      "execution_count": null,
      "outputs": [
        {
          "output_type": "stream",
          "name": "stdout",
          "text": [
            "Digite 10 números inteiros:\n",
            "Digite o 1º número: 1\n",
            "Digite o 2º número: 2\n",
            "Digite o 3º número: 3\n",
            "Digite o 4º número: 4\n",
            "Digite o 5º número: 5\n",
            "Digite o 6º número: 6\n",
            "Digite o 7º número: 7\n",
            "Digite o 8º número: 8\n",
            "Digite o 9º número: 9\n",
            "Digite o 10º número: 9\n",
            "\n",
            "Lista com os números primos:\n",
            "[2, 3, 5, 7]\n"
          ]
        }
      ]
    },
    {
      "cell_type": "code",
      "source": [
        "#6. Escreva um programa que leia uma lista de 8 elementos e verifique se ela é palíndroma (lê-se igual de trás para frente).\n",
        "lista = []\n",
        "print(\"Digite 8 elementos:\")\n",
        "for i in range(8):\n",
        "    elemento = input(f\"Digite o {i+1}º elemento: \")\n",
        "    lista.append(elemento)\n",
        "    if lista[i] != lista[-i-1]:\n",
        "        print(\"A lista não é palíndroma.\")\n",
        "        break\n",
        "else:\n",
        "    print(\"A lista é palíndroma.\")\n"
      ],
      "metadata": {
        "id": "ydaXqIKdw45v",
        "colab": {
          "base_uri": "https://localhost:8080/"
        },
        "outputId": "e556dfc4-f4db-492e-b7c9-c406beb41059"
      },
      "execution_count": null,
      "outputs": [
        {
          "output_type": "stream",
          "name": "stdout",
          "text": [
            "Digite 8 elementos:\n",
            "Digite o 1º elemento: a\n",
            "Digite o 2º elemento: d\n",
            "A lista não é palíndroma.\n"
          ]
        }
      ]
    },
    {
      "cell_type": "code",
      "source": [
        "#7. Crie duas listas com 10 números inteiros aleatórios entre 1 e 100. Gere uma terceira lista contendo apenas os elementos que estão presentes em ambas (interseção).\n",
        "import random\n",
        "lista1 = []\n",
        "lista2 = []\n",
        "for i in range(10):\n",
        "    lista1.append(random.randint(1, 100))\n",
        "    lista2.append(random.randint(1, 100))\n",
        "intersecao = []\n",
        "for num in lista1:\n",
        "    if num in lista2 and num not in intersecao:\n",
        "        intersecao.append(num)\n",
        "print(\"Lista 1:\", lista1)\n",
        "print(\"Lista 2:\", lista2)"
      ],
      "metadata": {
        "id": "-lbVF8SAw5C3",
        "colab": {
          "base_uri": "https://localhost:8080/"
        },
        "outputId": "ecf395bb-ca5e-40ed-c15e-2af8d43a65a7"
      },
      "execution_count": null,
      "outputs": [
        {
          "output_type": "stream",
          "name": "stdout",
          "text": [
            "Lista 1: [71, 85, 43, 54, 79, 31, 4, 100, 45, 83]\n",
            "Lista 2: [54, 99, 1, 43, 31, 44, 20, 21, 18, 79]\n"
          ]
        }
      ]
    },
    {
      "cell_type": "code",
      "source": [
        "#8. Faça um programa que simule o sorteio de 6 números da Mega-Sena (entre 1 e 60) sem repetição. Armazene em uma lista e exiba.\n",
        "import random\n",
        "numeros = []\n",
        "while len(numeros) < 6:\n",
        "    num = random.randint(1, 60)\n",
        "    if num not in numeros:\n",
        "        numeros.append(num)\n",
        "print(\"Números sorteados:\", numeros)\n"
      ],
      "metadata": {
        "id": "CXNnsNlHw5L3",
        "colab": {
          "base_uri": "https://localhost:8080/"
        },
        "outputId": "672d6d98-5f96-47ad-b805-5fa5e0e726e9"
      },
      "execution_count": null,
      "outputs": [
        {
          "output_type": "stream",
          "name": "stdout",
          "text": [
            "Números sorteados: [6, 31, 24, 33, 1, 20]\n"
          ]
        }
      ]
    },
    {
      "cell_type": "code",
      "source": [
        "#9. Solicite ao usuário uma lista de 10 números. Crie uma nova lista onde cada elemento é o somatório de todos os elementos anteriores da lista original.\n",
        "numeros = []\n",
        "print(\"Digite 10 números inteiros:\")\n",
        "for i in range(10):\n",
        "    num = int(input(f\"Digite o {i+1}º número: \"))\n",
        "    numeros.append(num)\n",
        "    if i > 0:\n",
        "        numeros[i] += numeros[i-1]\n",
        "print(\"3Lista com o somatório dos elementos anteriores:\")\n",
        "print(numeros)"
      ],
      "metadata": {
        "id": "NvFPraEYw5TQ",
        "colab": {
          "base_uri": "https://localhost:8080/"
        },
        "outputId": "a89af516-860e-4f49-9ebb-9a9bd3bd488d"
      },
      "execution_count": null,
      "outputs": [
        {
          "output_type": "stream",
          "name": "stdout",
          "text": [
            "Digite 10 números inteiros:\n",
            "Digite o 1º número: 2\n",
            "Digite o 2º número: 2\n",
            "Digite o 3º número: 3\n",
            "Digite o 4º número: 3\n",
            "Digite o 5º número: 4\n",
            "Digite o 6º número: 4\n",
            "Digite o 7º número: 5\n",
            "Digite o 8º número: 5\n",
            "Digite o 9º número: 6\n",
            "Digite o 10º número: 6\n",
            "Lista com o somatório dos elementos anteriores:\n",
            "[2, 4, 7, 10, 14, 18, 23, 28, 34, 40]\n"
          ]
        }
      ]
    },
    {
      "cell_type": "code",
      "source": [
        "#10. Implemente uma lista de nomes e remova todos que tenham mais de 10 caracteres.\n",
        "nomes = []\n",
        "print(\"Digite 10 nomes:\")\n",
        "for i in range(10):\n",
        "    nome = input(f\"Digite o {i+1}º nome: \")\n",
        "    nomes.append(nome)\n",
        "    if len(nome) > 10:\n",
        "        nomes.remove(nome)\n",
        "print(\"Lista sem nomes com mais de 10 caracteres:\")\n",
        "print(nomes)\n"
      ],
      "metadata": {
        "id": "Hptrt4Wyw5bA",
        "colab": {
          "base_uri": "https://localhost:8080/"
        },
        "outputId": "0cb3aef9-d0a0-46f3-e80b-9969ea35c3a5"
      },
      "execution_count": null,
      "outputs": [
        {
          "output_type": "stream",
          "name": "stdout",
          "text": [
            "Digite 10 nomes:\n",
            "Digite o 1º nome: ana\n",
            "Digite o 2º nome: marinalva\n",
            "Digite o 3º nome: patricia\n",
            "Digite o 4º nome: marinalvos\n",
            "Digite o 5º nome: trevo\n",
            "Digite o 6º nome: rosaria\n",
            "Digite o 7º nome: rosario\n",
            "Digite o 8º nome: sara\n",
            "Digite o 9º nome: davi\n",
            "Digite o 10º nome: eloa\n",
            "Lista sem nomes com mais de 10 caracteres:\n",
            "['ana', 'marinalva', 'patricia', 'marinalvos', 'trevo', 'rosaria', 'rosario', 'sara', 'davi', 'eloa']\n"
          ]
        }
      ]
    },
    {
      "cell_type": "code",
      "source": [
        "#11. Crie uma matriz 4x4 com valores fornecidos pelo usuário. Exiba a soma dos elementos da diagonal secundária.\n",
        "matriz = []\n",
        "for i in range(4):\n",
        "    linha = []\n",
        "    for j in range(4):\n",
        "        linha.append(int(input(f'Digite o elemento [{i+1},{j+1}]: ')))\n",
        "    matriz.append(linha)\n",
        "\n",
        "soma_diagonal_secundaria = 0\n",
        "for i in range(4):\n",
        "    for j in range(4):\n",
        "        if i + j == 3:\n",
        "            soma_diagonal_secundaria += matriz[i][j]\n"
      ],
      "metadata": {
        "id": "rG7fEZlLw5iw",
        "colab": {
          "base_uri": "https://localhost:8080/"
        },
        "outputId": "8c1ab5c6-7a83-4d18-a589-e76568264428"
      },
      "execution_count": null,
      "outputs": [
        {
          "name": "stdout",
          "output_type": "stream",
          "text": [
            "Digite o elemento [1,1]: 1\n",
            "Digite o elemento [1,2]: 2\n",
            "Digite o elemento [1,3]: 3\n",
            "Digite o elemento [1,4]: 4\n",
            "Digite o elemento [2,1]: 5\n",
            "Digite o elemento [2,2]: 6\n",
            "Digite o elemento [2,3]: 7\n",
            "Digite o elemento [2,4]: 8\n",
            "Digite o elemento [3,1]: 9\n",
            "Digite o elemento [3,2]: 9\n",
            "Digite o elemento [3,3]: 3\n",
            "Digite o elemento [3,4]: 4\n",
            "Digite o elemento [4,1]: 44\n",
            "Digite o elemento [4,2]: 4\n",
            "Digite o elemento [4,3]: 4\n",
            "Digite o elemento [4,4]: 4\n"
          ]
        }
      ]
    },
    {
      "cell_type": "code",
      "source": [
        "#12. Gere uma matriz 5x5 com números aleatórios entre 1 e 99. Em seguida, calcule a média dos elementos de cada linha e armazene os resultados em uma nova lista.\n",
        "import random\n",
        "matriz = []\n",
        "for i in range(5):\n",
        "    linha = []\n",
        "    for j in range(5):\n",
        "        linha.append(random.randint(1, 99))\n",
        "    matriz.append(linha)\n",
        "\n",
        "medias = []\n",
        "for linha in matriz:\n",
        "    media = sum(linha) / len(linha)\n",
        "    medias.append(media)\n",
        "print(\"Matriz gerada:\")\n",
        "for linha in matriz:\n",
        "    print(linha)\n"
      ],
      "metadata": {
        "id": "6QMFUF-Nw5qI",
        "colab": {
          "base_uri": "https://localhost:8080/"
        },
        "outputId": "ce69adc3-5f89-4230-f4ce-4712b55a119e"
      },
      "execution_count": null,
      "outputs": [
        {
          "output_type": "stream",
          "name": "stdout",
          "text": [
            "Matriz gerada:\n",
            "[19, 91, 23, 15, 21]\n",
            "[2, 2, 90, 85, 63]\n",
            "[99, 30, 87, 53, 41]\n",
            "[11, 81, 50, 98, 3]\n",
            "[98, 47, 85, 96, 59]\n"
          ]
        }
      ]
    },
    {
      "cell_type": "code",
      "source": [
        "#13. Solicite uma matriz 3x3 preenchida pelo usuário. Verifique se ela é uma matriz identidade.\n",
        "matriz = []\n",
        "for i in range(3):\n",
        "    linha = []\n",
        "    for j in range(3):\n",
        "        linha.append(int(input(f'Digite o elemento [{i+1},{j+1}]: ')))\n",
        "    matriz.append(linha)\n",
        "identidade = True\n",
        "for i in range(3):\n",
        "    for j in range(3):\n",
        "        if i == j and matriz[i][j] != 1:\n",
        "            identidade = False\n",
        "            break\n",
        "        elif i != j and matriz[i][j] != 0:\n",
        "            identidade = False\n",
        "            break\n",
        "if identidade:\n",
        "    print(\"É uma matriz identidade.\")\n",
        "else:\n",
        "    print(\"Não é uma matriz identidade.\")"
      ],
      "metadata": {
        "id": "fZUwqZzpw5yY",
        "colab": {
          "base_uri": "https://localhost:8080/"
        },
        "outputId": "4d8d408f-6d10-4ccd-c74a-606ed8922b95"
      },
      "execution_count": null,
      "outputs": [
        {
          "output_type": "stream",
          "name": "stdout",
          "text": [
            "Digite o elemento [1,1]: 1\n",
            "Digite o elemento [1,2]: 2\n",
            "Digite o elemento [1,3]: 3\n",
            "Digite o elemento [2,1]: 2\n",
            "Digite o elemento [2,2]: 2\n",
            "Digite o elemento [2,3]: 3\n",
            "Digite o elemento [3,1]: 3\n",
            "Digite o elemento [3,2]: 2\n",
            "Digite o elemento [3,3]: 3\n",
            "Não é uma matriz identidade.\n"
          ]
        }
      ]
    },
    {
      "cell_type": "code",
      "source": [
        "#14. Faça um programa que leia uma matriz 3x3 e verifique se ela é simétrica (igual à sua transposta).\n",
        "matriz = []\n",
        "for i in range(3):\n",
        "    linha = []\n",
        "    for j in range(3):\n",
        "        linha.append(int(input(f'Digite o elemento [{i+1},{j+1}]: ')))\n",
        "    matriz.append(linha)\n",
        "simetrica = True\n",
        "for i in range(3):\n",
        "    for j in range(3):\n",
        "        if matriz[i][j] != matriz[j][i]:\n",
        "            simetrica = False\n",
        "            break\n",
        "if simetrica:\n",
        "    print(\"É uma matriz simétrica.\")\n",
        "else:\n",
        "    print(\"Não é uma matriz simétrica.\")"
      ],
      "metadata": {
        "id": "lykLgpacw554",
        "colab": {
          "base_uri": "https://localhost:8080/"
        },
        "outputId": "065d3b09-6ef3-4292-d34a-733e2da4f666"
      },
      "execution_count": null,
      "outputs": [
        {
          "output_type": "stream",
          "name": "stdout",
          "text": [
            "Digite o elemento [1,1]: 1\n",
            "Digite o elemento [1,2]: 2\n",
            "Digite o elemento [1,3]: 3\n",
            "Digite o elemento [2,1]: 2\n",
            "Digite o elemento [2,2]: 2\n",
            "Digite o elemento [2,3]: 2\n",
            "Digite o elemento [3,1]: 3\n",
            "Digite o elemento [3,2]: 3\n",
            "Digite o elemento [3,3]: 3\n",
            "Não é uma matriz simétrica.\n"
          ]
        }
      ]
    },
    {
      "cell_type": "code",
      "source": [
        "#15. Crie uma matriz 5x3 onde cada elemento é igual ao produto de sua linha pelo valor da coluna. Exiba a matriz completa.\n",
        "matriz = []\n",
        "for i in range(5):\n",
        "    linha = []\n",
        "    for j in range(3):\n",
        "        linha.append(i * j)\n",
        "    matriz.append(linha)\n",
        "print(\"Matriz completa:\")\n",
        "for linha in matriz:\n",
        "    print(linha)\n"
      ],
      "metadata": {
        "id": "ZT_sRuU-w6BQ",
        "colab": {
          "base_uri": "https://localhost:8080/"
        },
        "outputId": "9aa7bdc6-020c-4725-e4e6-4433ece6bb5c"
      },
      "execution_count": null,
      "outputs": [
        {
          "output_type": "stream",
          "name": "stdout",
          "text": [
            "Matriz completa:\n",
            "[0, 0, 0]\n",
            "[0, 1, 2]\n",
            "[0, 2, 4]\n",
            "[0, 3, 6]\n",
            "[0, 4, 8]\n"
          ]
        }
      ]
    },
    {
      "cell_type": "code",
      "source": [
        "#16. Crie uma matriz 4x4 com números fornecidos pelo usuário. Encontre o menor valor de cada coluna e armazene em uma lista separada.\n",
        "matriz = []\n",
        "for i in range(4):\n",
        "    linha = []\n",
        "    for j in range(4):\n",
        "        linha.append(int(input(f'Digite o elemento [{i+1},{j+1}]: ')))\n",
        "    matriz.append(linha)\n",
        "\n",
        "menores_colunas = []\n",
        "for j in range(4):\n",
        "    menor = matriz[0][j]\n",
        "    for i in range(1, 4):\n",
        "        if matriz[i][j] < menor:\n",
        "            menor = matriz[i][j]\n",
        "    menores_colunas.append(menor)\n",
        "print('Menores de cada coluna:', menores_colunas)"
      ],
      "metadata": {
        "colab": {
          "base_uri": "https://localhost:8080/"
        },
        "id": "BrUEG3Dut-Hu",
        "outputId": "8fc0cf22-2cd3-4c90-a2e8-df76e1e4d9b9"
      },
      "execution_count": null,
      "outputs": [
        {
          "output_type": "stream",
          "name": "stdout",
          "text": [
            "Digite o elemento [1,1]: 8\n",
            "Digite o elemento [1,2]: 9\n",
            "Digite o elemento [1,3]: 7\n",
            "Digite o elemento [1,4]: 4\n",
            "Digite o elemento [2,1]: 1\n",
            "Digite o elemento [2,2]: 0\n",
            "Digite o elemento [2,3]: 9\n",
            "Digite o elemento [2,4]: 8\n",
            "Digite o elemento [3,1]: 6\n",
            "Digite o elemento [3,2]: 80\n",
            "Digite o elemento [3,3]: 09\n",
            "Digite o elemento [3,4]: 87\n",
            "Digite o elemento [4,1]: 67\n",
            "Digite o elemento [4,2]: 54\n",
            "Digite o elemento [4,3]: 75\n",
            "Digite o elemento [4,4]: 75\n",
            "Menores de cada coluna: [1, 0, 7, 4]\n"
          ]
        }
      ]
    },
    {
      "cell_type": "code",
      "source": [
        "#17. Dada uma matriz 3x3 com valores reais, calcule o determinante (sem usar bibliotecas externas).\n",
        "matriz = []\n",
        "for i in range(3):\n",
        "    linha = []\n",
        "    for j in range(3):\n",
        "        linha.append(float(input(f'Digite o elemento [{i+1},{j+1}]: ')))\n",
        "    matriz.append(linha)\n",
        "\n",
        "a = matriz[0][0]*(matriz[1][1]*matriz[2][2] - matriz[1][2]*matriz[2][1])\n",
        "b = matriz[0][1]*(matriz[1][0]*matriz[2][2] - matriz[1][2]*matriz[2][0])\n",
        "c = matriz[0][2]*(matriz[1][0]*matriz[2][1] - matriz[1][1]*matriz[2][0])\n",
        "det = a - b + c\n",
        "print('Determinante:', det)"
      ],
      "metadata": {
        "colab": {
          "base_uri": "https://localhost:8080/"
        },
        "id": "8zczcn4OuAGK",
        "outputId": "d695167c-32bd-4393-ae03-0e5060c69339"
      },
      "execution_count": null,
      "outputs": [
        {
          "output_type": "stream",
          "name": "stdout",
          "text": [
            "Digite o elemento [1,1]: 9\n",
            "Digite o elemento [1,2]: 0\n",
            "Digite o elemento [1,3]: 7\n",
            "Digite o elemento [2,1]: 8\n",
            "Digite o elemento [2,2]: 6\n",
            "Digite o elemento [2,3]: 4\n",
            "Digite o elemento [3,1]: 8\n",
            "Digite o elemento [3,2]: 7\n",
            "Digite o elemento [3,3]: 9\n",
            "Determinante: 290.0\n"
          ]
        }
      ]
    },
    {
      "cell_type": "code",
      "source": [
        "#18. Faça um programa que leia duas matrizes 3x3 e calcule a matriz soma e a matriz diferença.\n",
        "A = []\n",
        "B = []\n",
        "for i in range(3):\n",
        "    linhaA = []\n",
        "    linhaB = []\n",
        "    for j in range(3):\n",
        "        linhaA.append(int(input(f'A[{i+1},{j+1}]: ')))\n",
        "        linhaB.append(int(input(f'B[{i+1},{j+1}]: ')))\n",
        "    A.append(linhaA)\n",
        "    B.append(linhaB)\n",
        "\n",
        "soma = []\n",
        "diferenca = []\n",
        "for i in range(3):\n",
        "    linha_soma = []\n",
        "    linha_dif = []\n",
        "    for j in range(3):\n",
        "        linha_soma.append(A[i][j] + B[i][j])\n",
        "        linha_dif.append(A[i][j] - B[i][j])\n",
        "    soma.append(linha_soma)\n",
        "    diferenca.append(linha_dif)\n",
        "\n",
        "print('Soma:', soma)\n",
        "print('Diferença:', diferenca)\n"
      ],
      "metadata": {
        "colab": {
          "base_uri": "https://localhost:8080/"
        },
        "id": "92hwVY4_uCrq",
        "outputId": "1a19d51d-aa7e-4c0f-d0fd-f00809fb9b88"
      },
      "execution_count": null,
      "outputs": [
        {
          "output_type": "stream",
          "name": "stdout",
          "text": [
            "A[1,1]: 9\n",
            "B[1,1]: 7\n",
            "A[1,2]: 5\n",
            "B[1,2]: 4\n",
            "A[1,3]: 8\n",
            "B[1,3]: 09\n",
            "A[2,1]: 6\n",
            "B[2,1]: 9\n",
            "A[2,2]: 3\n",
            "B[2,2]: 6\n",
            "A[2,3]: 5\n",
            "B[2,3]: 46\n",
            "A[3,1]: 54\n",
            "B[3,1]: 45\n",
            "A[3,2]: 42\n",
            "B[3,2]: 8\n",
            "A[3,3]: 7\n",
            "B[3,3]: 2\n",
            "Soma: [[16, 9, 17], [15, 9, 51], [99, 50, 9]]\n",
            "Diferença: [[2, 1, -1], [-3, -3, -41], [9, 34, 5]]\n"
          ]
        }
      ]
    },
    {
      "cell_type": "code",
      "source": [
        "#19. Solicite dois conjuntos de 10 elementos fornecidos pelo usuário. Mostre a interseção, união e diferença (A - B e B - A).\n",
        "A = set()\n",
        "B = set()\n",
        "print('Digite 10 elementos para o conjunto A:')\n",
        "for _ in range(10):\n",
        "    A.add(int(input()))\n",
        "\n",
        "print('Digite 10 elementos para o conjunto B:')\n",
        "for _ in range(10):\n",
        "    B.add(int(input()))\n",
        "\n",
        "print('Interseção:', A & B)\n",
        "print('União:', A | B)\n",
        "print('Diferença A - B:', A - B)\n",
        "print('Diferença B - A:', B - A)\n"
      ],
      "metadata": {
        "colab": {
          "base_uri": "https://localhost:8080/"
        },
        "id": "DTr3cN1xuFlZ",
        "outputId": "43f404b8-5974-4efb-8186-aeaab3de48fa"
      },
      "execution_count": null,
      "outputs": [
        {
          "output_type": "stream",
          "name": "stdout",
          "text": [
            "Digite 10 elementos para o conjunto A:\n",
            "7\n",
            "6\n",
            "5\n",
            "3\n",
            "2\n",
            "6\n",
            "9\n",
            "0\n",
            "8\n",
            "7\n",
            "Digite 10 elementos para o conjunto B:\n",
            "6\n",
            "7\n",
            "6\n",
            "5\n",
            "4\n",
            "3\n",
            "2\n",
            "5\n",
            "7\n",
            "8\n",
            "Interseção: {2, 3, 5, 6, 7, 8}\n",
            "União: {0, 2, 3, 4, 5, 6, 7, 8, 9}\n",
            "Diferença A - B: {0, 9}\n",
            "Diferença B - A: {4}\n"
          ]
        }
      ]
    },
    {
      "cell_type": "code",
      "source": [
        "#20. Crie um conjunto com todas as letras usadas em uma frase digitada pelo usuário, excluindo espaços e pontuação.\n",
        "frase = input('Digite uma frase: ')\n",
        "import string\n",
        "conjunto = set()\n",
        "for c in frase.lower():\n",
        "    if c.isalpha():\n",
        "        conjunto.add(c)\n",
        "print('Letras distintas:', conjunto)\n"
      ],
      "metadata": {
        "colab": {
          "base_uri": "https://localhost:8080/"
        },
        "id": "8UH1iwRjvnNi",
        "outputId": "8951594d-a8d8-4796-f3d3-5cca84d16dcc"
      },
      "execution_count": null,
      "outputs": [
        {
          "output_type": "stream",
          "name": "stdout",
          "text": [
            "Digite uma frase: god is good\n",
            "Letras distintas: {'g', 'd', 's', 'o', 'i'}\n"
          ]
        }
      ]
    },
    {
      "cell_type": "code",
      "source": [
        "#21. Escreva um programa que armazene em um conjunto todos os números entre 1 e 100 que não são múltiplos de 2 nem de 3.\n",
        "conjunto = set()\n",
        "for i in range(1, 101):\n",
        "    if i % 2 != 0 and i % 3 != 0:\n",
        "        conjunto.add(i)\n",
        "print(conjunto)\n"
      ],
      "metadata": {
        "colab": {
          "base_uri": "https://localhost:8080/"
        },
        "id": "VeB-9ouZyq-g",
        "outputId": "cc1411be-7c51-4584-c1bc-15d75b5f5b88"
      },
      "execution_count": null,
      "outputs": [
        {
          "output_type": "stream",
          "name": "stdout",
          "text": [
            "{1, 5, 7, 11, 13, 17, 19, 23, 25, 29, 31, 35, 37, 41, 43, 47, 49, 53, 55, 59, 61, 65, 67, 71, 73, 77, 79, 83, 85, 89, 91, 95, 97}\n"
          ]
        }
      ]
    },
    {
      "cell_type": "code",
      "source": [
        "#22. Solicite ao usuário que digite 10 palavras. Armazene em um conjunto todas as palavras distintas com mais de 5 letras.\n",
        "conjunto = set()\n",
        "for _ in range(10):\n",
        "    palavra = input('Digite uma palavra: ')\n",
        "    if len(palavra) > 5:\n",
        "        conjunto.add(palavra)\n",
        "print('Palavras com mais de 5 letras:', conjunto)"
      ],
      "metadata": {
        "colab": {
          "base_uri": "https://localhost:8080/"
        },
        "id": "uICpqB0oy2w_",
        "outputId": "6bd7145e-89da-44a5-9f5c-8ece9344d269"
      },
      "execution_count": null,
      "outputs": [
        {
          "output_type": "stream",
          "name": "stdout",
          "text": [
            "Digite uma palavra: bankai\n",
            "Digite uma palavra: fruta\n",
            "Digite uma palavra: luta\n",
            "Digite uma palavra: termo\n",
            "Digite uma palavra: peace\n",
            "Digite uma palavra: paralelepipedo\n",
            "Digite uma palavra: dor\n",
            "Digite uma palavra: vida\n",
            "Digite uma palavra: morte\n",
            "Digite uma palavra: feia\n",
            "Palavras com mais de 5 letras: {'paralelepipedo', 'bankai'}\n"
          ]
        }
      ]
    },
    {
      "cell_type": "code",
      "source": [
        "#23. Leia dois conjuntos de inteiros. Verifique se um é subconjunto do outro.\n",
        "A = set(map(int, input('Digite os elementos do conjunto A separados por espaço: ').split()))\n",
        "B = set(map(int, input('Digite os elementos do conjunto B separados por espaço: ').split()))\n",
        "print('A é subconjunto de B:', A.issubset(B))\n",
        "print('B é subconjunto de A:', B.issubset(A))\n"
      ],
      "metadata": {
        "colab": {
          "base_uri": "https://localhost:8080/"
        },
        "id": "97NCYOpBzPW_",
        "outputId": "859419ba-d768-415a-953b-c7d0ec463c0b"
      },
      "execution_count": null,
      "outputs": [
        {
          "output_type": "stream",
          "name": "stdout",
          "text": [
            "Digite os elementos do conjunto A separados por espaço: 4 3 2 1\n",
            "Digite os elementos do conjunto B separados por espaço: 1 2 3 4 \n",
            "A é subconjunto de B: True\n",
            "B é subconjunto de A: True\n"
          ]
        }
      ]
    },
    {
      "cell_type": "code",
      "source": [
        "#24. Dado um conjunto de números inteiros, crie um novo conjunto com apenas os quadrados perfeitos encontrados.\n",
        "import math\n",
        "numeros = set(map(int, input('Digite os números separados por espaço: ').split()))\n",
        "quadrados = set()\n",
        "for num in numeros:\n",
        "    if math.isqrt(num)**2 == num:\n",
        "        quadrados.add(num)\n",
        "print('Quadrados perfeitos:', quadrados)\n"
      ],
      "metadata": {
        "colab": {
          "base_uri": "https://localhost:8080/"
        },
        "id": "8xAz055wzhl4",
        "outputId": "bb113c82-e22d-44f1-8cae-8be26e23a144"
      },
      "execution_count": null,
      "outputs": [
        {
          "output_type": "stream",
          "name": "stdout",
          "text": [
            "Digite os números separados por espaço: 4 6 8 2 0 10\n",
            "Quadrados perfeitos: {0, 4}\n"
          ]
        }
      ]
    },
    {
      "cell_type": "code",
      "source": [
        "#25. Crie um dicionário que armazene o nome e o salário de 5 funcionários. Calcule o reajuste de 10% para salários inferiores a R$ 2.000 e atualize o dicionário.\n",
        "salarios = {}\n",
        "for _ in range(5):\n",
        "    nome = input('Nome do funcionário: ')\n",
        "    salario = float(input('Salário: '))\n",
        "    if salario < 2000:\n",
        "        salario *= 1.10\n",
        "    salarios[nome] = salario\n",
        "print(salarios)\n"
      ],
      "metadata": {
        "colab": {
          "base_uri": "https://localhost:8080/"
        },
        "id": "cCPjaXkTz02H",
        "outputId": "8a1d07d0-82f2-420d-d01b-a0409dfe666a"
      },
      "execution_count": null,
      "outputs": [
        {
          "output_type": "stream",
          "name": "stdout",
          "text": [
            "Nome do funcionário: joão\n",
            "Salário: 1240\n",
            "Nome do funcionário: pedro\n",
            "Salário: 1300\n",
            "Nome do funcionário: carla\n",
            "Salário: 2100\n",
            "Nome do funcionário: maria\n",
            "Salário: 1950\n",
            "Nome do funcionário: marcos\n",
            "Salário: 2000\n",
            "{'joão': 1364.0, 'pedro': 1430.0000000000002, 'carla': 2100.0, 'maria': 2145.0, 'marcos': 2000.0}\n"
          ]
        }
      ]
    },
    {
      "cell_type": "code",
      "source": [
        "#26. Faça um programa que armazene em um dicionário o nome de 5 alunos e uma lista com suas 3 notas. Depois, exiba o nome e a média de cada aluno.\n",
        "alunos = {}\n",
        "for _ in range(5):\n",
        "    nome = input('Nome do aluno: ')\n",
        "    notas = []\n",
        "    for i in range(3):\n",
        "        notas.append(float(input(f'Nota {i+1}: ')))\n",
        "    alunos[nome] = notas\n",
        "\n",
        "for nome, notas in alunos.items():\n",
        "    media = sum(notas)/len(notas)\n",
        "    print(f'{nome}: média = {media:.2f}')"
      ],
      "metadata": {
        "colab": {
          "base_uri": "https://localhost:8080/"
        },
        "id": "HO9LkQcH0ikg",
        "outputId": "7f24c955-c9d7-4ea1-9e11-88107a780ecc"
      },
      "execution_count": null,
      "outputs": [
        {
          "output_type": "stream",
          "name": "stdout",
          "text": [
            "Nome do aluno: mario\n",
            "Nota 1: 10\n",
            "Nota 2: 8\n",
            "Nota 3: 9\n",
            "Nome do aluno: marcos\n",
            "Nota 1: 8\n",
            "Nota 2: 9\n",
            "Nota 3: 8\n",
            "Nome do aluno: pedro\n",
            "Nota 1: 9\n",
            "Nota 2: 9\n",
            "Nota 3: 9\n",
            "Nome do aluno: mariana\n",
            "Nota 1: 10\n",
            "Nota 2: 10\n",
            "Nota 3: 8\n",
            "Nome do aluno: amaury\n",
            "Nota 1: 7\n",
            "Nota 2: 9\n",
            "Nota 3: 10\n",
            "mario: média = 9.00\n",
            "marcos: média = 8.33\n",
            "pedro: média = 9.00\n",
            "mariana: média = 9.33\n",
            "amaury: média = 8.67\n"
          ]
        }
      ]
    },
    {
      "cell_type": "code",
      "source": [
        "#27. Crie um dicionário que armazene palavras e seus sinônimos. Depois, permita que o usuário digite uma palavra e veja seus sinônimos (se existirem).\n",
        "dicionario = {}\n",
        "for _ in range(5):\n",
        "    palavra = input('Palavra: ')\n",
        "    sinonimos = input('Sinônimos (separados por vírgula): ').split(',')\n",
        "    dicionario[palavra] = [s.strip() for s in sinonimos]\n",
        "\n",
        "consulta = input('Digite uma palavra para buscar sinônimos: ')\n",
        "if consulta in dicionario:\n",
        "    print('Sinônimos:', dicionario[consulta])\n",
        "else:\n",
        "    print('Palavra não encontrada.')\n"
      ],
      "metadata": {
        "colab": {
          "base_uri": "https://localhost:8080/"
        },
        "id": "HQUwuYvz0-Do",
        "outputId": "38e5929d-2b8e-49cd-cf1d-c174cd9a3625"
      },
      "execution_count": null,
      "outputs": [
        {
          "output_type": "stream",
          "name": "stdout",
          "text": [
            "Palavra: facíl\n",
            "Sinônimos (separados por vírgula): simples, acessível, compreensível, descomplicado, elementar, exequível, praticável\n",
            "Palavra: fazer\n",
            "Sinônimos (separados por vírgula): realizar, efetuar, executar, efetivar, empreender, exercer, cometer, consumar, perpetrar, implementar, ocupar-se, encarregar-se, cumprir, operar, trabalhar\n",
            "Palavra: viver\n",
            "Sinônimos (separados por vírgula): sustentar-se, manter-se, subsistir, sobreviver\n",
            "Palavra: louco\n",
            "Sinônimos (separados por vírgula): amalucado, alucinado, arriscado, desajuizado, delirante, desarrazoado, desassisado, desatinado, despropositado, desvairado, disparatado, imoderado, imprudente\n",
            "Palavra: animal\n",
            "Sinônimos (separados por vírgula): bicho, besta, animalejo, animália, alimária\n",
            "Digite uma palavra para buscar sinônimos: ver\n",
            "Palavra não encontrada.\n"
          ]
        }
      ]
    },
    {
      "cell_type": "code",
      "source": [
        "#28. Solicite ao usuário 10 palavras e armazene em um dicionário onde a chave é a primeira letra e o valor é uma lista de palavras que começam com essa letra.\n",
        "dicionario = {}\n",
        "for _ in range(10):\n",
        "    palavra = input('Digite uma palavra: ')\n",
        "    letra = palavra[0].lower()\n",
        "    if letra not in dicionario:\n",
        "        dicionario[letra] = []\n",
        "    dicionario[letra].append(palavra)\n",
        "print(dicionario)"
      ],
      "metadata": {
        "colab": {
          "base_uri": "https://localhost:8080/"
        },
        "id": "r7YjbX2k2N-1",
        "outputId": "7b89064d-1263-4ff1-cfa4-d01a341644a2"
      },
      "execution_count": null,
      "outputs": [
        {
          "output_type": "stream",
          "name": "stdout",
          "text": [
            "Digite uma palavra: amar\n",
            "Digite uma palavra: vidas\n",
            "Digite uma palavra: inteira\n",
            "Digite uma palavra: penteadeira\n",
            "Digite uma palavra: oração\n",
            "Digite uma palavra: coração\n",
            "Digite uma palavra: dispensa\n",
            "Digite uma palavra: três\n",
            "Digite uma palavra: ultima\n",
            "Digite uma palavra: salvar\n",
            "{'a': ['amar'], 'v': ['vidas'], 'i': ['inteira'], 'p': ['penteadeira'], 'o': ['oração'], 'c': ['coração'], 'd': ['dispensa'], 't': ['três'], 'u': ['ultima'], 's': ['salvar']}\n"
          ]
        }
      ]
    },
    {
      "cell_type": "code",
      "source": [
        "#29. Crie um dicionário onde as chaves são nomes de produtos e os valores são listas com preços praticados em três lojas diferentes. Encontre o produto com maior variação de preço.\n",
        "produtos = {}\n",
        "for _ in range(3):\n",
        "    nome = input('Nome do produto: ')\n",
        "    precos = list(map(float, input('Digite 3 preços separados por espaço: ').split()))\n",
        "    produtos[nome] = precos\n",
        "\n",
        "maior_variacao = 0\n",
        "produto_maior_var = ''\n",
        "for nome, precos in produtos.items():\n",
        "    variacao = max(precos) - min(precos)\n",
        "    if variacao > maior_variacao:\n",
        "        maior_variacao = variacao\n",
        "        produto_maior_var = nome\n",
        "\n",
        "print('Produto com maior variação de preço:', produto_maior_var)\n"
      ],
      "metadata": {
        "colab": {
          "base_uri": "https://localhost:8080/"
        },
        "id": "lX1CY6082nXt",
        "outputId": "b74f86b2-dea6-4c14-f789-c625006f8c9e"
      },
      "execution_count": null,
      "outputs": [
        {
          "output_type": "stream",
          "name": "stdout",
          "text": [
            "Nome do produto: cerveja\n",
            "Digite 3 preços separados por espaço: 12 6 20\n",
            "Nome do produto: churrasco\n",
            "Digite 3 preços separados por espaço: 15 25 40\n",
            "Nome do produto: refri\n",
            "Digite 3 preços separados por espaço: 5 6 12\n",
            "Produto com maior variação de preço: churrasco\n"
          ]
        }
      ]
    },
    {
      "cell_type": "code",
      "source": [
        "#30. Implemente um programa que leia uma frase e armazene em um dicionário o número de ocorrências de cada palavra (ignorando letras maiúsculas/minúsculas).\n",
        "frase = input('Digite uma frase: ')\n",
        "frase = frase.lower()\n",
        "palavras = frase.split()\n",
        "contagem = {}\n",
        "for palavra in palavras:\n",
        "    palavra = ''.join(c for c in palavra if c.isalnum())\n",
        "    if palavra in contagem:\n",
        "        contagem[palavra] += 1\n",
        "    else:\n",
        "        contagem[palavra] = 1\n",
        "print(contagem)\n"
      ],
      "metadata": {
        "colab": {
          "base_uri": "https://localhost:8080/"
        },
        "id": "IWWQrvC-3TyW",
        "outputId": "579b8b0d-c663-404d-cbf9-a8b83c1bff3d"
      },
      "execution_count": null,
      "outputs": [
        {
          "output_type": "stream",
          "name": "stdout",
          "text": [
            "Digite uma frase: tenho tanto para viver e temo que o tempo não dê\n",
            "{'tenho': 1, 'tanto': 1, 'para': 1, 'viver': 1, 'e': 1, 'temo': 1, 'que': 1, 'o': 1, 'tempo': 1, 'não': 1, 'dê': 1}\n"
          ]
        }
      ]
    }
  ]
}