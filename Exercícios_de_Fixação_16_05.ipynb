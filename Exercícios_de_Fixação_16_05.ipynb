{
  "nbformat": 4,
  "nbformat_minor": 0,
  "metadata": {
    "colab": {
      "provenance": [],
      "authorship_tag": "ABX9TyPzFKjhCYcN8GoBWE3K2gfF",
      "include_colab_link": true
    },
    "kernelspec": {
      "name": "python3",
      "display_name": "Python 3"
    },
    "language_info": {
      "name": "python"
    }
  },
  "cells": [
    {
      "cell_type": "markdown",
      "metadata": {
        "id": "view-in-github",
        "colab_type": "text"
      },
      "source": [
        "<a href=\"https://colab.research.google.com/github/henr1quepacheco/ALGESTDADOS_20251/blob/main/Exerc%C3%ADcios_de_Fixa%C3%A7%C3%A3o_16_05.ipynb\" target=\"_parent\"><img src=\"https://colab.research.google.com/assets/colab-badge.svg\" alt=\"Open In Colab\"/></a>"
      ]
    },
    {
      "cell_type": "code",
      "execution_count": null,
      "metadata": {
        "colab": {
          "base_uri": "https://localhost:8080/"
        },
        "id": "rS8C2WB4eHaB",
        "outputId": "cfaa5bc8-3743-4f05-f117-5547548f5aad"
      },
      "outputs": [
        {
          "output_type": "stream",
          "name": "stdout",
          "text": [
            "Digite um número: 1\n",
            "Digite um número: 4\n",
            "Digite um número: 65\n",
            "Digite um número: 076\n",
            "Digite um número: 78976\n",
            "Digite um número: 457386896385\n",
            "Digite um número: 36859760468435776598\n",
            "Digite um número: 53668364856979563754\n",
            "Digite um número: 2457458659835684257\n",
            "Digite um número: 457856856895693563\n",
            "93443441299533693679\n"
          ]
        }
      ],
      "source": [
        "#1 - Crie um vetor com 10 números inteiros fornecidos pelo usuário e exiba a soma de todos os elementos.\n",
        "nums = []\n",
        "for i in range (10):\n",
        "  num = int(input(\"Digite um número: \"))\n",
        "  nums.append(num)\n",
        "soma = 0\n",
        "for x in range (10):\n",
        "  soma+=nums[x]\n",
        "print(soma)"
      ]
    },
    {
      "cell_type": "code",
      "source": [
        "#2 - Leia um vetor com 5 nomes de pessoas e exiba os nomes em ordem alfabética.\n",
        "pessoas = ['joão', 'maria', 'pedro', 'ana', 'jose']\n",
        "pessoas.sort()\n",
        "print(pessoas)\n"
      ],
      "metadata": {
        "colab": {
          "base_uri": "https://localhost:8080/"
        },
        "id": "_RtkDPk6w82u",
        "outputId": "0bb70d8b-a27b-44ff-ebee-0bf1b52e08de"
      },
      "execution_count": 1,
      "outputs": [
        {
          "output_type": "stream",
          "name": "stdout",
          "text": [
            "['ana', 'jose', 'joão', 'maria', 'pedro']\n"
          ]
        }
      ]
    },
    {
      "cell_type": "code",
      "source": [
        "#3 - Dado um vetor com 8 números inteiros, encontre e exiba o maior e o menor valor.\n",
        "numeros = [9,3,8,3,78,56,657,643]\n",
        "maior = max(numeros)\n",
        "menor = min(numeros)\n",
        "print(f'maior valor: {maior} | menor valor: {menor}')"
      ],
      "metadata": {
        "colab": {
          "base_uri": "https://localhost:8080/"
        },
        "id": "sy4xXy98xtyC",
        "outputId": "211996fa-d48d-45bf-9853-fd3a1bb1a4ad"
      },
      "execution_count": 2,
      "outputs": [
        {
          "output_type": "stream",
          "name": "stdout",
          "text": [
            "maior valor: 657 | menor valor: 3\n"
          ]
        }
      ]
    },
    {
      "cell_type": "code",
      "source": [
        "#4 - Peça ao usuário 10 números e armazene em um vetor. Em seguida, exiba apenas os números pares.\n",
        "numeros = []\n",
        "for i in range(10):\n",
        "  num = int(input(f\"Digite o valor {i+1}:\"))\n",
        "  numeros.append(num)\n",
        "  for num in numeros:\n",
        "    if num%2 ==0:\n",
        "      print(num,end=' ')\n"
      ],
      "metadata": {
        "colab": {
          "base_uri": "https://localhost:8080/"
        },
        "id": "IFODmzXEzY5G",
        "outputId": "7587459f-4751-4d7c-bdd7-21ebd554da6e"
      },
      "execution_count": 7,
      "outputs": [
        {
          "output_type": "stream",
          "name": "stdout",
          "text": [
            "Digite o valor 1:3443\n",
            "Digite o valor 2:23535\n",
            "Digite o valor 3:34534623\n",
            "Digite o valor 4:4534523\n",
            "Digite o valor 5:23423\n",
            "Digite o valor 6:342342\n",
            "342342 Digite o valor 7:32423535\n",
            "342342 Digite o valor 8:63465\n",
            "342342 Digite o valor 9:64574745\n",
            "342342 Digite o valor 10:5465465\n",
            "342342 "
          ]
        }
      ]
    },
    {
      "cell_type": "code",
      "source": [
        "#5 - Leia um vetor com 6 números reais e exiba a média aritmética dos valores.\n",
        "reais = [5,52,73,3,67,1,8,9,2,6]\n",
        "media = sum(reais)/len(reais)\n",
        "print(media)"
      ],
      "metadata": {
        "colab": {
          "base_uri": "https://localhost:8080/"
        },
        "id": "rmT0-YWY1RJW",
        "outputId": "631beac4-8134-48c6-9c63-1b2c5729763e"
      },
      "execution_count": 8,
      "outputs": [
        {
          "output_type": "stream",
          "name": "stdout",
          "text": [
            "22.6\n"
          ]
        }
      ]
    },
    {
      "cell_type": "code",
      "source": [
        "#6 - Crie um vetor de 10 elementos e conte quantos são maiores que 50.\n",
        "numeros = []\n",
        "for i in range(10):\n",
        "  num = int(input(f'Digite o valor {i+1}:'))\n",
        "  numeros.append(num)\n",
        "  for num in numeros:\n",
        "    if num > 50:\n",
        "      print(num,end='  ')"
      ],
      "metadata": {
        "colab": {
          "base_uri": "https://localhost:8080/"
        },
        "id": "VSwQHmxM4T__",
        "outputId": "3ea63ec0-72f0-4853-8048-730063be594c"
      },
      "execution_count": 14,
      "outputs": [
        {
          "output_type": "stream",
          "name": "stdout",
          "text": [
            "Digite o valor 1:54\n",
            "54  Digite o valor 2:76\n",
            "54  76  Digite o valor 3:12\n",
            "54  76  Digite o valor 4:65\n",
            "54  76  65  Digite o valor 5:456\n",
            "54  76  65  456  Digite o valor 6:567\n",
            "54  76  65  456  567  Digite o valor 7:86\n",
            "54  76  65  456  567  86  Digite o valor 8:678\n",
            "54  76  65  456  567  86  678  Digite o valor 9:41\n",
            "54  76  65  456  567  86  678  Digite o valor 10:64\n",
            "54  76  65  456  567  86  678  64  "
          ]
        }
      ]
    },
    {
      "cell_type": "code",
      "source": [
        "#7 - Crie um vetor com 7 elementos e exiba os valores ao contrário (do último para o primeiro).\n",
        "vetor = [1, 2, 3, 5, 4, 6, 7]\n",
        "for i in range(len(vetor) - 1, -1, -1):\n",
        " print (vetor[i])\n"
      ],
      "metadata": {
        "colab": {
          "base_uri": "https://localhost:8080/"
        },
        "id": "wk3YxpS-4uf_",
        "outputId": "316be0d4-b981-4f2b-c4b0-ff4a6b6e5c38"
      },
      "execution_count": 16,
      "outputs": [
        {
          "output_type": "stream",
          "name": "stdout",
          "text": [
            "7\n",
            "6\n",
            "4\n",
            "5\n",
            "3\n",
            "2\n",
            "1\n"
          ]
        }
      ]
    },
    {
      "cell_type": "code",
      "source": [
        "#8 - Leia um vetor com 5 elementos e verifique se há elementos repetidos. Exiba os valores duplicados.\n",
        "vetor = []\n",
        "for i in range(5):\n",
        "  elemento = int(input(f\"Digite o elemento {i+1}: \"))\n",
        "  vetor.append(elemento)\n",
        "duplicados = set()\n",
        "elementos_vistos = set()\n",
        "for elemento in vetor:\n",
        "  if elemento in elementos_vistos:\n",
        "    duplicados.add(elemento)\n",
        "  else:\n",
        "    elementos_vistos.add(elemento)\n",
        "if duplicados:\n",
        "  print(\"Elementos duplicados:\", list(duplicados))\n",
        "else:\n",
        "  print(\"Não há elementos duplicados.\")"
      ],
      "metadata": {
        "colab": {
          "base_uri": "https://localhost:8080/"
        },
        "id": "1lgSGOcH5Pux",
        "outputId": "1e33945e-f468-4f69-e13d-db6ab4eb65d9"
      },
      "execution_count": 15,
      "outputs": [
        {
          "output_type": "stream",
          "name": "stdout",
          "text": [
            "Digite o elemento 1: 87\n",
            "Digite o elemento 2: 94\n",
            "Digite o elemento 3: 73\n",
            "Digite o elemento 4: 73\n",
            "Digite o elemento 5: 896\n",
            "Elementos duplicados: [73]\n"
          ]
        }
      ]
    },
    {
      "cell_type": "code",
      "source": [],
      "metadata": {
        "id": "vb2uureM73i2"
      },
      "execution_count": null,
      "outputs": []
    }
  ]
}