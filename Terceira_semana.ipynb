{
  "nbformat": 4,
  "nbformat_minor": 0,
  "metadata": {
    "colab": {
      "provenance": [],
      "authorship_tag": "ABX9TyNOYZ3RDb4jFFFhlXaIUPEZ",
      "include_colab_link": true
    },
    "kernelspec": {
      "name": "python3",
      "display_name": "Python 3"
    },
    "language_info": {
      "name": "python"
    }
  },
  "cells": [
    {
      "cell_type": "markdown",
      "metadata": {
        "id": "view-in-github",
        "colab_type": "text"
      },
      "source": [
        "<a href=\"https://colab.research.google.com/github/henr1quepacheco/ALGESTDADOS_20251/blob/main/Terceira_semana.ipynb\" target=\"_parent\"><img src=\"https://colab.research.google.com/assets/colab-badge.svg\" alt=\"Open In Colab\"/></a>"
      ]
    },
    {
      "cell_type": "markdown",
      "source": [
        "TERCEIRA SEMANA"
      ],
      "metadata": {
        "id": "5pev5q5fRct0"
      }
    },
    {
      "cell_type": "code",
      "execution_count": null,
      "metadata": {
        "colab": {
          "base_uri": "https://localhost:8080/"
        },
        "id": "C2aLKYocRbC9",
        "outputId": "edd6f4c6-144c-470b-a0eb-d4f363a40347"
      },
      "outputs": [
        {
          "output_type": "stream",
          "name": "stdout",
          "text": [
            "digite o primeiro número: 10\n",
            "digite o segundo número: 10\n",
            "20\n"
          ]
        }
      ],
      "source": [
        "#1)Peça dois números ao usuário e exiba a soma\n",
        "num1 = int (input('digite o primeiro número: '))\n",
        "num2 = int (input('digite o segundo número: '))\n",
        "resultado = num1 + num2\n",
        "print(resultado)"
      ]
    },
    {
      "cell_type": "code",
      "source": [
        "#2)Solicite o primeiro e o último nome do usuário e exiba o nome completo.\n",
        "nome = input('digite o seu nome: ')\n",
        "sobrenome = input('digite o seu sobrenome: ')\n",
        "print('seu nome é:', nome, sobrenome)"
      ],
      "metadata": {
        "colab": {
          "base_uri": "https://localhost:8080/"
        },
        "id": "XIKB8d5CSS5k",
        "outputId": "f45c986c-43d6-41d6-e953-ef6bae3fbee6"
      },
      "execution_count": null,
      "outputs": [
        {
          "output_type": "stream",
          "name": "stdout",
          "text": [
            "digite o seu nome: Henrique\n",
            "digite o seu sobrenome: Pacheco\n",
            "seu nome é: Henrique Pacheco\n"
          ]
        }
      ]
    },
    {
      "cell_type": "code",
      "source": [
        "#3)Peça uma palavra e um número ao usuário e exiba a palavra repetida esse número de vezes\n",
        "palavra = input('digite uma palavra: ')\n",
        "numero = int (input('digite um número: '))\n",
        "print((palavra + '\\n') * numero)\n"
      ],
      "metadata": {
        "colab": {
          "base_uri": "https://localhost:8080/"
        },
        "id": "4KV1L1ZfTD9b",
        "outputId": "bd98ff5b-fbb9-4e84-d50a-a7ac814d7c86"
      },
      "execution_count": null,
      "outputs": [
        {
          "output_type": "stream",
          "name": "stdout",
          "text": [
            "digite uma palavra: aleluia\n",
            "digite um número: 20\n",
            "aleluia\n",
            "aleluia\n",
            "aleluia\n",
            "aleluia\n",
            "aleluia\n",
            "aleluia\n",
            "aleluia\n",
            "aleluia\n",
            "aleluia\n",
            "aleluia\n",
            "aleluia\n",
            "aleluia\n",
            "aleluia\n",
            "aleluia\n",
            "aleluia\n",
            "aleluia\n",
            "aleluia\n",
            "aleluia\n",
            "aleluia\n",
            "aleluia\n",
            "\n"
          ]
        }
      ]
    },
    {
      "cell_type": "code",
      "source": [
        "#4)Solicite um texto e exiba-o em letras maiúsculas.\n",
        "texto = input('digite o texto:')\n",
        "print(texto.upper())"
      ],
      "metadata": {
        "colab": {
          "base_uri": "https://localhost:8080/"
        },
        "id": "TWNqlvrdVqty",
        "outputId": "e482a7f1-53d2-4f76-d3be-87576edae0d8"
      },
      "execution_count": null,
      "outputs": [
        {
          "output_type": "stream",
          "name": "stdout",
          "text": [
            "digite o texto:Deus é mais\n",
            "DEUS É MAIS\n"
          ]
        }
      ]
    },
    {
      "cell_type": "code",
      "source": [
        "#5)Peça uma palavra e exiba quantos caracteres ela tem.\n",
        "palavra = input('digite a palavra: ')\n",
        "print(len(palavra))"
      ],
      "metadata": {
        "colab": {
          "base_uri": "https://localhost:8080/"
        },
        "id": "cXIAE-t8W5NK",
        "outputId": "536b447d-9667-492d-c665-4d10ae36c0a7"
      },
      "execution_count": null,
      "outputs": [
        {
          "output_type": "stream",
          "name": "stdout",
          "text": [
            "digite a palavra: palavrasala\n",
            "11\n"
          ]
        }
      ]
    },
    {
      "cell_type": "code",
      "source": [
        "#6)Mostre a data e a hora atuais.\n",
        "from datetime import datetime, date, time, timedelta\n",
        "import pytz\n",
        "fuso_horario = pytz.timezone(\"America/Sao_Paulo\")\n",
        "data_hora_atual = datetime.now(fuso_horario)\n",
        "print(\"São exatamente:\", data_hora_atual.strftime(\"%d de %m de %Y e são %HH:%MM:%SS\"))"
      ],
      "metadata": {
        "colab": {
          "base_uri": "https://localhost:8080/"
        },
        "id": "WHJm5o9oY06D",
        "outputId": "2c4c1f33-af9c-4fe0-d069-328d9572e5d1"
      },
      "execution_count": null,
      "outputs": [
        {
          "output_type": "stream",
          "name": "stdout",
          "text": [
            "São exatamente: 13 de 03 de 2025 e são 13H:45M:37S\n"
          ]
        }
      ]
    },
    {
      "cell_type": "code",
      "source": [
        "#7)Solicite o ano de nascimento do usuário e calcule a idade aproximada\n",
        "from datetime import datetime\n",
        "data_nasc = input('quando você nasceu? (YYYY): ')\n",
        "data_conv = datetime.strptime(data_nasc, '%Y')\n",
        "hoje = datetime.now()\n",
        "idade = (hoje - data_conv).days //365\n",
        "print(f'sua idade é {idade} anos')"
      ],
      "metadata": {
        "colab": {
          "base_uri": "https://localhost:8080/"
        },
        "id": "m_5hK1kpZdj0",
        "outputId": "b963fdeb-565f-4336-91ba-ff76028eb14d"
      },
      "execution_count": null,
      "outputs": [
        {
          "output_type": "stream",
          "name": "stdout",
          "text": [
            "quando você nasceu? (YYYY): 2006\n",
            "sua idade é 19 anos\n"
          ]
        }
      ]
    },
    {
      "cell_type": "code",
      "source": [
        "#8) Peça três números ao usuário e exiba a média aritmética\n",
        "num1 = int (input('digite o 1° número: '))\n",
        "num2 = int (input('digite o 2° número: '))\n",
        "num3 = int (input('digite o 3° número: '))\n",
        "resultado = (num1 + num2 + num3)/3\n",
        "print(resultado)"
      ],
      "metadata": {
        "colab": {
          "base_uri": "https://localhost:8080/"
        },
        "id": "wfVGrYVqaSbr",
        "outputId": "cb5de474-8eb0-4c89-d9c1-c3349a6a2b31"
      },
      "execution_count": null,
      "outputs": [
        {
          "output_type": "stream",
          "name": "stdout",
          "text": [
            "digite o 1° número: 13\n",
            "digite o 2° número: 43\n",
            "digite o 3° número: 25\n",
            "27.0\n"
          ]
        }
      ]
    },
    {
      "cell_type": "code",
      "source": [
        "#9)Solicite a data de nascimento do usuário no formato AAAA-MM-DD e calcule aproximadamente quantos dias ele já viveu.\n",
        "from datetime import datetime\n",
        "data_nasc = input('quando você nasceu? (YYYY/MM/DD): ')\n",
        "data_conv = datetime.strptime(data_nasc, '%Y/%m/%d')\n",
        "hoje = datetime.now()\n",
        "idade = (hoje - data_conv).days\n",
        "print(f'você viveu: {idade} dias')"
      ],
      "metadata": {
        "colab": {
          "base_uri": "https://localhost:8080/"
        },
        "id": "f71TyMb3efi6",
        "outputId": "91c42330-3276-4759-96c7-f6b37205adc8"
      },
      "execution_count": null,
      "outputs": [
        {
          "output_type": "stream",
          "name": "stdout",
          "text": [
            "quando você nasceu? (YYYY/MM/DD): 2006/04/30\n",
            "você viveu: 6892 dias\n"
          ]
        }
      ]
    },
    {
      "cell_type": "code",
      "source": [
        "#10)Solicite uma data no formato AAAA-MM-DD e exiba-a no formato DD/MM/AAAA\n",
        "from datetime import datetime\n",
        "data_nasc = input('Quando você nasceu?(YYYY/MM/DD): ')\n",
        "data_conv = datetime.strptime(data_nasc, '%Y/%m/%d')\n",
        "print(data_conv.strftime(\"%d/%m/%Y\"))\n"
      ],
      "metadata": {
        "id": "dGrCOHwwgk6y",
        "colab": {
          "base_uri": "https://localhost:8080/"
        },
        "outputId": "cfb95576-1348-444e-8306-f32fd147b6b4"
      },
      "execution_count": 3,
      "outputs": [
        {
          "output_type": "stream",
          "name": "stdout",
          "text": [
            "Quando você nasceu?(YYYY/MM/DD): 2006/04/30\n",
            "30/04/2006\n"
          ]
        }
      ]
    },
    {
      "cell_type": "code",
      "source": [
        "#11 Solicite o raio de um círculo e calcule sua área.\n",
        "from math import pi\n",
        "raio = float (input('digite o raio do círculo: '))\n",
        "area = pi * (raio ** 2)\n",
        "print(f'a área do círculo é: {area:.2f}')\n"
      ],
      "metadata": {
        "colab": {
          "base_uri": "https://localhost:8080/"
        },
        "id": "F9l7R7LU0SMj",
        "outputId": "e0ee9dce-c070-4bdd-8568-c9718ef78635"
      },
      "execution_count": 14,
      "outputs": [
        {
          "output_type": "stream",
          "name": "stdout",
          "text": [
            "digite o raio do círculo: 32\n",
            "a área do círculo é: 3216.99\n"
          ]
        }
      ]
    },
    {
      "cell_type": "code",
      "source": [
        "# 12. Solicite o peso e a altura da pessoa e calcule o IMC.\n",
        "num1 = float (input('digite seu peso: '))\n",
        "num2 = float (input('digite  altura: '))\n",
        "resultado = num1/(num2*num2)\n",
        "print(resultado)"
      ],
      "metadata": {
        "colab": {
          "base_uri": "https://localhost:8080/"
        },
        "id": "IUgw-zLY1Luq",
        "outputId": "1acedf9a-8063-479f-cb3e-c7a80fdb0677"
      },
      "execution_count": 15,
      "outputs": [
        {
          "output_type": "stream",
          "name": "stdout",
          "text": [
            "digite seu peso: 65\n",
            "digite  altura: 172\n",
            "0.002197133585722012\n"
          ]
        }
      ]
    },
    {
      "cell_type": "code",
      "source": [
        "# 13. Peça a altura e a base de um trapézio e calcule a sua área\n",
        "base1 = float (input('qual a base maior do trápezio: '))\n",
        "base2 = float (input('qual a base menor do trapézio: '))\n",
        "altura = float(input('qual a altura do trapézio: '))\n",
        "area = ((base1 + base2) * altura) /2\n",
        "print(f'a área do trapézio é:  {area}')"
      ],
      "metadata": {
        "colab": {
          "base_uri": "https://localhost:8080/"
        },
        "id": "WajvHtWZ3AVp",
        "outputId": "5073b53e-bef6-4628-a7fb-801c32b38ffb"
      },
      "execution_count": 20,
      "outputs": [
        {
          "output_type": "stream",
          "name": "stdout",
          "text": [
            "qual a base maior do trápezio: 32\n",
            "qual a base menor do trapézio: 22\n",
            "qual a altura do trapézio: 12\n",
            "a área do trapézio é:  324.0\n"
          ]
        }
      ]
    },
    {
      "cell_type": "code",
      "source": [
        "# 14. Solicite uma temperatura em Celsius e converta-a para Fahrenheit.\n",
        "celcius = float (input('qual a temperatura a ser convertida: '))\n",
        "Fahrenheit = celcius * 1.8 + 32\n",
        "print(f'a temperatura convertida é: {Fahrenheit}')"
      ],
      "metadata": {
        "colab": {
          "base_uri": "https://localhost:8080/"
        },
        "id": "mCZ-3qey5-Ro",
        "outputId": "d4e5bc74-9c5e-4857-a931-256ef8e537ca"
      },
      "execution_count": 22,
      "outputs": [
        {
          "output_type": "stream",
          "name": "stdout",
          "text": [
            "qual a temperatura a ser convertida: 34\n",
            "a temperatura convertida é: 93.2\n"
          ]
        }
      ]
    },
    {
      "cell_type": "code",
      "source": [
        "# 15. Peça um número e exiba o fatorial dele.\n",
        "numero = int(input('digite o número: '))\n",
        "fatorial = 1\n",
        "for i in range(1, numero + 1):\n",
        " fatorial*= i\n",
        "print(fatorial)"
      ],
      "metadata": {
        "colab": {
          "base_uri": "https://localhost:8080/"
        },
        "id": "C_06MqTWAsxc",
        "outputId": "848841f2-4f3c-4f8a-9c40-04b48106639c"
      },
      "execution_count": 33,
      "outputs": [
        {
          "output_type": "stream",
          "name": "stdout",
          "text": [
            "digite o número: 100\n",
            "93326215443944152681699238856266700490715968264381621468592963895217599993229915608941463976156518286253697920827223758251185210916864000000000000000000000000\n"
          ]
        }
      ]
    }
  ]
}