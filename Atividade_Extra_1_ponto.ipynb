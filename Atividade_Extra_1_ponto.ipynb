{
  "nbformat": 4,
  "nbformat_minor": 0,
  "metadata": {
    "colab": {
      "provenance": [],
      "authorship_tag": "ABX9TyM6FfDtJJxqCf+qcKCEUi/h",
      "include_colab_link": true
    },
    "kernelspec": {
      "name": "python3",
      "display_name": "Python 3"
    },
    "language_info": {
      "name": "python"
    }
  },
  "cells": [
    {
      "cell_type": "markdown",
      "metadata": {
        "id": "view-in-github",
        "colab_type": "text"
      },
      "source": [
        "<a href=\"https://colab.research.google.com/github/henr1quepacheco/ALGESTDADOS_20251/blob/main/Atividade_Extra_1_ponto.ipynb\" target=\"_parent\"><img src=\"https://colab.research.google.com/assets/colab-badge.svg\" alt=\"Open In Colab\"/></a>"
      ]
    },
    {
      "cell_type": "code",
      "execution_count": 1,
      "metadata": {
        "colab": {
          "base_uri": "https://localhost:8080/"
        },
        "id": "cDI-oW4NyZ_S",
        "outputId": "a9553fc7-fbfb-440b-e426-b13bc41281b2"
      },
      "outputs": [
        {
          "output_type": "stream",
          "name": "stdout",
          "text": [
            "O ano atual é: 2025\n"
          ]
        }
      ],
      "source": [
        "#QUESTÃO 7: Escreva um código completo em Python que utilize a biblioteca DATETIME para obter e exibir o ano atual na tela.\n",
        "from datetime import datetime\n",
        "atual = datetime.now().year\n",
        "print(\"O ano atual é:\", atual)"
      ]
    },
    {
      "cell_type": "code",
      "source": [
        "#Questão 8:(2 PONTOS) – Escreva um programa em Python que utilize um laço for para imprimir os números de 1 a 10. O programa deve pular os números múltiplos de 3 utilizando a estrutura condicional apropriada:\n",
        "for i in range(0, 11):\n",
        " if i % 3 != 0:\n",
        "  print(i)\n"
      ],
      "metadata": {
        "colab": {
          "base_uri": "https://localhost:8080/"
        },
        "id": "n2ddo0HEzZ1l",
        "outputId": "70a38468-adc7-4e7f-9777-4eaaf9b659c2"
      },
      "execution_count": 3,
      "outputs": [
        {
          "output_type": "stream",
          "name": "stdout",
          "text": [
            "1\n",
            "2\n",
            "4\n",
            "5\n",
            "7\n",
            "8\n",
            "10\n"
          ]
        }
      ]
    },
    {
      "cell_type": "code",
      "source": [
        "#Questão 9:(3 PONTOS) – A função INPUT() em Python é usada para receber entrada do usuário. Ela exibe uma mensagem (prompt), aguarda o que for digitado pelo teclado e retorna o valor como uma STRING. Crie um algoritmo em Python que solicite ao usuário uma frase qualquer. O programa deve contar a quantidade de caracteres digitados, mas só deve exibir esse número se a frase tiver mais de 10 caracteres.\n",
        "frase = input(\"Digite uma frase: \")\n",
        "if len(frase) > 10:\n",
        "    print(\"A frase possui\", len(frase), \"caracteres.\")"
      ],
      "metadata": {
        "colab": {
          "base_uri": "https://localhost:8080/"
        },
        "id": "fF_wVjK8z9hf",
        "outputId": "8ed25701-5697-4be8-a508-ed17e993a310"
      },
      "execution_count": 4,
      "outputs": [
        {
          "output_type": "stream",
          "name": "stdout",
          "text": [
            "Digite uma frase: É isso e bora pra cima\n",
            "A frase possui 22 caracteres.\n"
          ]
        }
      ]
    },
    {
      "cell_type": "code",
      "source": [
        "#Questão 10: (3 PONTOS) - Em Python, uma variável é um nome associado a um espaço na memória usado para armazenar um único valor por vez. Ela permite guardar informações que\n",
        "#podem ser reutilizadas ao longo do programa. Considere duas variáveis chamadas POTE_A e POTE_B. Escreva um algoritmo em Python que solicite ao usuário a inserção de um valor para cada\n",
        "#uma dessas variáveis. No entanto, após a inserção, os valores devem ser trocados entre si, ou seja, o valor digitado inicialmente para POTE_A deve ser armazenado em POTE_B, e o valor de POTE_B\n",
        "#deve ser armazenado em POTE_A. Importante: A troca deve ser feita de forma independente do momento da inserção, ou seja, não é permitido inverter os valores diretamente no momento do\n",
        "#input. A lógica de troca deve ocorrer após a leitura dos dados.\n",
        "pote_a = int(input('digite um valor para o pote A:'))\n",
        "pote_b = int(input('digite um valor para o pote B:'))\n",
        "novo = pote_a + pote_b\n",
        "pote_a_novo = novo - pote_a\n",
        "pote_b_novo = novo - pote_b\n",
        "print(f'o valor do pote A agora é: {pote_a_novo}, e o valor do pote B agora é: {pote_b_novo}')"
      ],
      "metadata": {
        "colab": {
          "base_uri": "https://localhost:8080/"
        },
        "id": "YYh7NPgp0V5V",
        "outputId": "53701056-df47-4f02-b3bf-959924b31ad4"
      },
      "execution_count": 5,
      "outputs": [
        {
          "output_type": "stream",
          "name": "stdout",
          "text": [
            "digite um valor para o pote A:234\n",
            "digite um valor para o pote B:654\n",
            "o valor do pote A agora é: 654, e o valor do pote B agora é: 234\n"
          ]
        }
      ]
    }
  ]
}