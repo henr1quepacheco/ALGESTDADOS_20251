{
  "nbformat": 4,
  "nbformat_minor": 0,
  "metadata": {
    "colab": {
      "provenance": [],
      "authorship_tag": "ABX9TyPN3bNGAfrGmwCpCBQxjVdC",
      "include_colab_link": true
    },
    "kernelspec": {
      "name": "python3",
      "display_name": "Python 3"
    },
    "language_info": {
      "name": "python"
    }
  },
  "cells": [
    {
      "cell_type": "markdown",
      "metadata": {
        "id": "view-in-github",
        "colab_type": "text"
      },
      "source": [
        "<a href=\"https://colab.research.google.com/github/henr1quepacheco/ALGESTDADOS_20251/blob/main/Exerc%C3%ADcios_de_Revis%C3%A3o_Sala_de_Aula_17_04.ipynb\" target=\"_parent\"><img src=\"https://colab.research.google.com/assets/colab-badge.svg\" alt=\"Open In Colab\"/></a>"
      ]
    },
    {
      "cell_type": "code",
      "execution_count": null,
      "metadata": {
        "colab": {
          "base_uri": "https://localhost:8080/"
        },
        "id": "N-Wqc6yqOoWt",
        "outputId": "c493d2e4-3f7d-45e6-adf3-c7978bd6a859"
      },
      "outputs": [
        {
          "output_type": "stream",
          "name": "stdout",
          "text": [
            "Digite a idade: 19\n",
            "Maior de idade\n"
          ]
        }
      ],
      "source": [
        "#1 Escreva um programa que leia a idade de uma pessoa e diga se ela é menor de idade (menos de 18 anos), maior de idade (entre 18 e 60) ou idosa (mais de 60 anos). Use if, elif e else.\n",
        "idade = int(input('Digite a idade: '))\n",
        "if idade < 18:\n",
        "    print('Menor de idade')\n",
        "elif idade >= 18 and idade <= 60:\n",
        "    print('Maior de idade')\n",
        "else:\n",
        "    print('Idosa')\n"
      ]
    },
    {
      "cell_type": "code",
      "source": [
        "#2 Faça um programa que leia um número inteiro e diga se ele é par, ímpar ou igual a zero, usando uma estrutura condicional.\n",
        "numero = int(input('Digite um número inteiro: '))\n",
        "if numero == 0:\n",
        "    print('O número é igual a zero')\n",
        "elif numero % 2 == 0:\n",
        "    print('O número é par')\n",
        "else:\n",
        "    print('O número é ímpar')"
      ],
      "metadata": {
        "colab": {
          "base_uri": "https://localhost:8080/"
        },
        "id": "UlYwECWhPGxE",
        "outputId": "b2768c66-c98a-4f72-bba0-7f4ffe3d9e5a"
      },
      "execution_count": null,
      "outputs": [
        {
          "output_type": "stream",
          "name": "stdout",
          "text": [
            "Digite um número inteiro: 49\n",
            "O número é ímpar\n"
          ]
        }
      ]
    },
    {
      "cell_type": "code",
      "source": [
        "#3 Crie um programa que leia dois números inteiros e mostre qual dos dois é o maior, qual é o menor ou se os dois são iguais. Use estruturas if, elif e else.\n",
        "numero1 = int(input('Digite o primeiro número inteiro: '))\n",
        "numero2 = int(input('Digite o segundo número inteiro: '))\n",
        "if numero1 > numero2:\n",
        "    print('O primeiro número é maior que o segundo')\n",
        "elif numero1 == numero2:\n",
        "    print('Os números são iguais')\n",
        "else:\n",
        "    print('O segundo número é maior que o primeiro')"
      ],
      "metadata": {
        "colab": {
          "base_uri": "https://localhost:8080/"
        },
        "id": "0ja2LcXYPgNr",
        "outputId": "a5844158-8cb2-4997-e091-fe81a1203c05"
      },
      "execution_count": null,
      "outputs": [
        {
          "output_type": "stream",
          "name": "stdout",
          "text": [
            "Digite o primeiro número inteiro: 12\n",
            "Digite o segundo número inteiro: 98\n",
            "O segundo número é maior que o primeiro\n"
          ]
        }
      ]
    },
    {
      "cell_type": "code",
      "source": [
        "#4 Escreva um programa que leia um número de 1 a 7 e mostre o dia da semana correspondente (por exemplo, 1 = segunda-feira, 2 = terça, etc). Se o número for inválido (menor que 1 ou maior que 7), mostre uma mensagem de erro. Use if, elif e else.\n",
        "numero = int(input('Digite um número de 1 a 7: '))\n",
        "if numero == 1:\n",
        "    print('Segunda-feira')\n",
        "elif numero == 2:\n",
        "    print('Terça-feira')\n",
        "elif numero == 3:\n",
        "    print('Quarta-feira')\n",
        "elif numero == 4:\n",
        "    print('Quinta-feira')\n",
        "elif numero == 5:\n",
        "    print('Sexta-feira')\n",
        "elif numero == 6:\n",
        "    print('Sábado')\n",
        "elif numero == 7:\n",
        "    print('Domingo')\n",
        "else:\n",
        "    print('Número inválido')"
      ],
      "metadata": {
        "colab": {
          "base_uri": "https://localhost:8080/"
        },
        "id": "81qflCWtP3kE",
        "outputId": "943d3a3a-c8a7-42c6-f88d-cdab21bdaf52"
      },
      "execution_count": null,
      "outputs": [
        {
          "output_type": "stream",
          "name": "stdout",
          "text": [
            "Digite um número de 1 a 7: 9\n",
            "Número inválido, try again\n"
          ]
        }
      ]
    },
    {
      "cell_type": "code",
      "source": [
        "#5 Escreva um programa com for in range que imprima os números de 1 a 10, dizendo se cada número é par ou ímpar.\n",
        "for i in range(1, 11):\n",
        "    if i % 2 == 0:\n",
        "        print(f'{i} é par')\n",
        "    else:\n",
        "        print(f'{i} é ímpar')\n"
      ],
      "metadata": {
        "colab": {
          "base_uri": "https://localhost:8080/"
        },
        "id": "76GNw9eKQUm8",
        "outputId": "88c19cbe-0ba0-45a4-dacc-1ed907a6c30e"
      },
      "execution_count": null,
      "outputs": [
        {
          "output_type": "stream",
          "name": "stdout",
          "text": [
            "1 é ímpar\n",
            "2 é par\n",
            "3 é ímpar\n",
            "4 é par\n",
            "5 é ímpar\n",
            "6 é par\n",
            "7 é ímpar\n",
            "8 é par\n",
            "9 é ímpar\n",
            "10 é par\n"
          ]
        }
      ]
    },
    {
      "cell_type": "code",
      "source": [
        "#6 Crie um programa com while que leia vários números inteiros. O programa deve continuar enquanto o número digitado não for igual a zero. Ao final, mostre quantos números positivos e quantos negativos foram digitados.\n",
        "positivos = 0\n",
        "negativos = 0\n",
        "numero = 1\n",
        "\n",
        "while numero != 0:\n",
        "  numero = int(input(\"Digite um número inteiro e 0(zero) para encerrar a contagem:  \"))\n",
        "  if numero > 0:\n",
        "    positivos += 1\n",
        "  elif numero < 0:\n",
        "    negativos += 1\n",
        "\n",
        "print(\"Quantidade de números positivos:\", positivos)\n",
        "print(\"Quantidade de números negativos:\", negativos)\n"
      ],
      "metadata": {
        "colab": {
          "base_uri": "https://localhost:8080/"
        },
        "id": "eg46rzNRQxsL",
        "outputId": "11131dbf-48e6-4a24-e164-b26aed1dacd5"
      },
      "execution_count": null,
      "outputs": [
        {
          "output_type": "stream",
          "name": "stdout",
          "text": [
            "Digite um número inteiro e 0(zero) para encerrar a contagem:  43\n",
            "Digite um número inteiro e 0(zero) para encerrar a contagem:  -43\n",
            "Digite um número inteiro e 0(zero) para encerrar a contagem:  -76\n",
            "Digite um número inteiro e 0(zero) para encerrar a contagem:  -98\n",
            "Digite um número inteiro e 0(zero) para encerrar a contagem:  -09\n",
            "Digite um número inteiro e 0(zero) para encerrar a contagem:  -78\n",
            "Digite um número inteiro e 0(zero) para encerrar a contagem:  -09\n",
            "Digite um número inteiro e 0(zero) para encerrar a contagem:  -12\n",
            "Digite um número inteiro e 0(zero) para encerrar a contagem:  12\n",
            "Digite um número inteiro e 0(zero) para encerrar a contagem:  54\n",
            "Digite um número inteiro e 0(zero) para encerrar a contagem:  76\n",
            "Digite um número inteiro e 0(zero) para encerrar a contagem:  84\n",
            "Digite um número inteiro e 0(zero) para encerrar a contagem:  76\n",
            "Digite um número inteiro e 0(zero) para encerrar a contagem:  98\n",
            "Digite um número inteiro e 0(zero) para encerrar a contagem:  86\n",
            "Digite um número inteiro e 0(zero) para encerrar a contagem:  43\n",
            "Digite um número inteiro e 0(zero) para encerrar a contagem:  0\n",
            "Quantidade de números positivos: 9\n",
            "Quantidade de números negativos: 7\n"
          ]
        }
      ]
    },
    {
      "cell_type": "code",
      "source": [
        "#7 Faça um programa com for que conte de 10 até 1 (ordem decrescente). Para cada número, diga se ele é múltiplo de 3 ou não.\n",
        "for i in range(10, 0, -1):\n",
        "    if i % 3 == 0:\n",
        "        print(f\"{i} é múltiplo de 3\")\n",
        "    else:\n",
        "        print(f\"{i} não é múltiplo de 3\")"
      ],
      "metadata": {
        "colab": {
          "base_uri": "https://localhost:8080/"
        },
        "id": "LE62PIwTRZBD",
        "outputId": "f8ace3b6-35be-4622-9d6e-28abb8b20ee1"
      },
      "execution_count": null,
      "outputs": [
        {
          "output_type": "stream",
          "name": "stdout",
          "text": [
            "10 não é múltiplo de 3\n",
            "9 é múltiplo de 3\n",
            "8 não é múltiplo de 3\n",
            "7 não é múltiplo de 3\n",
            "6 é múltiplo de 3\n",
            "5 não é múltiplo de 3\n",
            "4 não é múltiplo de 3\n",
            "3 é múltiplo de 3\n",
            "2 não é múltiplo de 3\n",
            "1 não é múltiplo de 3\n"
          ]
        }
      ]
    },
    {
      "cell_type": "code",
      "source": [
        "#8 Escreva um programa com while True que peça a senha do usuário até que ele digite a senha correta (por exemplo, \"1234\"). Quando a senha for correta, o programa deve mostrar uma mensagem de acesso permitido e encerrar.\n",
        "senha = \"300406\"\n",
        "while True:\n",
        "    senha_digitada = input(\"Digite uma senha de seis dígitos: \")\n",
        "    if senha_digitada == senha:\n",
        "        print(\"Acesso permitido\")\n",
        "        break\n",
        "    else:\n",
        "        print(\"Senha incorreta. Tente novamente.\")"
      ],
      "metadata": {
        "colab": {
          "base_uri": "https://localhost:8080/"
        },
        "id": "A3Oi2yemSUM0",
        "outputId": "c3e491f6-a634-429a-fa56-834703d6bf8b"
      },
      "execution_count": null,
      "outputs": [
        {
          "output_type": "stream",
          "name": "stdout",
          "text": [
            "Digite uma senha de seis dígitos: 299543\n",
            "Senha incorreta. Tente novamente.\n",
            "Digite uma senha de seis dígitos: 096576\n",
            "Senha incorreta. Tente novamente.\n",
            "Digite uma senha de seis dígitos: 231456\n",
            "Senha incorreta. Tente novamente.\n",
            "Digite uma senha de seis dígitos: 123456\n",
            "Senha incorreta. Tente novamente.\n",
            "Digite uma senha de seis dígitos: 654321\n",
            "Senha incorreta. Tente novamente.\n",
            "Digite uma senha de seis dígitos: 300406\n",
            "Acesso permitido\n"
          ]
        }
      ]
    },
    {
      "cell_type": "code",
      "source": [
        "#9 Crie um programa com for in range para ler 5 números inteiros, um por vez. Ao final, mostre quantos desses números são maiores que 100.\n",
        "maiores_que_100 = 0\n",
        "for i in range(5):\n",
        "  numero = int(input(f\"Digite o {i+1}º número inteiro: \"))\n",
        "  if numero > 100:\n",
        "    maiores_que_100 += 1\n",
        "print(f\"Quantidade de números maiores que 100: {maiores_que_100}\")\n"
      ],
      "metadata": {
        "colab": {
          "base_uri": "https://localhost:8080/"
        },
        "id": "QOJDWLEMS8Gw",
        "outputId": "16cb67a0-a264-45b3-b2eb-0f87106785fe"
      },
      "execution_count": null,
      "outputs": [
        {
          "output_type": "stream",
          "name": "stdout",
          "text": [
            "Digite o 1º número inteiro: 45\n",
            "Digite o 2º número inteiro: 98\n",
            "Digite o 3º número inteiro: 107\n",
            "Digite o 4º número inteiro: 306539\n",
            "Digite o 5º número inteiro: 1\n",
            "Quantidade de números maiores que 100: 2\n"
          ]
        }
      ]
    },
    {
      "cell_type": "code",
      "source": [
        "#10 Escreva um programa com while que leia a idade de várias pessoas. O programa deve continuar até que uma idade negativa seja digitada. No final, mostre a média das idades válidas digitadas.\n"
      ],
      "metadata": {
        "id": "sxMcN07bTR84"
      },
      "execution_count": null,
      "outputs": []
    },
    {
      "cell_type": "code",
      "source": [
        "#11 Escreva um programa com for que leia um número inteiro e exiba a tabuada de multiplicação desse número de 1 até 10.\n",
        "\n",
        "numero = int(input('Digite um número inteiro: '))\n",
        "\n",
        "for i in range(1, 11):\n",
        "  print(f'{numero} x {i} = {numero * i}')\n"
      ],
      "metadata": {
        "colab": {
          "base_uri": "https://localhost:8080/"
        },
        "id": "IvAJZ_RhUFsg",
        "outputId": "1eec5332-cb63-4825-f284-4243d49d9f11"
      },
      "execution_count": null,
      "outputs": [
        {
          "output_type": "stream",
          "name": "stdout",
          "text": [
            "Digite um número inteiro: 5678\n",
            "5678 x 1 = 5678\n",
            "5678 x 2 = 11356\n",
            "5678 x 3 = 17034\n",
            "5678 x 4 = 22712\n",
            "5678 x 5 = 28390\n",
            "5678 x 6 = 34068\n",
            "5678 x 7 = 39746\n",
            "5678 x 8 = 45424\n",
            "5678 x 9 = 51102\n",
            "5678 x 10 = 56780\n"
          ]
        }
      ]
    },
    {
      "cell_type": "code",
      "source": [
        "#12 Escreva um programa com while que simule um caixa eletrônico. Peça ao usuário o valor do saque (apenas valores múltiplos de 2) e calcule quantas notas de 50, 20, 10, 5 e 2 são necessárias. Não use listas. Mostre o total de cada nota usada.\n",
        "saque = int(input(\"Digite o valor do saque (múltiplo de 2): \"))\n",
        "\n",
        "if saque % 2 != 0:\n",
        "    print(\"Valor inválido. O saque deve ser múltiplo de 2.\")\n",
        "else:\n",
        "    notas50 = saque // 50\n",
        "    resto = saque % 50\n",
        "\n",
        "    notas20 = resto // 20\n",
        "    resto = resto % 20\n",
        "\n",
        "    notas10 = resto // 10\n",
        "    resto = resto % 10\n",
        "\n",
        "    notas5 = resto // 5\n",
        "    resto = resto % 5\n",
        "\n",
        "    notas2 = resto // 2\n",
        "\n",
        "    print(\"Notas de 50:\", notas50)\n",
        "    print(\"Notas de 20:\", notas20)\n",
        "    print(\"Notas de 10:\", notas10)\n",
        "    print(\"Notas de 5:\", notas5)\n",
        "    print(\"Notas de 2:\", notas2)\n"
      ],
      "metadata": {
        "colab": {
          "base_uri": "https://localhost:8080/"
        },
        "id": "DA32S6nuduFy",
        "outputId": "2f493bea-7338-49d3-dcb3-330c7455fac8"
      },
      "execution_count": 39,
      "outputs": [
        {
          "output_type": "stream",
          "name": "stdout",
          "text": [
            "Digite o valor do saque (múltiplo de 2): 40\n",
            "Notas de 50: 0\n",
            "Notas de 20: 2\n",
            "Notas de 10: 0\n",
            "Notas de 5: 0\n",
            "Notas de 2: 0\n"
          ]
        }
      ]
    },
    {
      "cell_type": "code",
      "source": [
        "#13 Escreva um programa com for que leia 10 números inteiros e diga ao final quantos deles são pares e quantos são ímpares.\n",
        "\n",
        "pares = 0\n",
        "impares = 0\n",
        "for i in range(10):\n",
        "    numero = int(input(f\"Digite o {i+1}º número inteiro: \"))\n",
        "    if numero % 2 == 0:\n",
        "        pares += 1\n",
        "    else:\n",
        "        impares += 1\n",
        "print(f\"Quantidade de números pares: {pares}\")\n",
        "print(f\"Quantidade de números ímpares: {impares}\")\n"
      ],
      "metadata": {
        "colab": {
          "base_uri": "https://localhost:8080/"
        },
        "id": "1UjE4nyReVBx",
        "outputId": "1a0c9eb4-dc50-4b20-fd81-20c3b47de62e"
      },
      "execution_count": 41,
      "outputs": [
        {
          "output_type": "stream",
          "name": "stdout",
          "text": [
            "Digite o 1º número inteiro: 21\n",
            "Digite o 2º número inteiro: 43\n",
            "Digite o 3º número inteiro: 90\n",
            "Digite o 4º número inteiro: 89\n",
            "Digite o 5º número inteiro: 86\n",
            "Digite o 6º número inteiro: 54\n",
            "Digite o 7º número inteiro: 80\n",
            "Digite o 8º número inteiro: 50\n",
            "Digite o 9º número inteiro: 10\n",
            "Digite o 10º número inteiro: 11\n",
            "Quantidade de números pares: 6\n",
            "Quantidade de números ímpares: 4\n"
          ]
        }
      ]
    },
    {
      "cell_type": "code",
      "source": [
        "#14 Crie um programa com while que leia um número inteiro positivo. Se o usuário digitar um número negativo, o programa deve mostrar uma mensagem de erro e continuar pedindo até que um número válido seja digitado.\n",
        "num = int(input(\"Digite um número inteiro positivo: \"))\n",
        "while num < 0:\n",
        "    print(\"Número inválido. Digite um número inteiro positivo.\")\n",
        "    num = int(input(\"Digite um número inteiro positivo: \"))\n",
        "print(\"Número válido:\", num)"
      ],
      "metadata": {
        "colab": {
          "base_uri": "https://localhost:8080/"
        },
        "id": "3COz865YjA4z",
        "outputId": "cf180a49-c99c-4e66-f6ac-5b52fc529bf9"
      },
      "execution_count": 42,
      "outputs": [
        {
          "output_type": "stream",
          "name": "stdout",
          "text": [
            "Digite um número inteiro positivo: -76\n",
            "Número inválido. Digite um número inteiro positivo.\n",
            "Digite um número inteiro positivo: -9\n",
            "Número inválido. Digite um número inteiro positivo.\n",
            "Digite um número inteiro positivo: -8\n",
            "Número inválido. Digite um número inteiro positivo.\n",
            "Digite um número inteiro positivo: -2\n",
            "Número inválido. Digite um número inteiro positivo.\n",
            "Digite um número inteiro positivo: -1\n",
            "Número inválido. Digite um número inteiro positivo.\n",
            "Digite um número inteiro positivo: 2\n",
            "Número válido: 2\n"
          ]
        }
      ]
    },
    {
      "cell_type": "code",
      "source": [
        "#15 Escreva um programa com for e enumerate que mostre os números de 5 até 15. Para cada número, diga sua posição na sequência (iniciando do 0) e se ele é par ou ímpar.\n",
        "\n",
        "for i, num in enumerate(range(5, 16)):\n",
        "    if num % 2 == 0:\n",
        "        print(f\"Número: {num} -> Posição: {i} -> Par\")\n",
        "    else:\n",
        "        print(f\"Número: {num} -> Posição: {i} -> Ímpar\")\n"
      ],
      "metadata": {
        "colab": {
          "base_uri": "https://localhost:8080/"
        },
        "id": "KUOHLOCYjwAz",
        "outputId": "04eded06-bfde-41d4-ac70-92fc748bfabd"
      },
      "execution_count": 46,
      "outputs": [
        {
          "output_type": "stream",
          "name": "stdout",
          "text": [
            "Número: 5 -> Posição: 0 -> Ímpar\n",
            "Número: 6 -> Posição: 1 -> Par\n",
            "Número: 7 -> Posição: 2 -> Ímpar\n",
            "Número: 8 -> Posição: 3 -> Par\n",
            "Número: 9 -> Posição: 4 -> Ímpar\n",
            "Número: 10 -> Posição: 5 -> Par\n",
            "Número: 11 -> Posição: 6 -> Ímpar\n",
            "Número: 12 -> Posição: 7 -> Par\n",
            "Número: 13 -> Posição: 8 -> Ímpar\n",
            "Número: 14 -> Posição: 9 -> Par\n",
            "Número: 15 -> Posição: 10 -> Ímpar\n"
          ]
        }
      ]
    },
    {
      "cell_type": "code",
      "source": [
        "\n",
        "#16 Escreva um programa com while que simule uma votação. O usuário pode votar no candidato A (1), candidato B (2) ou encerrar (0). O programa deve continuar até que o número 0 seja digitado. Ao final, mostre a quantidade de votos para cada candidato.\n",
        "\n",
        "votos_a = 0\n",
        "votos_b = 0\n",
        "\n",
        "while True:\n",
        "  voto = int(input(\"Digite seu voto (1 para o candidato A, 2 para o candidato B, 0 para encerrar): \"))\n",
        "\n",
        "  if voto == 1:\n",
        "    votos_a += 1\n",
        "  elif voto == 2:\n",
        "    votos_b += 1\n",
        "  elif voto == 0:\n",
        "    break\n",
        "  else:\n",
        "    print(\"Voto inválido. Digite 1, 2 ou 0.\")\n",
        "\n",
        "print(\"Resultado da votação:\")\n",
        "print(\"Candidato A:\", votos_a, \"votos\")\n",
        "print(\"Candidato B:\", votos_b, \"votos\")\n"
      ],
      "metadata": {
        "colab": {
          "base_uri": "https://localhost:8080/"
        },
        "id": "ogl6hicMkYhf",
        "outputId": "c67fa6d7-1671-4add-bb6c-dd4c0d0ac7e7"
      },
      "execution_count": 50,
      "outputs": [
        {
          "output_type": "stream",
          "name": "stdout",
          "text": [
            "Digite seu voto (1 para o candidato A, 2 para o candidato B, 0 para encerrar): 2\n",
            "Digite seu voto (1 para o candidato A, 2 para o candidato B, 0 para encerrar): 2\n",
            "Digite seu voto (1 para o candidato A, 2 para o candidato B, 0 para encerrar): 1\n",
            "Digite seu voto (1 para o candidato A, 2 para o candidato B, 0 para encerrar): 1\n",
            "Digite seu voto (1 para o candidato A, 2 para o candidato B, 0 para encerrar): 1\n",
            "Digite seu voto (1 para o candidato A, 2 para o candidato B, 0 para encerrar): 2\n",
            "Digite seu voto (1 para o candidato A, 2 para o candidato B, 0 para encerrar): 2\n",
            "Digite seu voto (1 para o candidato A, 2 para o candidato B, 0 para encerrar): 1\n",
            "Digite seu voto (1 para o candidato A, 2 para o candidato B, 0 para encerrar): 1\n",
            "Digite seu voto (1 para o candidato A, 2 para o candidato B, 0 para encerrar): 1\n",
            "Digite seu voto (1 para o candidato A, 2 para o candidato B, 0 para encerrar): 2\n",
            "Digite seu voto (1 para o candidato A, 2 para o candidato B, 0 para encerrar): 1\n",
            "Digite seu voto (1 para o candidato A, 2 para o candidato B, 0 para encerrar): 2\n",
            "Digite seu voto (1 para o candidato A, 2 para o candidato B, 0 para encerrar): 1\n",
            "Digite seu voto (1 para o candidato A, 2 para o candidato B, 0 para encerrar): 2\n",
            "Digite seu voto (1 para o candidato A, 2 para o candidato B, 0 para encerrar): 1\n",
            "Digite seu voto (1 para o candidato A, 2 para o candidato B, 0 para encerrar): 1\n",
            "Digite seu voto (1 para o candidato A, 2 para o candidato B, 0 para encerrar): 2\n",
            "Digite seu voto (1 para o candidato A, 2 para o candidato B, 0 para encerrar): 1\n",
            "Digite seu voto (1 para o candidato A, 2 para o candidato B, 0 para encerrar): 2\n",
            "Digite seu voto (1 para o candidato A, 2 para o candidato B, 0 para encerrar): 1\n",
            "Digite seu voto (1 para o candidato A, 2 para o candidato B, 0 para encerrar): 2\n",
            "Digite seu voto (1 para o candidato A, 2 para o candidato B, 0 para encerrar): 0\n",
            "Resultado da votação:\n",
            "Candidato A: 12 votos\n",
            "Candidato B: 10 votos\n"
          ]
        }
      ]
    },
    {
      "cell_type": "code",
      "source": [
        "#17 Escreva um programa com for in range que percorra os números de 1 a 50. Para cada número, diga se ele é divisível por 5, por 7, por ambos, ou por nenhum dos dois.\n",
        "\n",
        "for i in range(1, 51):\n",
        "    if i % 5 == 0 and i % 7 == 0:\n",
        "        print(f\"{i} é divisível por 5 e por 7.\")\n",
        "    elif i % 5 == 0:\n",
        "        print(f\"{i} é divisível por 5.\")\n",
        "    elif i % 7 == 0:\n",
        "        print(f\"{i} é divisível por 7.\")\n",
        "    else:\n",
        "        print(f\"{i} não é divisível por 5 nem por 7.\")\n"
      ],
      "metadata": {
        "colab": {
          "base_uri": "https://localhost:8080/"
        },
        "id": "uhMzjcbDkypM",
        "outputId": "ca490dc5-b893-41bb-8e76-aad9363bfc61"
      },
      "execution_count": 51,
      "outputs": [
        {
          "output_type": "stream",
          "name": "stdout",
          "text": [
            "1 não é divisível por 5 nem por 7.\n",
            "2 não é divisível por 5 nem por 7.\n",
            "3 não é divisível por 5 nem por 7.\n",
            "4 não é divisível por 5 nem por 7.\n",
            "5 é divisível por 5.\n",
            "6 não é divisível por 5 nem por 7.\n",
            "7 é divisível por 7.\n",
            "8 não é divisível por 5 nem por 7.\n",
            "9 não é divisível por 5 nem por 7.\n",
            "10 é divisível por 5.\n",
            "11 não é divisível por 5 nem por 7.\n",
            "12 não é divisível por 5 nem por 7.\n",
            "13 não é divisível por 5 nem por 7.\n",
            "14 é divisível por 7.\n",
            "15 é divisível por 5.\n",
            "16 não é divisível por 5 nem por 7.\n",
            "17 não é divisível por 5 nem por 7.\n",
            "18 não é divisível por 5 nem por 7.\n",
            "19 não é divisível por 5 nem por 7.\n",
            "20 é divisível por 5.\n",
            "21 é divisível por 7.\n",
            "22 não é divisível por 5 nem por 7.\n",
            "23 não é divisível por 5 nem por 7.\n",
            "24 não é divisível por 5 nem por 7.\n",
            "25 é divisível por 5.\n",
            "26 não é divisível por 5 nem por 7.\n",
            "27 não é divisível por 5 nem por 7.\n",
            "28 é divisível por 7.\n",
            "29 não é divisível por 5 nem por 7.\n",
            "30 é divisível por 5.\n",
            "31 não é divisível por 5 nem por 7.\n",
            "32 não é divisível por 5 nem por 7.\n",
            "33 não é divisível por 5 nem por 7.\n",
            "34 não é divisível por 5 nem por 7.\n",
            "35 é divisível por 5 e por 7.\n",
            "36 não é divisível por 5 nem por 7.\n",
            "37 não é divisível por 5 nem por 7.\n",
            "38 não é divisível por 5 nem por 7.\n",
            "39 não é divisível por 5 nem por 7.\n",
            "40 é divisível por 5.\n",
            "41 não é divisível por 5 nem por 7.\n",
            "42 é divisível por 7.\n",
            "43 não é divisível por 5 nem por 7.\n",
            "44 não é divisível por 5 nem por 7.\n",
            "45 é divisível por 5.\n",
            "46 não é divisível por 5 nem por 7.\n",
            "47 não é divisível por 5 nem por 7.\n",
            "48 não é divisível por 5 nem por 7.\n",
            "49 é divisível por 7.\n",
            "50 é divisível por 5.\n"
          ]
        }
      ]
    },
    {
      "cell_type": "code",
      "source": [
        "#18 Escreva um programa com while que leia dois números inteiros e diga qual é o maior. Depois, pergunte ao usuário se ele deseja comparar outros dois números. O programa só termina se a resposta for diferente de \"s\".\n",
        "\n",
        "while True:\n",
        "    num1 = int(input(\"Digite o primeiro número inteiro: \"))\n",
        "    num2 = int(input(\"Digite o segundo número inteiro: \"))\n",
        "\n",
        "    if num1 > num2:\n",
        "        print(f\"{num1} é maior que {num2}\")\n",
        "    elif num2 > num1:\n",
        "        print(f\"{num2} é maior que {num1}\")\n",
        "    else:\n",
        "        print(f\"{num1} e {num2} são iguais\")\n",
        "\n",
        "    continuar = input(\"Deseja comparar outros dois números (s/n)? \")\n",
        "    if continuar != \"s\":\n",
        "        break\n"
      ],
      "metadata": {
        "colab": {
          "base_uri": "https://localhost:8080/"
        },
        "id": "jCKxSScCk89m",
        "outputId": "505f2525-ac72-4df8-ec3a-8ef49e039240"
      },
      "execution_count": 52,
      "outputs": [
        {
          "name": "stdout",
          "output_type": "stream",
          "text": [
            "Digite o primeiro número inteiro: 23\n",
            "Digite o segundo número inteiro: 4\n",
            "23 é maior que 4\n",
            "Deseja comparar outros dois números (s/n)? s\n",
            "Digite o primeiro número inteiro: 97\n",
            "Digite o segundo número inteiro: 76\n",
            "97 é maior que 76\n",
            "Deseja comparar outros dois números (s/n)? n\n"
          ]
        }
      ]
    },
    {
      "cell_type": "code",
      "source": [
        "#19 Escreva um programa com for in que leia uma palavra de até 10 letras, pedindo uma letra por vez. Ao final, o programa deve mostrar quais letras são vogais e quais são consoantes. Não use listas.\n",
        "for i in range(10):\n",
        "   letras = (input(f\"Digite a {i+1}º letra: \"))\n",
        "   if letras in \"aeiou\":\n",
        "       print(f\"{letras} é uma vogal\")\n",
        "   else:\n",
        "       print(f\"{letras} é uma consoante\")"
      ],
      "metadata": {
        "colab": {
          "base_uri": "https://localhost:8080/"
        },
        "id": "12CffpcylOKG",
        "outputId": "042a1f81-d88a-4cc2-be37-4e6db1a04283"
      },
      "execution_count": 79,
      "outputs": [
        {
          "output_type": "stream",
          "name": "stdout",
          "text": [
            "Digite a 1º letra: c\n",
            "c é uma consoante\n",
            "Digite a 2º letra: a\n",
            "a é uma vogal\n",
            "Digite a 3º letra: r\n",
            "r é uma consoante\n",
            "Digite a 4º letra: a\n",
            "a é uma vogal\n",
            "Digite a 5º letra: l\n",
            "l é uma consoante\n",
            "Digite a 6º letra: h\n",
            "h é uma consoante\n",
            "Digite a 7º letra: a\n",
            "a é uma vogal\n",
            "Digite a 8º letra: d\n",
            "d é uma consoante\n",
            "Digite a 9º letra: a\n",
            "a é uma vogal\n",
            "Digite a 10º letra: s\n",
            "s é uma consoante\n"
          ]
        }
      ]
    },
    {
      "cell_type": "code",
      "source": [
        "#20 Escreva um programa com while que simule um menu de opções: (1) Sacar, (2) Depositar, (3) Sair. O menu deve ser mostrado repetidamente até que o usuário escolha a opção 3 para sair.\n",
        "num = int(input(\"Digite uma opção:  (1) para Sacar, (2) para Depositar e (3)  para Sair: \"))\n",
        "if num == 1:\n",
        "    print(\"Você escolheu a opção Sacar\")\n",
        "elif num == 2:\n",
        "    print(\"Você escolheu a opção Depositar\")\n",
        "elif num == 3:\n",
        "    print(\"Você escolheu a opção Sair\")"
      ],
      "metadata": {
        "colab": {
          "base_uri": "https://localhost:8080/"
        },
        "id": "RmiBmk7wmgtH",
        "outputId": "79e48502-7390-4b2a-c2e4-9fec75dab733"
      },
      "execution_count": 76,
      "outputs": [
        {
          "output_type": "stream",
          "name": "stdout",
          "text": [
            "Digite uma opção:  (1) para Sacar, (2) para Depositar e (3)  para Sair: 2\n",
            "Você escolheu a opção Depositar\n"
          ]
        }
      ]
    }
  ]
}