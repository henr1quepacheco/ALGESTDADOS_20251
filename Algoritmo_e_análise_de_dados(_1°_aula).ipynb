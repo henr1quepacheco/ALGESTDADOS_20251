{
  "nbformat": 4,
  "nbformat_minor": 0,
  "metadata": {
    "colab": {
      "provenance": [],
      "toc_visible": true,
      "authorship_tag": "ABX9TyONiZkkAZKRA8CTBpV5/Shu",
      "include_colab_link": true
    },
    "kernelspec": {
      "name": "python3",
      "display_name": "Python 3"
    },
    "language_info": {
      "name": "python"
    }
  },
  "cells": [
    {
      "cell_type": "markdown",
      "metadata": {
        "id": "view-in-github",
        "colab_type": "text"
      },
      "source": [
        "<a href=\"https://colab.research.google.com/github/henr1quepacheco/ALGESTDADOS_20251/blob/main/Algoritmo_e_an%C3%A1lise_de_dados(_1%C2%B0_aula).ipynb\" target=\"_parent\"><img src=\"https://colab.research.google.com/assets/colab-badge.svg\" alt=\"Open In Colab\"/></a>"
      ]
    },
    {
      "cell_type": "code",
      "execution_count": null,
      "metadata": {
        "colab": {
          "base_uri": "https://localhost:8080/"
        },
        "id": "fZWbQwS1ZrxJ",
        "outputId": "1bf82e35-b833-417d-8965-e818d753eec3"
      },
      "outputs": [
        {
          "output_type": "stream",
          "name": "stdout",
          "text": [
            "3570\n"
          ]
        }
      ],
      "source": [
        "#soma de dois números conhecidos em python\n",
        "num1 = 1930\n",
        "num2 = 1640\n",
        "resultado = num1 + num2\n",
        "print(resultado)"
      ]
    },
    {
      "cell_type": "code",
      "source": [
        "#soma de dois números desconhecidos em python\n",
        "num1 = int (input('digite o primeiro número'))\n",
        "num2 = int (input('digite o segundo número'))\n",
        "resultado = num1 + num2\n",
        "print(resultado)"
      ],
      "metadata": {
        "id": "ChVH0ysabm-o"
      },
      "execution_count": null,
      "outputs": []
    },
    {
      "cell_type": "markdown",
      "source": [],
      "metadata": {
        "id": "lJPJxUyOd6_B"
      }
    },
    {
      "cell_type": "code",
      "source": [
        "#Crie um algoritmo em python que calcule o valor do imc de uma pessoa\n",
        "#peso=x\n",
        "#altura=y\n",
        "num1 = float (input('digite seu peso: '))\n",
        "num2 = float (input('digite  altura: '))\n",
        "resultado = num1/(num2*num2)\n",
        "print(resultado)"
      ],
      "metadata": {
        "id": "a_pJma5c7DYD"
      },
      "execution_count": null,
      "outputs": []
    },
    {
      "cell_type": "code",
      "source": [
        "#criar um programa que retorne o nome, a cidade e a idade de um usuário através da sua data de nascimento.\n",
        "\n",
        "#importando a biblioteca datetime\n",
        "from datetime import datetime\n",
        "\n",
        "# Atribui um valor textual a variavel nome\n",
        "nome = input('digite o seu nome: ')\n",
        "\n",
        "# Atribui um valor textual a variavel nome\n",
        "cidade = input('digite o nome da sua cidade: ')\n",
        "\n",
        "#data de nascimento em formato de texto\n",
        "data_nasc = input('quando você nasceu? (DD/MM/YYYY): ')\n",
        "\n",
        "# convertendo a data_nasc em forma de data\n",
        "data_conv = datetime.strptime(data_nasc, '%d/%m/%Y')\n",
        "\n",
        "#pegando do sistema a data de hoje\n",
        "hoje = datetime.now()\n",
        "\n",
        "#idade = data de hoje - data de nascimento, em dias, dividido por 365 dias no ano\n",
        "idade = (hoje - data_conv).days //365\n",
        "\n",
        "print(f'seu nome é {nome},sua cidade é {cidade} e sua idade é {idade} anos')"
      ],
      "metadata": {
        "id": "16UtlbfsbUXM"
      },
      "execution_count": null,
      "outputs": []
    }
  ]
}