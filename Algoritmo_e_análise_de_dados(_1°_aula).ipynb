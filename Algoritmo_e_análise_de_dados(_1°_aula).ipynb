{
  "nbformat": 4,
  "nbformat_minor": 0,
  "metadata": {
    "colab": {
      "provenance": [],
      "toc_visible": true,
      "authorship_tag": "ABX9TyOJVYwe9tvOp5CDJ43eoNpD",
      "include_colab_link": true
    },
    "kernelspec": {
      "name": "python3",
      "display_name": "Python 3"
    },
    "language_info": {
      "name": "python"
    }
  },
  "cells": [
    {
      "cell_type": "markdown",
      "metadata": {
        "id": "view-in-github",
        "colab_type": "text"
      },
      "source": [
        "<a href=\"https://colab.research.google.com/github/henr1quepacheco/ALGESTDADOS_20251/blob/main/Algoritmo_e_an%C3%A1lise_de_dados(_1%C2%B0_aula).ipynb\" target=\"_parent\"><img src=\"https://colab.research.google.com/assets/colab-badge.svg\" alt=\"Open In Colab\"/></a>"
      ]
    },
    {
      "cell_type": "code",
      "execution_count": null,
      "metadata": {
        "colab": {
          "base_uri": "https://localhost:8080/"
        },
        "id": "fZWbQwS1ZrxJ",
        "outputId": "1bf82e35-b833-417d-8965-e818d753eec3"
      },
      "outputs": [
        {
          "output_type": "stream",
          "name": "stdout",
          "text": [
            "3570\n"
          ]
        }
      ],
      "source": [
        "#soma de dois números conhecidos em python\n",
        "num1 = 1930\n",
        "num2 = 1640\n",
        "resultado = num1 + num2\n",
        "print(resultado)"
      ]
    },
    {
      "cell_type": "code",
      "source": [
        "#soma de dois números desconhecidos em python\n",
        "num1 = int (input('digite o primeiro número'))\n",
        "num2 = int (input('digite o segundo número'))\n",
        "resultado = num1 + num2\n",
        "print(resultado)"
      ],
      "metadata": {
        "id": "ChVH0ysabm-o"
      },
      "execution_count": null,
      "outputs": []
    },
    {
      "cell_type": "markdown",
      "source": [],
      "metadata": {
        "id": "lJPJxUyOd6_B"
      }
    },
    {
      "cell_type": "code",
      "source": [
        "#Crie um algoritmo em python que calcule o valor do imc de uma pessoa\n",
        "#peso=x\n",
        "#altura=y\n",
        "num1 = float (input('digite seu peso: '))\n",
        "num2 = float (input('digite  altura: '))\n",
        "resultado = num1/(num2*num2)\n",
        "print(resultado)"
      ],
      "metadata": {
        "colab": {
          "base_uri": "https://localhost:8080/"
        },
        "id": "a_pJma5c7DYD",
        "outputId": "bf0537d4-c886-4c8c-d17b-6669f555b062"
      },
      "execution_count": 13,
      "outputs": [
        {
          "output_type": "stream",
          "name": "stdout",
          "text": [
            "digite seu peso: 122\n",
            "digite  altura: 1.81\n",
            "37.239400506700036\n"
          ]
        }
      ]
    }
  ]
}