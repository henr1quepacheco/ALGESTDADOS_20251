{
  "nbformat": 4,
  "nbformat_minor": 0,
  "metadata": {
    "colab": {
      "provenance": [],
      "include_colab_link": true
    },
    "kernelspec": {
      "name": "python3",
      "display_name": "Python 3"
    },
    "language_info": {
      "name": "python"
    }
  },
  "cells": [
    {
      "cell_type": "markdown",
      "metadata": {
        "id": "view-in-github",
        "colab_type": "text"
      },
      "source": [
        "<a href=\"https://colab.research.google.com/github/henr1quepacheco/ALGESTDADOS_20251/blob/main/Lista_de_Exerc%C3%ADcios_'1'.ipynb\" target=\"_parent\"><img src=\"https://colab.research.google.com/assets/colab-badge.svg\" alt=\"Open In Colab\"/></a>"
      ]
    },
    {
      "cell_type": "markdown",
      "source": [
        "**Atividade Avaliativa I**\n",
        " Henrique Pacheco Moreira | Kaylany Soares Correa"
      ],
      "metadata": {
        "id": "f1K1n8gBCiQj"
      }
    },
    {
      "cell_type": "code",
      "source": [
        "# 1-Peça um número ao usuário e verifique se ele é menor que 50. Informe o resultado com uma mensagem.\n",
        "numero = float(input(\"Digite um número:\"))\n",
        "if numero < 50:\n",
        "  print(f\"{numero} é menor que 50.\")\n",
        "else:\n",
        "  print(f\"{numero} não é menor que 50.\")"
      ],
      "metadata": {
        "id": "-fuUFhuoCiB7",
        "colab": {
          "base_uri": "https://localhost:8080/"
        },
        "outputId": "2f5df213-1496-4be4-b1b9-2caca5af458a"
      },
      "execution_count": null,
      "outputs": [
        {
          "output_type": "stream",
          "name": "stdout",
          "text": [
            "Digite um número:45\n",
            "45.0 é menor que 50.\n"
          ]
        }
      ]
    },
    {
      "cell_type": "code",
      "source": [
        "# 2-Solicite um número ao usuário e informe se ele é divisível por 7. Para isso, utilize uma verificação simples.\n",
        "numero = float(input(\"Digite um número:\"))\n",
        "if numero % 7 == 0:\n",
        "  print(f\"{numero} é divisível por 7.\")\n",
        "else:\n",
        "  print(f\"{numero} não é divisível por 7.\")"
      ],
      "metadata": {
        "id": "9H760qabDzAs",
        "colab": {
          "base_uri": "https://localhost:8080/"
        },
        "outputId": "4650ef46-d45d-4fdf-874d-18ee87abb403"
      },
      "execution_count": null,
      "outputs": [
        {
          "output_type": "stream",
          "name": "stdout",
          "text": [
            "Digite um número:15\n",
            "15.0 não é divisível por 7.\n"
          ]
        }
      ]
    },
    {
      "cell_type": "code",
      "source": [
        "# 3-Peça um nome ao usuário e verifique se ele contém a letra \"o\". Exiba uma mensagem informando o resultado.\n",
        "nome = input(\"Digite um nome:\")\n",
        "if \"o\" in nome:\n",
        "  print(f\"{nome} contém a letra 'o'.\")\n",
        "else:\n",
        "  print(f\"{nome} não contém a letra 'o'.\")"
      ],
      "metadata": {
        "colab": {
          "base_uri": "https://localhost:8080/"
        },
        "id": "420Eh7kWHjG8",
        "outputId": "c7cf424e-b071-425c-9df1-6b085ca10097"
      },
      "execution_count": null,
      "outputs": [
        {
          "output_type": "stream",
          "name": "stdout",
          "text": [
            "Digite um nome:Kaylany\n",
            "Kaylany não contém a letra 'o'.\n"
          ]
        }
      ]
    },
    {
      "cell_type": "code",
      "source": [
        "# 4-Solicite um número inteiro e verifique se ele termina em 0. Utilize operações matemáticas para essa verificação.\n",
        "numero = int(input(\"Digite um número inteiro:\"))\n",
        "if numero % 10 == 0:\n",
        "  print(f\"{numero} termina em 0.\")\n",
        "else:\n",
        "  print(f\"{numero} não termina em 0.\")"
      ],
      "metadata": {
        "colab": {
          "base_uri": "https://localhost:8080/"
        },
        "id": "TXEXc-YJICsH",
        "outputId": "268eac6a-ecea-4442-caed-0d46582fea8c"
      },
      "execution_count": null,
      "outputs": [
        {
          "output_type": "stream",
          "name": "stdout",
          "text": [
            "Digite um número inteiro:12\n",
            "12 não termina em 0.\n"
          ]
        }
      ]
    },
    {
      "cell_type": "code",
      "source": [
        "# 5-Peça a idade de uma pessoa e informe se ela tem idade suficiente para votar (considerando 16 anos como idade mínima).\n",
        "idade = int(input(\"Digite a idade da pessoa:\"))\n",
        "if idade >= 16:\n",
        "  print(f\"A pessoa tem {idade} anos e é maior de idade para votar.\")\n",
        "else:\n",
        "  print(f\"A pessoa tem {idade} anos e não é maior de idade para votar.\")"
      ],
      "metadata": {
        "colab": {
          "base_uri": "https://localhost:8080/"
        },
        "id": "Bf8clIorIpFt",
        "outputId": "2a6ceac8-8c64-4219-c33c-b930f339d1eb"
      },
      "execution_count": null,
      "outputs": [
        {
          "output_type": "stream",
          "name": "stdout",
          "text": [
            "Digite a idade da pessoa:15\n",
            "A pessoa tem 15 anos e não é maior de idade para votar.\n"
          ]
        }
      ]
    },
    {
      "cell_type": "code",
      "source": [
        "# 6-Solicite ao usuário que digite um único caractere e informe se ele é uma vogal (a, e, i, o, u).\n",
        "caractere = input(\"Digite um único caractere:\")\n",
        "if caractere.lower() in \"aeiou\":\n",
        "  print(f\"{caractere} é uma vogal.\")\n",
        "else:\n",
        "  print(f\"{caractere} não é uma vogal.\")\n"
      ],
      "metadata": {
        "colab": {
          "base_uri": "https://localhost:8080/"
        },
        "id": "CRDZ-EUEonbg",
        "outputId": "901ab8a0-abc3-4483-a02a-0e5c038d19a1"
      },
      "execution_count": null,
      "outputs": [
        {
          "output_type": "stream",
          "name": "stdout",
          "text": [
            "Digite um único caractere:a\n",
            "a é uma vogal.\n"
          ]
        }
      ]
    },
    {
      "cell_type": "code",
      "source": [
        " # 7-Peça a temperatura atual em graus Celsius e classifique-a como \"abaixo de zero\", \"entre 0°C e 20°C\" ou \"acima de 20°C\".\n",
        "temperatura = float(input(\"Digite a temperatura em graus Celsius:\"))\n",
        "if temperatura < 0:\n",
        "  print(\"A temperatura é abaixo de zero.\")\n",
        "elif 0 <= temperatura <= 20:\n",
        "  print(\"A temperatura está entre 0°C e 20°C.\")\n",
        "else:\n",
        "  print(\"A temperatura é acima de 20°C.\")\n"
      ],
      "metadata": {
        "colab": {
          "base_uri": "https://localhost:8080/"
        },
        "id": "AIeNrm7qpHvS",
        "outputId": "b4d8df39-c2ae-442a-e5be-e23a11ce4fd4"
      },
      "execution_count": null,
      "outputs": [
        {
          "output_type": "stream",
          "name": "stdout",
          "text": [
            "Digite a temperatura em graus Celsius:-1\n",
            "A temperatura é abaixo de zero.\n"
          ]
        }
      ]
    },
    {
      "cell_type": "code",
      "source": [
        "# 8-Solicite um número e informe se ele é maior que 1000. Exiba uma mensagem apropriada.\n",
        "numero = float(input(\"Digite um número:\"))\n",
        "if numero > 1000:\n",
        "  print(f\"{numero} é maior que 1000.\")\n",
        "else:\n",
        "  print(f\"{numero} não é maior que 1000.\")"
      ],
      "metadata": {
        "colab": {
          "base_uri": "https://localhost:8080/"
        },
        "id": "bcbVeZ-0tR_j",
        "outputId": "b619aad7-ee5c-42b4-a517-be87fb973d7f"
      },
      "execution_count": null,
      "outputs": [
        {
          "output_type": "stream",
          "name": "stdout",
          "text": [
            "Digite um número:2\n",
            "2.0 não é maior que 1000.\n"
          ]
        }
      ]
    },
    {
      "cell_type": "code",
      "source": [
        "# 9-Peça um valor em reais e informe se ele é múltiplo de 50, ou seja, se o valor pode ser pago apenas com notas de R$50,00.\n",
        "valor = float(input(\"Digite um valor em reais:\"))\n",
        "if valor % 50 == 0:\n",
        "  print(f\"{valor} é múltiplo de 50, ou seja, pode ser pago apenas com notas de R$50,00.\")\n",
        "else:\n",
        "  print(f\"{valor} não é múltiplo de 50, ou seja, não pode ser pago apenas com notas de R$50,00.\")"
      ],
      "metadata": {
        "colab": {
          "base_uri": "https://localhost:8080/"
        },
        "id": "mnll35nHttlk",
        "outputId": "b23b867d-b5f3-4a98-9ab8-82e3287edcdf"
      },
      "execution_count": null,
      "outputs": [
        {
          "output_type": "stream",
          "name": "stdout",
          "text": [
            "Digite um valor em reais:100\n",
            "100.0 é múltiplo de 50, ou seja, pode ser pago apenas com notas de R$50,00.\n"
          ]
        }
      ]
    },
    {
      "cell_type": "code",
      "source": [
        "# 10-Solicite um número ao usuário e verifique se ele está no intervalo entre 100 e 200 (inclusive). Informe o resultado.\n",
        "numero = float(input(\"Digite um número:\"))\n",
        "if 100 <= numero <= 200:\n",
        "  print(f\"{numero} está no intervalo entre 100 e 200.\")\n",
        "else:\n",
        "  print(f\"{numero} não está no intervalo entre 100 e 200.\")"
      ],
      "metadata": {
        "colab": {
          "base_uri": "https://localhost:8080/"
        },
        "id": "f91sLytWuSXc",
        "outputId": "02d5df54-63b5-4239-9920-ec5bf93643b1"
      },
      "execution_count": null,
      "outputs": [
        {
          "output_type": "stream",
          "name": "stdout",
          "text": [
            "Digite um número:150\n",
            "150.0 está no intervalo entre 100 e 200.\n"
          ]
        }
      ]
    },
    {
      "cell_type": "code",
      "source": [
        " # 11-Peça a altura de uma árvore em metros e informe se ela tem menos de 5 metros de altura.\n",
        " altura = float(input(\"Digite a altura da árvore em metros:\"))\n",
        " if altura < 5:\n",
        "   print(f\"A árvore tem menos de 5 metros de altura.\")\n",
        " else:\n",
        "   print(f\"A árvore tem {altura} metros de altura.\")"
      ],
      "metadata": {
        "colab": {
          "base_uri": "https://localhost:8080/"
        },
        "id": "KYoVSthu1eLk",
        "outputId": "6f0614d5-aa13-425c-b732-517994ce605c"
      },
      "execution_count": null,
      "outputs": [
        {
          "output_type": "stream",
          "name": "stdout",
          "text": [
            "Digite a altura da árvore em metros:3\n",
            "A árvore tem menos de 5 metros de altura.\n"
          ]
        }
      ]
    },
    {
      "cell_type": "code",
      "source": [
        "# 12-Solicite a temperatura de um líquido em graus Celsius e informe seu estado físico: \"congelado\" (≤0°C), \"líquido\" (0°C a 100°C) ou \"ebulição\" (>100°C).\n",
        "temperatura = float(input(\"Digite a temperatura do líquido em graus Celsius:\"))\n",
        "if temperatura <= 0:\n",
        "  print(\"O líquido está congelado.\")\n",
        "elif 0 < temperatura <= 100:\n",
        "  print(\"O líquido está em estado líquido.\")\n",
        "else:\n",
        "  print(\"O líquido está em estado de ebulição.\")"
      ],
      "metadata": {
        "colab": {
          "base_uri": "https://localhost:8080/"
        },
        "id": "IVWBia5U16UY",
        "outputId": "98d524d8-f9e9-4d10-fc71-040aaa792a92"
      },
      "execution_count": null,
      "outputs": [
        {
          "output_type": "stream",
          "name": "stdout",
          "text": [
            "Digite a temperatura do líquido em graus Celsius:-5\n",
            "O líquido está congelado.\n"
          ]
        }
      ]
    },
    {
      "cell_type": "code",
      "source": [
        "# 13-Peça um número inteiro e verifique se ele é múltiplo de 10. Mostre uma mensagem indicando o resultado.\n",
        "numero = int(input(\"Digite um número inteiro:\"))\n",
        "if numero % 10 == 0:\n",
        "  print(f\"{numero} é múltiplo de 10.\")\n",
        "else:\n",
        "  print(f\"{numero} não é múltiplo de 10.\")"
      ],
      "metadata": {
        "colab": {
          "base_uri": "https://localhost:8080/"
        },
        "id": "VE8dnL4-2OXQ",
        "outputId": "19b327d2-acae-47c8-9cba-70ad26419f3c"
      },
      "execution_count": null,
      "outputs": [
        {
          "output_type": "stream",
          "name": "stdout",
          "text": [
            "Digite um número inteiro:20\n",
            "20 é múltiplo de 10.\n"
          ]
        }
      ]
    },
    {
      "cell_type": "code",
      "source": [
        "# 14-Solicite a nota final de dois alunos e exiba qual deles teve a maior pontuação.\n",
        "nota1 = float(input(\"Digite a nota do primeiro aluno:\"))\n",
        "nota2 = float(input(\"Digite a nota do segundo aluno:\"))\n",
        "if nota1 > nota2:\n",
        "  print(f\"O primeiro aluno teve a maior pontuação com {nota1} pontos.\")\n",
        "else:\n",
        "  print(f\"O segundo aluno teve a maior pontuação com {nota2} pontos.\")"
      ],
      "metadata": {
        "colab": {
          "base_uri": "https://localhost:8080/"
        },
        "id": "G5o-4ZI92esV",
        "outputId": "accbaca5-2a17-49e8-fc00-76d813ad76ed"
      },
      "execution_count": null,
      "outputs": [
        {
          "output_type": "stream",
          "name": "stdout",
          "text": [
            "Digite a nota do primeiro aluno:18\n",
            "Digite a nota do segundo aluno:19\n",
            "O segundo aluno teve a maior pontuação com 19.0 pontos.\n"
          ]
        }
      ]
    },
    {
      "cell_type": "code",
      "source": [
        "# 15-Peça o nome de uma fruta e verifique se ela contém a letra \"e\". Exiba o resultado.\n",
        "fruta = input(\"Digite o nome de uma fruta:\")\n",
        "if \"e\" in fruta:\n",
        "  print(f\"{fruta} contém a letra 'e'.\")\n",
        "else:\n",
        "  print(f\"{fruta} não contém a letra 'e'.\")"
      ],
      "metadata": {
        "colab": {
          "base_uri": "https://localhost:8080/"
        },
        "id": "1AXWobCt3Ac_",
        "outputId": "10e2ab3d-0078-4a85-d359-e6ff73d66162"
      },
      "execution_count": null,
      "outputs": [
        {
          "output_type": "stream",
          "name": "stdout",
          "text": [
            "Digite o nome de uma fruta:Morango\n",
            "Morango não contém a letra 'e'.\n"
          ]
        }
      ]
    },
    {
      "cell_type": "code",
      "source": [
        "#16. Peça a velocidade de um carro em km/h e informe se ela ultrapassa o limite de 80 km/h:\n",
        "velocidade = float(input(\"Digite a velocidade do carro em km/h:\"))\n",
        "if velocidade > 80:\n",
        "  print(f\"O carro está acima do limite de velocidade.\")\n",
        "else:\n",
        "  print(f'O carro está abaixo do limite de velocidade.')"
      ],
      "metadata": {
        "colab": {
          "base_uri": "https://localhost:8080/"
        },
        "id": "ZdzFxK49QINX",
        "outputId": "c47f7207-4ec4-49c9-a32b-55bcafa468c9"
      },
      "execution_count": 2,
      "outputs": [
        {
          "output_type": "stream",
          "name": "stdout",
          "text": [
            "Digite a velocidade do carro em km/h:34\n",
            "O carro está abaixo do limite de velocidade.\n"
          ]
        }
      ]
    },
    {
      "cell_type": "code",
      "source": [
        "#17. Solicite um número ao usuário e informe se ele é divisível por 4 ou por 5. Exiba uma mensagem adequada:\n",
        "num = float(input(\"Digite um número:\"))\n",
        "if num % 4 == 0:\n",
        "  print(f\"{num} é divisível por 4.\")\n",
        "elif num % 5 == 0:\n",
        "    print(f\"{num} é divisível por 5.\")\n",
        "else:\n",
        "  print(f\"{num} não é divisível por 5.\")"
      ],
      "metadata": {
        "colab": {
          "base_uri": "https://localhost:8080/"
        },
        "id": "rJxpUOwGQ7ce",
        "outputId": "390a300b-b7ad-40ea-dd37-af0685bc2395"
      },
      "execution_count": 14,
      "outputs": [
        {
          "output_type": "stream",
          "name": "stdout",
          "text": [
            "Digite um número:45\n",
            "45.0 é divisível por 5.\n"
          ]
        }
      ]
    },
    {
      "cell_type": "code",
      "source": [
        "#18. Peça uma palavra ao usuário e verifique se ela contém a letra \"z\". Mostre uma mensagem informando o resultado:\n",
        "palavra = input(\"Digite uma palavra:\")\n",
        "if \"z\" in palavra:\n",
        "  print(f\"{palavra} contém a letra 'z'.\")\n",
        "else:\n",
        "  print(f\"{palavra} não contém a letra 'z'.\")\n",
        ""
      ],
      "metadata": {
        "colab": {
          "base_uri": "https://localhost:8080/"
        },
        "id": "sKnNNSb3SO5J",
        "outputId": "f3328723-abe3-4a50-ac52-004f02fb0341"
      },
      "execution_count": 17,
      "outputs": [
        {
          "output_type": "stream",
          "name": "stdout",
          "text": [
            "Digite uma palavra:zebra\n",
            "zebra contém a letra 'z'.\n"
          ]
        }
      ]
    },
    {
      "cell_type": "code",
      "source": [
        "#19. Solicite a quantidade de itens em um pedido e informe se ela é maior ou menor que 15 unidades:\n",
        "itens = int(input(\"Digite a quantidade de itens no pedido: \"))\n",
        "if itens > 15:\n",
        "  print(f\"O pedido é maior que 15.\")\n",
        "else:\n",
        "  print(f\"O pedido é menor que 15.\")"
      ],
      "metadata": {
        "colab": {
          "base_uri": "https://localhost:8080/"
        },
        "id": "NSRDx9HbS9zR",
        "outputId": "ac144253-ffb6-4c2e-c5f0-a2d59bef8f7a"
      },
      "execution_count": 19,
      "outputs": [
        {
          "output_type": "stream",
          "name": "stdout",
          "text": [
            "Digite a quantidade de itens no pedido: 24\n",
            "O pedido é maior que 15.\n"
          ]
        }
      ]
    },
    {
      "cell_type": "code",
      "source": [
        "#20. Peça um número e verifique se ele termina com o dígito 7. Informe o resultado:\n",
        "num = int(input(\"Digite um número:\"))\n",
        "if num % 10 == 7:\n",
        "  print(f\"{num} termina com o dígito 7.\")\n",
        "else:\n",
        "  print(f\"{num} não termina com o dígito 7.\")"
      ],
      "metadata": {
        "colab": {
          "base_uri": "https://localhost:8080/"
        },
        "id": "aRhI_RLxTWQ5",
        "outputId": "e4355225-47ca-41e2-9e96-3da0f67c161f"
      },
      "execution_count": 21,
      "outputs": [
        {
          "output_type": "stream",
          "name": "stdout",
          "text": [
            "Digite um número:37\n",
            "37 termina com o dígito 7.\n"
          ]
        }
      ]
    },
    {
      "cell_type": "code",
      "source": [
        "#21. Solicite o ano de fabricação de um veículo e informe se ele tem mais de 20 anos:\n",
        "ano = int(input(\"Digite o ano de fabricação do veículo:\"))\n",
        "if 2023 - ano > 20:\n",
        "  print(f\"O veículo tem mais de 20 anos.\")\n",
        "elif 2023 - ano == 20:\n",
        "  print(f\"O veículo tem 20 anos.\")\n",
        "else:\n",
        "  print(f\"O veículo tem menos de 20 anos.\")"
      ],
      "metadata": {
        "colab": {
          "base_uri": "https://localhost:8080/"
        },
        "id": "7dEFZfCVUK48",
        "outputId": "b9ca140b-181a-42b7-b71e-a9a2b3e0d176"
      },
      "execution_count": 22,
      "outputs": [
        {
          "output_type": "stream",
          "name": "stdout",
          "text": [
            "Digite o ano de fabricação do veículo:45\n",
            "O veículo tem mais de 20 anos.\n"
          ]
        }
      ]
    },
    {
      "cell_type": "code",
      "source": [
        "#22. Peça um número de telefone e verifique se ele contém o dígito 9. Exiba o resultado:\n",
        "num = (input(\"Digite um número de telefone:\"))\n",
        "if \"9\" in num:\n",
        "  print(f\"{num} contém o dígito 9.\")\n",
        "else:\n",
        "  print(f'{num} não contém o dígito 9.')"
      ],
      "metadata": {
        "colab": {
          "base_uri": "https://localhost:8080/"
        },
        "id": "F2xereTxUflG",
        "outputId": "d182c1db-026b-4506-c9e6-0d43a4abc546"
      },
      "execution_count": 32,
      "outputs": [
        {
          "output_type": "stream",
          "name": "stdout",
          "text": [
            "Digite um número de telefone:981287700\n",
            "981287700 contém o dígito 9.\n"
          ]
        }
      ]
    },
    {
      "cell_type": "code",
      "source": [
        "#23. Solicite um número e informe se ele possui exatamente 2 dígitos.\n",
        "numero = int(input(\"Digite um número: \"))\n",
        "if 10 <= numero <= 99:\n",
        "  print(f\"O número {numero} possui exatamente 2 dígitos.\")\n",
        "else:\n",
        "  print(f\"O número {numero} não possui exatamente 2 dígitos.\")\n"
      ],
      "metadata": {
        "colab": {
          "base_uri": "https://localhost:8080/"
        },
        "id": "XlgcwasaWc1r",
        "outputId": "a147d17e-3334-4907-a4d6-0565d618c544"
      },
      "execution_count": 36,
      "outputs": [
        {
          "output_type": "stream",
          "name": "stdout",
          "text": [
            "Digite um número: 09\n",
            "O número 9 não possui exatamente 2 dígitos.\n"
          ]
        }
      ]
    },
    {
      "cell_type": "code",
      "source": [
        "#24. Peça o preço de um ingresso e aplique um desconto de 15%. Verifique se o preço com desconto ainda é superior a R$50,00 e exiba uma mensagem informando o resultado\n",
        "preco_ingresso = float(input(\"Digite o preço do ingresso: \"))\n",
        "preco_com_desconto = preco_ingresso * 0.85\n",
        "if preco_com_desconto > 50:\n",
        "  print(\"O preço com desconto ainda é superior a R$50,00.\")\n",
        "else:\n",
        "  print(\"O preço com desconto não é superior a R$50,00.\")\n"
      ],
      "metadata": {
        "colab": {
          "base_uri": "https://localhost:8080/"
        },
        "id": "Tc6H1v2aXC-b",
        "outputId": "d8084684-b984-46d4-80d7-fcf3a47415cb"
      },
      "execution_count": 37,
      "outputs": [
        {
          "output_type": "stream",
          "name": "stdout",
          "text": [
            "Digite o preço do ingresso: 45\n",
            "O preço com desconto não é superior a R$50,00.\n"
          ]
        }
      ]
    },
    {
      "cell_type": "code",
      "source": [
        "# 26. Peça um número e verifique se ele é divisível tanto por 5 quanto por 9. Informe o resultado.\n",
        "numero = int(input(\"Digite um número: \"))\n",
        "if numero % 5 == 0 and numero % 9 == 0:\n",
        "  print(f\"{numero} é divisível por 5 e por 9.\")\n",
        "else:\n",
        "  print(f\"{numero} não é divisível por 5 e por 9.\")\n"
      ],
      "metadata": {
        "colab": {
          "base_uri": "https://localhost:8080/"
        },
        "id": "n_GGx8MTXhaa",
        "outputId": "cc754a08-ca72-4556-c482-7d56983be597"
      },
      "execution_count": 39,
      "outputs": [
        {
          "output_type": "stream",
          "name": "stdout",
          "text": [
            "Digite um número: 90\n",
            "90 é divisível por 5 e por 9.\n"
          ]
        }
      ]
    },
    {
      "cell_type": "code",
      "source": [
        "# 27. Solicite o peso de um objeto em kg e informe se ele pesa mais de 25 kg.\n",
        "peso = float(input(\"Digite o peso do objeto em kg: \"))\n",
        "if peso > 25:\n",
        "  print(\"O objeto pesa mais de 25 kg.\")\n",
        "else:\n",
        "  print(\"O objeto não pesa mais de 25 kg.\")"
      ],
      "metadata": {
        "colab": {
          "base_uri": "https://localhost:8080/"
        },
        "id": "ALpb9lUZYFI0",
        "outputId": "f967ea1d-f80f-4225-df2a-77e3cf6c0072"
      },
      "execution_count": 40,
      "outputs": [
        {
          "output_type": "stream",
          "name": "stdout",
          "text": [
            "Digite o peso do objeto em kg: 12\n",
            "O objeto não pesa mais de 25 kg.\n"
          ]
        }
      ]
    },
    {
      "cell_type": "code",
      "source": [
        "#28. Peça uma letra ao usuário e informe se ela é uma vogal ou uma consoante. Considere letras minúsculas e maiúsculas.\n",
        "letra = input(\"Digite uma letra: \")\n",
        "if letra.lower() in 'aeiou':\n",
        "  print(f\"A letra '{letra}' é uma vogal.\")\n",
        "else:\n",
        "  print(f\"A letra '{letra}' é uma consoante.\")"
      ],
      "metadata": {
        "colab": {
          "base_uri": "https://localhost:8080/"
        },
        "id": "_KMjDYPtYPQ-",
        "outputId": "d3af429f-3758-439e-ca39-2a5cf5d9373c"
      },
      "execution_count": 41,
      "outputs": [
        {
          "output_type": "stream",
          "name": "stdout",
          "text": [
            "Digite uma letra: g\n",
            "A letra 'g' é uma consoante.\n"
          ]
        }
      ]
    },
    {
      "cell_type": "code",
      "source": [
        "# 29. Solicite a velocidade de um veículo e informe se ela está abaixo, dentro ou acima do limite de 60 km/h\n",
        "velocidade = float(input(\"Digite a velocidade do veículo em km/h: \"))\n",
        "if velocidade < 60:\n",
        "  print(\"A velocidade está abaixo do limite.\")\n",
        "elif velocidade == 60:\n",
        "  print(\"A velocidade está dentro do limite.\")\n",
        "else:\n",
        "  print(\"A velocidade está acima do limite.\")"
      ],
      "metadata": {
        "colab": {
          "base_uri": "https://localhost:8080/"
        },
        "id": "hfGdrSt1Yk9Z",
        "outputId": "97d0d604-3533-4822-9969-0c70201b5cd8"
      },
      "execution_count": 42,
      "outputs": [
        {
          "output_type": "stream",
          "name": "stdout",
          "text": [
            "Digite a velocidade do veículo em km/h: 87\n",
            "A velocidade está acima do limite.\n"
          ]
        }
      ]
    },
    {
      "cell_type": "code",
      "source": [
        "#30. Peça um valor em reais ao usuário e verifique se ele é suficiente para comprar um produto que custa R$200,00. Exiba uma mensagem com a resposta\n",
        "valor_em_reais = float(input(\"Digite o valor em reais que você possui: \"))\n",
        "if valor_em_reais >= 200:\n",
        "  print(\"Você possui dinheiro suficiente para comprar o produto.\")\n",
        "else:\n",
        "  print(\"Você não possui dinheiro suficiente para comprar o produto.\")"
      ],
      "metadata": {
        "colab": {
          "base_uri": "https://localhost:8080/"
        },
        "id": "y4eF9bXmY1Ni",
        "outputId": "f7a1f9e7-e0d8-41ae-e9c8-3f86e92a1383"
      },
      "execution_count": 43,
      "outputs": [
        {
          "output_type": "stream",
          "name": "stdout",
          "text": [
            "Digite o valor em reais que você possui: 10\n",
            "Você não possui dinheiro suficiente para comprar o produto.\n"
          ]
        }
      ]
    }
  ]
}