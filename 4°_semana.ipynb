{
  "nbformat": 4,
  "nbformat_minor": 0,
  "metadata": {
    "colab": {
      "provenance": [],
      "authorship_tag": "ABX9TyP3ICIGzT72on26U7wZa2c2",
      "include_colab_link": true
    },
    "kernelspec": {
      "name": "python3",
      "display_name": "Python 3"
    },
    "language_info": {
      "name": "python"
    }
  },
  "cells": [
    {
      "cell_type": "markdown",
      "metadata": {
        "id": "view-in-github",
        "colab_type": "text"
      },
      "source": [
        "<a href=\"https://colab.research.google.com/github/henr1quepacheco/ALGESTDADOS_20251/blob/main/4%C2%B0_semana.ipynb\" target=\"_parent\"><img src=\"https://colab.research.google.com/assets/colab-badge.svg\" alt=\"Open In Colab\"/></a>"
      ]
    },
    {
      "cell_type": "code",
      "execution_count": 24,
      "metadata": {
        "colab": {
          "base_uri": "https://localhost:8080/"
        },
        "id": "yDsqM0IoP_pO",
        "outputId": "e356ccdd-6140-4b6a-a322-853931ed8aec"
      },
      "outputs": [
        {
          "output_type": "stream",
          "name": "stdout",
          "text": [
            "insira o número: 10\n",
            "10 não é maior que 10\n"
          ]
        }
      ],
      "source": [
        "#1) Peça um número e informe se ele é maior que 10. Crie um algoritmo em Python para fazer essa verificação:\n",
        "x = int(input('insira o número: '))\n",
        "if x > 10:\n",
        "  print(f'{x} é maior que 10')\n",
        "else:\n",
        "  print(f'{x} não é maior que 10')"
      ]
    },
    {
      "cell_type": "markdown",
      "source": [],
      "metadata": {
        "id": "cDyOhbeico2B"
      }
    },
    {
      "cell_type": "code",
      "source": [
        "#2) Peça um número inteiro e informe se ele é par. Crie um algoritmo em Python que verifique se o número é divisível por 2:\n",
        "x = int(input('digite o número: '))\n",
        "if x %2 == 0:\n",
        "  print(f'{x} é par')\n",
        "else:\n",
        "  print(f'{x} é ímpar')"
      ],
      "metadata": {
        "colab": {
          "base_uri": "https://localhost:8080/"
        },
        "id": "OQZOiIL1UpfJ",
        "outputId": "b8a961ba-239c-4041-cff3-cab151bc389b"
      },
      "execution_count": 43,
      "outputs": [
        {
          "output_type": "stream",
          "name": "stdout",
          "text": [
            "digite o número: 34\n",
            "34 é par\n"
          ]
        }
      ]
    },
    {
      "cell_type": "code",
      "source": [
        "#3) Peça um nome e informe se ele contém a letra \"a\". Crie um algoritmo em Python que faça essa verificação:\n",
        "nome = input('digite o nome: ')\n",
        "if 'a' in nome:\n",
        "  print(f'{nome} tem a letra \"a\"')\n",
        "else:\n",
        "    print(f'{nome} não tem a letra \"a\"')"
      ],
      "metadata": {
        "colab": {
          "base_uri": "https://localhost:8080/"
        },
        "id": "qoG95Jt_Z3BJ",
        "outputId": "e7a76361-32df-4de5-8c7e-1834929096ba"
      },
      "execution_count": 42,
      "outputs": [
        {
          "output_type": "stream",
          "name": "stdout",
          "text": [
            "digite o nome: elefante\n",
            "elefante tem a letra \"a\"\n"
          ]
        }
      ]
    },
    {
      "cell_type": "code",
      "source": [
        "#4) Peça um número e informe se ele é múltiplo de 5. Crie um algoritmo em Python que verifique se o número é divisível por 5:\n",
        "x = int(input('digite o número: '))\n",
        "if x %5 == 0:\n",
        "  print(f'{x} é múltiplo de 5')\n",
        "else:\n",
        "  print(f'{x} não é múltiplo de 5')"
      ],
      "metadata": {
        "colab": {
          "base_uri": "https://localhost:8080/"
        },
        "id": "e_MQgzxHcK9j",
        "outputId": "763c5fc6-c9bb-4488-90ae-6dec959cf7d1"
      },
      "execution_count": 45,
      "outputs": [
        {
          "output_type": "stream",
          "name": "stdout",
          "text": [
            "digite o número: 123\n",
            "123 não é múltiplo de 5\n"
          ]
        }
      ]
    },
    {
      "cell_type": "code",
      "source": [
        "#5) Peça a temperatura atual e informe se está quente (acima de 30°C) ou frio (30°C ou menos). Crie um algoritmo em Python para essa verificação:\n",
        "temp = float(input('digite a temperatura: '))\n",
        "if temp > 30:\n",
        "  print('está quente')\n",
        "else:\n",
        "  print('está frio')"
      ],
      "metadata": {
        "colab": {
          "base_uri": "https://localhost:8080/"
        },
        "id": "tAJLjqjzdsIq",
        "outputId": "3ccf04b2-1e53-4b58-f5c4-5e82bc7ac22d"
      },
      "execution_count": 48,
      "outputs": [
        {
          "output_type": "stream",
          "name": "stdout",
          "text": [
            "digite a temperatura: 23\n",
            "está frio\n"
          ]
        }
      ]
    },
    {
      "cell_type": "code",
      "source": [
        "#6) Peça ao usuário para digitar \"S\" para continuar ou \"N\" para sair e informe a ação correspondente. Crie um algoritmo em Python que faça essa validação e exiba a mensagem correta:\n",
        "action = input('deseja continuar ou cancelar a ação? ')\n",
        "action = action.upper()\n",
        "if 'S' in action:\n",
        "  print('continuando ação')\n",
        "elif 'N' in action:\n",
        "  print('cancelando ação')\n",
        "else:\n",
        "  print('ação invalida')"
      ],
      "metadata": {
        "colab": {
          "base_uri": "https://localhost:8080/"
        },
        "id": "NQeoyZ9Ge7pr",
        "outputId": "16895926-81bf-455f-96c4-798f7da4e4cf"
      },
      "execution_count": 87,
      "outputs": [
        {
          "output_type": "stream",
          "name": "stdout",
          "text": [
            "deseja continuar ou cancelar a ação? n\n",
            "cancelando ação\n"
          ]
        }
      ]
    },
    {
      "cell_type": "code",
      "source": [
        "#7) Peça um número e informe se ele é negativo, zero ou positivo. Crie um algoritmo em Python para classificar o número:\n",
        "num = int(input('digite o número: '))\n",
        "if num > 0:\n",
        "  print(f'{num} é positivo')\n",
        "elif num == 0:\n",
        "  print(f'{num} é igual a zero')\n",
        "else:\n",
        "  print(f'{num} é negativo')"
      ],
      "metadata": {
        "colab": {
          "base_uri": "https://localhost:8080/"
        },
        "id": "GB5-SwxQlc0F",
        "outputId": "6958b919-cc33-4aef-89e7-ba2bfc0ddc8e"
      },
      "execution_count": 92,
      "outputs": [
        {
          "output_type": "stream",
          "name": "stdout",
          "text": [
            "digite o número: 34\n",
            "34 é positivo\n"
          ]
        }
      ]
    },
    {
      "cell_type": "code",
      "source": [
        "import datetime # Import the datetime module\n",
        "data_hora_atual = datetime.datetime.now()\n",
        "dia_semana = data_hora_atual.weekday()\n",
        "dias = [\"Segunda-feira\", \"Terça-feira\", \"Quarta-feira\", \"Quinta-feira\", \"Sexta-feira\", \"Sábado\", \"Domingo\"]\n",
        "print(\"Hoje é:\", dias[dia_semana])"
      ],
      "metadata": {
        "colab": {
          "base_uri": "https://localhost:8080/"
        },
        "id": "SlRV5ybroW6V",
        "outputId": "4bc11929-db21-41cf-eb34-5b6b1637283e"
      },
      "execution_count": 96,
      "outputs": [
        {
          "output_type": "stream",
          "name": "stdout",
          "text": [
            "Hoje é: Quinta-feira\n"
          ]
        }
      ]
    }
  ]
}