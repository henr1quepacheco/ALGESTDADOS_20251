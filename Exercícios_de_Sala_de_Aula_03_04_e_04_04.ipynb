{
  "nbformat": 4,
  "nbformat_minor": 0,
  "metadata": {
    "colab": {
      "provenance": [],
      "authorship_tag": "ABX9TyO1egHWy/gMQQ1xbrxJW4QJ",
      "include_colab_link": true
    },
    "kernelspec": {
      "name": "python3",
      "display_name": "Python 3"
    },
    "language_info": {
      "name": "python"
    }
  },
  "cells": [
    {
      "cell_type": "markdown",
      "metadata": {
        "id": "view-in-github",
        "colab_type": "text"
      },
      "source": [
        "<a href=\"https://colab.research.google.com/github/henr1quepacheco/ALGESTDADOS_20251/blob/main/Exerc%C3%ADcios_de_Sala_de_Aula_03_04_e_04_04.ipynb\" target=\"_parent\"><img src=\"https://colab.research.google.com/assets/colab-badge.svg\" alt=\"Open In Colab\"/></a>"
      ]
    },
    {
      "cell_type": "code",
      "execution_count": null,
      "metadata": {
        "id": "1uhXxpIEg_u3",
        "colab": {
          "base_uri": "https://localhost:8080/"
        },
        "outputId": "e0025ccd-520d-4307-a695-a6729d084ebd"
      },
      "outputs": [
        {
          "output_type": "stream",
          "name": "stdout",
          "text": [
            "iteração: 0\n",
            "iteração: 1\n",
            "iteração: 2\n",
            "iteração: 3\n",
            "iteração: 4\n"
          ]
        }
      ],
      "source": [
        "contador = 0\n",
        "while contador < 5:\n",
        "  print(f'iteração: {contador}')\n",
        "  contador += 1"
      ]
    },
    {
      "cell_type": "code",
      "source": [
        "#1- Escreva um programa que imprima os números de 1 a 10 utilizando um loop while.\n",
        "i = 1\n",
        "while i <= 10:\n",
        "  print(f'{i}')\n",
        "  i += 1"
      ],
      "metadata": {
        "colab": {
          "base_uri": "https://localhost:8080/"
        },
        "id": "-T1MtCXB7Uja",
        "outputId": "f8881c75-9459-445d-b070-69461cc54094"
      },
      "execution_count": 2,
      "outputs": [
        {
          "output_type": "stream",
          "name": "stdout",
          "text": [
            "1\n",
            "2\n",
            "3\n",
            "4\n",
            "5\n",
            "6\n",
            "7\n",
            "8\n",
            "9\n",
            "10\n"
          ]
        }
      ]
    },
    {
      "cell_type": "code",
      "source": [
        "#2- Escreva um programa que imprima os números de 1 a 10 utilizando um loop for com range()\n",
        "for i in range (1, 11):\n",
        "  print(f'{i}')"
      ],
      "metadata": {
        "colab": {
          "base_uri": "https://localhost:8080/"
        },
        "id": "Hl7SlojR79By",
        "outputId": "e3ea4521-2120-4a7a-a8f0-998ef5e8fec1"
      },
      "execution_count": 6,
      "outputs": [
        {
          "output_type": "stream",
          "name": "stdout",
          "text": [
            "1\n",
            "2\n",
            "3\n",
            "4\n",
            "5\n",
            "6\n",
            "7\n",
            "8\n",
            "9\n",
            "10\n"
          ]
        }
      ]
    },
    {
      "cell_type": "code",
      "source": [
        "#3- Crie um loop for que percorra uma lista de frutas e imprima cada uma delas:\n",
        "frutas = ['cacau','uva','banana','kiwi']\n",
        "for i in frutas:\n",
        " print(i)"
      ],
      "metadata": {
        "colab": {
          "base_uri": "https://localhost:8080/"
        },
        "id": "e3vzy8aI8Td3",
        "outputId": "877b44e9-87e8-48e2-d33a-b8ab0ca98226"
      },
      "execution_count": 13,
      "outputs": [
        {
          "output_type": "stream",
          "name": "stdout",
          "text": [
            "cacau\n",
            "uva\n",
            "banana\n",
            "kiwi\n"
          ]
        }
      ]
    },
    {
      "cell_type": "code",
      "source": [
        "#4- Utilize um while para imprimir os números pares de 0 a 20.\n",
        "numero = 0\n",
        "while numero <= 20:\n",
        "  if numero % 2 == 0:\n",
        "    print(numero)\n",
        "  numero += 1\n"
      ],
      "metadata": {
        "colab": {
          "base_uri": "https://localhost:8080/"
        },
        "id": "4PKBJCq_88h_",
        "outputId": "9fb3bb5e-db27-45e5-a53f-a29ed808ec89"
      },
      "execution_count": 30,
      "outputs": [
        {
          "output_type": "stream",
          "name": "stdout",
          "text": [
            "0\n",
            "2\n",
            "4\n",
            "6\n",
            "8\n",
            "10\n",
            "12\n",
            "14\n",
            "16\n",
            "18\n",
            "20\n"
          ]
        }
      ]
    },
    {
      "cell_type": "code",
      "source": [
        "#5- Crie um loop for que utilize enumerate() para exibir os índices e valores de uma lista de nomes.\n"
      ],
      "metadata": {
        "id": "CVevEhm6BBuU"
      },
      "execution_count": null,
      "outputs": []
    }
  ]
}