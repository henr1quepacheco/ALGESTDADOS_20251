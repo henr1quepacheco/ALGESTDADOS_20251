{
  "nbformat": 4,
  "nbformat_minor": 0,
  "metadata": {
    "colab": {
      "provenance": [],
      "authorship_tag": "ABX9TyOrs66Ub2+xrsaHA4XifXGE",
      "include_colab_link": true
    },
    "kernelspec": {
      "name": "python3",
      "display_name": "Python 3"
    },
    "language_info": {
      "name": "python"
    }
  },
  "cells": [
    {
      "cell_type": "markdown",
      "metadata": {
        "id": "view-in-github",
        "colab_type": "text"
      },
      "source": [
        "<a href=\"https://colab.research.google.com/github/henr1quepacheco/ALGESTDADOS_20251/blob/main/Exerc%C3%ADcios_de_Sala_de_Aula_03_04_e_04_04.ipynb\" target=\"_parent\"><img src=\"https://colab.research.google.com/assets/colab-badge.svg\" alt=\"Open In Colab\"/></a>"
      ]
    },
    {
      "cell_type": "code",
      "execution_count": 2,
      "metadata": {
        "id": "1uhXxpIEg_u3",
        "colab": {
          "base_uri": "https://localhost:8080/"
        },
        "outputId": "e0025ccd-520d-4307-a695-a6729d084ebd"
      },
      "outputs": [
        {
          "output_type": "stream",
          "name": "stdout",
          "text": [
            "iteração: 0\n",
            "iteração: 1\n",
            "iteração: 2\n",
            "iteração: 3\n",
            "iteração: 4\n"
          ]
        }
      ],
      "source": [
        "contador = 0\n",
        "while contador < 5:\n",
        "  print(f'iteração: {contador}')\n",
        "  contador += 1"
      ]
    }
  ]
}