{
  "nbformat": 4,
  "nbformat_minor": 0,
  "metadata": {
    "colab": {
      "provenance": [],
      "authorship_tag": "ABX9TyMjzdjluTa2TbmVjKCuZpfH",
      "include_colab_link": true
    },
    "kernelspec": {
      "name": "python3",
      "display_name": "Python 3"
    },
    "language_info": {
      "name": "python"
    }
  },
  "cells": [
    {
      "cell_type": "markdown",
      "metadata": {
        "id": "view-in-github",
        "colab_type": "text"
      },
      "source": [
        "<a href=\"https://colab.research.google.com/github/henr1quepacheco/ALGESTDADOS_20251/blob/main/Exerc%C3%ADcios_de_Sala_de_Aula_03_04_e_04_04.ipynb\" target=\"_parent\"><img src=\"https://colab.research.google.com/assets/colab-badge.svg\" alt=\"Open In Colab\"/></a>"
      ]
    },
    {
      "cell_type": "code",
      "execution_count": null,
      "metadata": {
        "id": "1uhXxpIEg_u3",
        "colab": {
          "base_uri": "https://localhost:8080/"
        },
        "outputId": "e0025ccd-520d-4307-a695-a6729d084ebd"
      },
      "outputs": [
        {
          "output_type": "stream",
          "name": "stdout",
          "text": [
            "iteração: 0\n",
            "iteração: 1\n",
            "iteração: 2\n",
            "iteração: 3\n",
            "iteração: 4\n"
          ]
        }
      ],
      "source": [
        "contador = 0\n",
        "while contador < 5:\n",
        "  print(f'iteração: {contador}')\n",
        "  contador += 1"
      ]
    },
    {
      "cell_type": "code",
      "source": [
        "#1- Escreva um programa que imprima os números de 1 a 10 utilizando um loop while.\n",
        "i = 1\n",
        "while i <= 10:\n",
        "  print(f'{i}')\n",
        "  i += 1"
      ],
      "metadata": {
        "colab": {
          "base_uri": "https://localhost:8080/"
        },
        "id": "-T1MtCXB7Uja",
        "outputId": "f8881c75-9459-445d-b070-69461cc54094"
      },
      "execution_count": null,
      "outputs": [
        {
          "output_type": "stream",
          "name": "stdout",
          "text": [
            "1\n",
            "2\n",
            "3\n",
            "4\n",
            "5\n",
            "6\n",
            "7\n",
            "8\n",
            "9\n",
            "10\n"
          ]
        }
      ]
    },
    {
      "cell_type": "code",
      "source": [
        "#2- Escreva um programa que imprima os números de 1 a 10 utilizando um loop for com range()\n",
        "for i in range (1, 11):\n",
        "  print(f'{i}')"
      ],
      "metadata": {
        "colab": {
          "base_uri": "https://localhost:8080/"
        },
        "id": "Hl7SlojR79By",
        "outputId": "e3ea4521-2120-4a7a-a8f0-998ef5e8fec1"
      },
      "execution_count": null,
      "outputs": [
        {
          "output_type": "stream",
          "name": "stdout",
          "text": [
            "1\n",
            "2\n",
            "3\n",
            "4\n",
            "5\n",
            "6\n",
            "7\n",
            "8\n",
            "9\n",
            "10\n"
          ]
        }
      ]
    },
    {
      "cell_type": "code",
      "source": [
        "#3- Crie um loop for que percorra uma lista de frutas e imprima cada uma delas:\n",
        "frutas = ['cacau','uva','banana','kiwi']\n",
        "for i in frutas:\n",
        " print(i)"
      ],
      "metadata": {
        "colab": {
          "base_uri": "https://localhost:8080/"
        },
        "id": "e3vzy8aI8Td3",
        "outputId": "877b44e9-87e8-48e2-d33a-b8ab0ca98226"
      },
      "execution_count": null,
      "outputs": [
        {
          "output_type": "stream",
          "name": "stdout",
          "text": [
            "cacau\n",
            "uva\n",
            "banana\n",
            "kiwi\n"
          ]
        }
      ]
    },
    {
      "cell_type": "code",
      "source": [
        "#4- Utilize um while para imprimir os números pares de 0 a 20.\n",
        "numero = 0\n",
        "while numero <= 20:\n",
        "  if numero % 2 == 0:\n",
        "    print(numero)\n",
        "  numero += 1\n"
      ],
      "metadata": {
        "colab": {
          "base_uri": "https://localhost:8080/"
        },
        "id": "4PKBJCq_88h_",
        "outputId": "9fb3bb5e-db27-45e5-a53f-a29ed808ec89"
      },
      "execution_count": null,
      "outputs": [
        {
          "output_type": "stream",
          "name": "stdout",
          "text": [
            "0\n",
            "2\n",
            "4\n",
            "6\n",
            "8\n",
            "10\n",
            "12\n",
            "14\n",
            "16\n",
            "18\n",
            "20\n"
          ]
        }
      ]
    },
    {
      "cell_type": "code",
      "source": [
        "#5- Crie um loop for que utilize enumerate() para exibir os índices e valores de uma lista de nomes.\n",
        "nomes = ['Debs', 'Bob','Jack', 'Samurai']\n",
        "for indice, nome in enumerate(nomes):\n",
        "  print(f'Índice: {indice} -> Nome: {nome}')"
      ],
      "metadata": {
        "id": "CVevEhm6BBuU",
        "colab": {
          "base_uri": "https://localhost:8080/"
        },
        "outputId": "2d30d566-06e1-4145-a0c4-892387b07f19"
      },
      "execution_count": null,
      "outputs": [
        {
          "output_type": "stream",
          "name": "stdout",
          "text": [
            "Índice: 0 -> Nome: Debs\n",
            "Índice: 1 -> Nome: Bob\n",
            "Índice: 2 -> Nome: Jack\n",
            "Índice: 3 -> Nome: Samurai\n"
          ]
        }
      ]
    },
    {
      "cell_type": "code",
      "source": [
        "#6- Escreva um programa que peça um número ao usuário e continue pedindo até que o usuário digite um número positivo.\n",
        "numero = 0\n",
        "while True:\n",
        "  num = int(input(\"Digite um número: \"))\n",
        "  if num >= 0:\n",
        "    break"
      ],
      "metadata": {
        "colab": {
          "base_uri": "https://localhost:8080/"
        },
        "id": "TqKMD3qHHVcf",
        "outputId": "a463b95e-0b4a-47f0-a7b5-92d52892b10a"
      },
      "execution_count": null,
      "outputs": [
        {
          "name": "stdout",
          "output_type": "stream",
          "text": [
            "Digite um número: -6\n",
            "Digite um número: -5\n",
            "Digite um número: -9\n",
            "Digite um número: -2\n",
            "Digite um número: -1\n",
            "Digite um número: -6\n",
            "Digite um número: -7\n",
            "Digite um número: 1\n"
          ]
        }
      ]
    },
    {
      "cell_type": "code",
      "source": [
        "#7- Escreva um loop for que conte de 10 até 0 e, ao final, imprima \"Fim!\".\n",
        "for i in range(10, -1, -1):\n",
        "  print(i)\n",
        "print(\"Fim!\")\n"
      ],
      "metadata": {
        "colab": {
          "base_uri": "https://localhost:8080/"
        },
        "id": "Qlz5uCmPJ-Rw",
        "outputId": "9ef0d9c0-c6d2-4914-bf77-5ce019d0eb4b"
      },
      "execution_count": null,
      "outputs": [
        {
          "output_type": "stream",
          "name": "stdout",
          "text": [
            "10\n",
            "9\n",
            "8\n",
            "7\n",
            "6\n",
            "5\n",
            "4\n",
            "3\n",
            "2\n",
            "1\n",
            "0\n",
            "Fim!\n"
          ]
        }
      ]
    },
    {
      "cell_type": "code",
      "source": [
        "# 8- Escreva um programa que use um while para calcular a soma dos números de 1 a 100.\n",
        "soma = 0\n",
        "contador = 1\n",
        "while contador <= 100:\n",
        "  soma += contador\n",
        "  contador += 1\n",
        "print(f\"A soma dos números de 1 a 100 é: {soma}\")\n"
      ],
      "metadata": {
        "colab": {
          "base_uri": "https://localhost:8080/"
        },
        "id": "-sggsTn1KPCm",
        "outputId": "b52fed32-bd4d-43fc-8761-24327505d2fb"
      },
      "execution_count": null,
      "outputs": [
        {
          "output_type": "stream",
          "name": "stdout",
          "text": [
            "A soma dos números de 1 a 100 é: 5050\n"
          ]
        }
      ]
    },
    {
      "cell_type": "code",
      "source": [
        "#9- Modifique o exercício anterior para parar a soma se o total ultrapassar 1000, usando break.\n",
        "soma = 0\n",
        "contador = 1\n",
        "while contador <= 100:\n",
        "  if soma > 1000:\n",
        "    break\n",
        "  soma += contador\n",
        "  contador += 1\n",
        "print(f\"{soma}\")\n"
      ],
      "metadata": {
        "colab": {
          "base_uri": "https://localhost:8080/"
        },
        "id": "kAfW0IXyMQD-",
        "outputId": "49404b85-66a4-4928-f4ed-84df03cc9684"
      },
      "execution_count": null,
      "outputs": [
        {
          "output_type": "stream",
          "name": "stdout",
          "text": [
            "1035\n"
          ]
        }
      ]
    },
    {
      "cell_type": "code",
      "source": [
        "#10- Crie um programa que peça ao usuário para digitar palavras e as adicione a uma lista até que ele digite \"sair\".\n",
        "palavra = ''\n",
        "lista = []\n",
        "while palavra.upper() != 'SAIR':\n",
        "  palavra = input(\"Digite uma palavra: \")\n",
        "  if palavra.upper() != 'SAIR':\n",
        "    lista.append(palavra)\n",
        "print(lista)"
      ],
      "metadata": {
        "colab": {
          "base_uri": "https://localhost:8080/"
        },
        "id": "-2GeDw6cOMfe",
        "outputId": "e0d8b5d0-4e07-4713-968f-5f659891bb78"
      },
      "execution_count": null,
      "outputs": [
        {
          "output_type": "stream",
          "name": "stdout",
          "text": [
            "Digite uma palavra: abacaxi\n",
            "Digite uma palavra: eu\n",
            "Digite uma palavra: morte\n",
            "Digite uma palavra: sair\n",
            "['abacaxi', 'eu', 'morte']\n"
          ]
        }
      ]
    },
    {
      "cell_type": "code",
      "source": [
        "#11- Escreva um loop que percorra os números de 1 a 50 e imprima \"Fizz\" para múltiplos de 3, \"Buzz\" para múltiplos de 5 e \"FizzBuzz\" para múltiplos de ambos\n",
        "for i in range(1,51):\n",
        "  if i % 3 == 0 and i % 5 == 0:\n",
        "    print('fizzbuzz')\n",
        "    continue\n",
        "  if i % 3 == 0:\n",
        "    print('fizz')\n",
        "    continue\n",
        "  print(i)\n",
        "else:\n",
        "  print('fim')"
      ],
      "metadata": {
        "colab": {
          "base_uri": "https://localhost:8080/"
        },
        "id": "lrwRdMNed9U6",
        "outputId": "502fb638-5206-4d80-9e70-2f8ed3a207f9"
      },
      "execution_count": null,
      "outputs": [
        {
          "output_type": "stream",
          "name": "stdout",
          "text": [
            "1\n",
            "2\n",
            "fizz\n",
            "4\n",
            "5\n",
            "fizz\n",
            "7\n",
            "8\n",
            "fizz\n",
            "10\n",
            "11\n",
            "fizz\n",
            "13\n",
            "14\n",
            "fizzbuzz\n",
            "16\n",
            "17\n",
            "fizz\n",
            "19\n",
            "20\n",
            "fizz\n",
            "22\n",
            "23\n",
            "fizz\n",
            "25\n",
            "26\n",
            "fizz\n",
            "28\n",
            "29\n",
            "fizzbuzz\n",
            "31\n",
            "32\n",
            "fizz\n",
            "34\n",
            "35\n",
            "fizz\n",
            "37\n",
            "38\n",
            "fizz\n",
            "40\n",
            "41\n",
            "fizz\n",
            "43\n",
            "44\n",
            "fizzbuzz\n",
            "46\n",
            "47\n",
            "fizz\n",
            "49\n",
            "50\n",
            "fim\n"
          ]
        }
      ]
    },
    {
      "cell_type": "code",
      "source": [
        "#12- Utilize um for e in para contar quantas vogais existem em uma string fornecida pelo usuário.\n",
        "\n",
        "palavra = input(\"Digite uma palavra: \").lower()\n",
        "vogais = \"aeiou\"\n",
        "contador_vogais = 0\n",
        "\n",
        "for letra in palavra:\n",
        "  if letra in vogais:\n",
        "    contador_vogais += 1\n",
        "\n",
        "print(f\"A palavra possui {contador_vogais} vogais.\")\n"
      ],
      "metadata": {
        "colab": {
          "base_uri": "https://localhost:8080/"
        },
        "id": "Joijv2WQfqSW",
        "outputId": "9d64ac16-9ac2-4d35-ad05-b2c67b6d90e9"
      },
      "execution_count": null,
      "outputs": [
        {
          "output_type": "stream",
          "name": "stdout",
          "text": [
            "Digite uma palavra: pneumoultramicroscopicossilicovulcanoconiótico\n",
            "A palavra possui 20 vogais.\n"
          ]
        }
      ]
    },
    {
      "cell_type": "code",
      "source": [
        "#13- Crie um jogo de adivinhação onde o computador escolhe um número entre 1 e 100 e o usuário deve adivinhar. O programa deve dar dicas se o número é maior ou menor.\n",
        "\n",
        "import random\n",
        "\n",
        "def jogo_adivinhacao():\n",
        "  numero_secreto = random.randint(1, 100)\n",
        "  tentativas = 0\n",
        "\n",
        "  print(\"Bem-vindo ao jogo de adivinhação!\")\n",
        "  print(\"Tente adivinhar o número secreto entre 1 e 100.\")\n",
        "\n",
        "  while True:\n",
        "    try:\n",
        "      palpite = int(input(\"Digite seu palpite: \"))\n",
        "    except ValueError:\n",
        "      print(\"Entrada inválida. Digite um número inteiro.\")\n",
        "      continue\n",
        "\n",
        "    tentativas += 1\n",
        "\n",
        "    if palpite < numero_secreto:\n",
        "      print(\"O número secreto é maior.\")\n",
        "    elif palpite > numero_secreto:\n",
        "      print(\"O número secreto é menor.\")\n",
        "    else:\n",
        "      print(f\"Parabéns! Você acertou o número secreto ({numero_secreto}) em {tentativas} tentativas.\")\n",
        "      break\n",
        "\n",
        "if __name__ == \"__main__\":\n",
        "  jogo_adivinhacao()\n"
      ],
      "metadata": {
        "colab": {
          "base_uri": "https://localhost:8080/"
        },
        "id": "iz8mozo0g5od",
        "outputId": "74212356-53c6-41f2-97c5-6b03254c8bc7"
      },
      "execution_count": null,
      "outputs": [
        {
          "output_type": "stream",
          "name": "stdout",
          "text": [
            "Bem-vindo ao jogo de adivinhação!\n",
            "Tente adivinhar o número secreto entre 1 e 100.\n",
            "Digite seu palpite: 61\n",
            "O número secreto é maior.\n",
            "Digite seu palpite: 78\n",
            "O número secreto é maior.\n",
            "Digite seu palpite: 84\n",
            "O número secreto é menor.\n",
            "Digite seu palpite: 81\n",
            "Parabéns! Você acertou o número secreto (81) em 4 tentativas.\n"
          ]
        }
      ]
    },
    {
      "cell_type": "code",
      "source": [
        "#14- Escreva um programa que utilize while e continue para exibir apenas os números ímpares de 1 a 30\n",
        "\n",
        "i = 1\n",
        "while i <= 30:\n",
        "  if i % 2 == 0:\n",
        "    i += 1\n",
        "    continue\n",
        "  print(i)\n",
        "  i += 1\n"
      ],
      "metadata": {
        "colab": {
          "base_uri": "https://localhost:8080/"
        },
        "id": "279wAo8ulj2p",
        "outputId": "c02f0561-6686-4623-e107-c3c2e534250a"
      },
      "execution_count": null,
      "outputs": [
        {
          "output_type": "stream",
          "name": "stdout",
          "text": [
            "1\n",
            "3\n",
            "5\n",
            "7\n",
            "9\n",
            "11\n",
            "13\n",
            "15\n",
            "17\n",
            "19\n",
            "21\n",
            "23\n",
            "25\n",
            "27\n",
            "29\n"
          ]
        }
      ]
    },
    {
      "cell_type": "code",
      "source": [
        "#15- Crie uma tabela de multiplicação de 1 a 10 utilizando loops aninhados\n",
        "for i in range(1, 11):\n",
        "  for j in range(1, 11):\n",
        "    print(f'{i} x {j} = {i * j}')\n",
        "  print(\"-\" * 20)\n"
      ],
      "metadata": {
        "colab": {
          "base_uri": "https://localhost:8080/"
        },
        "id": "TqjL3T4YlxDC",
        "outputId": "56a78854-91ca-42df-b53d-2244ac1c0132"
      },
      "execution_count": null,
      "outputs": [
        {
          "output_type": "stream",
          "name": "stdout",
          "text": [
            "1 x 1 = 1\n",
            "1 x 2 = 2\n",
            "1 x 3 = 3\n",
            "1 x 4 = 4\n",
            "1 x 5 = 5\n",
            "1 x 6 = 6\n",
            "1 x 7 = 7\n",
            "1 x 8 = 8\n",
            "1 x 9 = 9\n",
            "1 x 10 = 10\n",
            "--------------------\n",
            "2 x 1 = 2\n",
            "2 x 2 = 4\n",
            "2 x 3 = 6\n",
            "2 x 4 = 8\n",
            "2 x 5 = 10\n",
            "2 x 6 = 12\n",
            "2 x 7 = 14\n",
            "2 x 8 = 16\n",
            "2 x 9 = 18\n",
            "2 x 10 = 20\n",
            "--------------------\n",
            "3 x 1 = 3\n",
            "3 x 2 = 6\n",
            "3 x 3 = 9\n",
            "3 x 4 = 12\n",
            "3 x 5 = 15\n",
            "3 x 6 = 18\n",
            "3 x 7 = 21\n",
            "3 x 8 = 24\n",
            "3 x 9 = 27\n",
            "3 x 10 = 30\n",
            "--------------------\n",
            "4 x 1 = 4\n",
            "4 x 2 = 8\n",
            "4 x 3 = 12\n",
            "4 x 4 = 16\n",
            "4 x 5 = 20\n",
            "4 x 6 = 24\n",
            "4 x 7 = 28\n",
            "4 x 8 = 32\n",
            "4 x 9 = 36\n",
            "4 x 10 = 40\n",
            "--------------------\n",
            "5 x 1 = 5\n",
            "5 x 2 = 10\n",
            "5 x 3 = 15\n",
            "5 x 4 = 20\n",
            "5 x 5 = 25\n",
            "5 x 6 = 30\n",
            "5 x 7 = 35\n",
            "5 x 8 = 40\n",
            "5 x 9 = 45\n",
            "5 x 10 = 50\n",
            "--------------------\n",
            "6 x 1 = 6\n",
            "6 x 2 = 12\n",
            "6 x 3 = 18\n",
            "6 x 4 = 24\n",
            "6 x 5 = 30\n",
            "6 x 6 = 36\n",
            "6 x 7 = 42\n",
            "6 x 8 = 48\n",
            "6 x 9 = 54\n",
            "6 x 10 = 60\n",
            "--------------------\n",
            "7 x 1 = 7\n",
            "7 x 2 = 14\n",
            "7 x 3 = 21\n",
            "7 x 4 = 28\n",
            "7 x 5 = 35\n",
            "7 x 6 = 42\n",
            "7 x 7 = 49\n",
            "7 x 8 = 56\n",
            "7 x 9 = 63\n",
            "7 x 10 = 70\n",
            "--------------------\n",
            "8 x 1 = 8\n",
            "8 x 2 = 16\n",
            "8 x 3 = 24\n",
            "8 x 4 = 32\n",
            "8 x 5 = 40\n",
            "8 x 6 = 48\n",
            "8 x 7 = 56\n",
            "8 x 8 = 64\n",
            "8 x 9 = 72\n",
            "8 x 10 = 80\n",
            "--------------------\n",
            "9 x 1 = 9\n",
            "9 x 2 = 18\n",
            "9 x 3 = 27\n",
            "9 x 4 = 36\n",
            "9 x 5 = 45\n",
            "9 x 6 = 54\n",
            "9 x 7 = 63\n",
            "9 x 8 = 72\n",
            "9 x 9 = 81\n",
            "9 x 10 = 90\n",
            "--------------------\n",
            "10 x 1 = 10\n",
            "10 x 2 = 20\n",
            "10 x 3 = 30\n",
            "10 x 4 = 40\n",
            "10 x 5 = 50\n",
            "10 x 6 = 60\n",
            "10 x 7 = 70\n",
            "10 x 8 = 80\n",
            "10 x 9 = 90\n",
            "10 x 10 = 100\n",
            "--------------------\n"
          ]
        }
      ]
    }
  ]
}