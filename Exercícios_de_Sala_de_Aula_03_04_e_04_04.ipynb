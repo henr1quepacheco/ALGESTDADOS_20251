{
  "nbformat": 4,
  "nbformat_minor": 0,
  "metadata": {
    "colab": {
      "provenance": [],
      "authorship_tag": "ABX9TyOUMhXE5k13vwTflOd5wj2B",
      "include_colab_link": true
    },
    "kernelspec": {
      "name": "python3",
      "display_name": "Python 3"
    },
    "language_info": {
      "name": "python"
    }
  },
  "cells": [
    {
      "cell_type": "markdown",
      "metadata": {
        "id": "view-in-github",
        "colab_type": "text"
      },
      "source": [
        "<a href=\"https://colab.research.google.com/github/henr1quepacheco/ALGESTDADOS_20251/blob/main/Exerc%C3%ADcios_de_Sala_de_Aula_03_04_e_04_04.ipynb\" target=\"_parent\"><img src=\"https://colab.research.google.com/assets/colab-badge.svg\" alt=\"Open In Colab\"/></a>"
      ]
    },
    {
      "cell_type": "code",
      "execution_count": null,
      "metadata": {
        "id": "1uhXxpIEg_u3",
        "colab": {
          "base_uri": "https://localhost:8080/"
        },
        "outputId": "e0025ccd-520d-4307-a695-a6729d084ebd"
      },
      "outputs": [
        {
          "output_type": "stream",
          "name": "stdout",
          "text": [
            "iteração: 0\n",
            "iteração: 1\n",
            "iteração: 2\n",
            "iteração: 3\n",
            "iteração: 4\n"
          ]
        }
      ],
      "source": [
        "contador = 0\n",
        "while contador < 5:\n",
        "  print(f'iteração: {contador}')\n",
        "  contador += 1"
      ]
    },
    {
      "cell_type": "code",
      "source": [
        "#1- Escreva um programa que imprima os números de 1 a 10 utilizando um loop while.\n",
        "i = 1\n",
        "while i <= 10:\n",
        "  print(f'{i}')\n",
        "  i += 1"
      ],
      "metadata": {
        "colab": {
          "base_uri": "https://localhost:8080/"
        },
        "id": "-T1MtCXB7Uja",
        "outputId": "f8881c75-9459-445d-b070-69461cc54094"
      },
      "execution_count": null,
      "outputs": [
        {
          "output_type": "stream",
          "name": "stdout",
          "text": [
            "1\n",
            "2\n",
            "3\n",
            "4\n",
            "5\n",
            "6\n",
            "7\n",
            "8\n",
            "9\n",
            "10\n"
          ]
        }
      ]
    },
    {
      "cell_type": "code",
      "source": [
        "#2- Escreva um programa que imprima os números de 1 a 10 utilizando um loop for com range()\n",
        "for i in range (1, 11):\n",
        "  print(f'{i}')"
      ],
      "metadata": {
        "colab": {
          "base_uri": "https://localhost:8080/"
        },
        "id": "Hl7SlojR79By",
        "outputId": "e3ea4521-2120-4a7a-a8f0-998ef5e8fec1"
      },
      "execution_count": null,
      "outputs": [
        {
          "output_type": "stream",
          "name": "stdout",
          "text": [
            "1\n",
            "2\n",
            "3\n",
            "4\n",
            "5\n",
            "6\n",
            "7\n",
            "8\n",
            "9\n",
            "10\n"
          ]
        }
      ]
    },
    {
      "cell_type": "code",
      "source": [
        "#3- Crie um loop for que percorra uma lista de frutas e imprima cada uma delas:\n",
        "frutas = ['cacau','uva','banana','kiwi']\n",
        "for i in frutas:\n",
        " print(i)"
      ],
      "metadata": {
        "colab": {
          "base_uri": "https://localhost:8080/"
        },
        "id": "e3vzy8aI8Td3",
        "outputId": "877b44e9-87e8-48e2-d33a-b8ab0ca98226"
      },
      "execution_count": null,
      "outputs": [
        {
          "output_type": "stream",
          "name": "stdout",
          "text": [
            "cacau\n",
            "uva\n",
            "banana\n",
            "kiwi\n"
          ]
        }
      ]
    },
    {
      "cell_type": "code",
      "source": [
        "#4- Utilize um while para imprimir os números pares de 0 a 20.\n",
        "numero = 0\n",
        "while numero <= 20:\n",
        "  if numero % 2 == 0:\n",
        "    print(numero)\n",
        "  numero += 1\n"
      ],
      "metadata": {
        "colab": {
          "base_uri": "https://localhost:8080/"
        },
        "id": "4PKBJCq_88h_",
        "outputId": "9fb3bb5e-db27-45e5-a53f-a29ed808ec89"
      },
      "execution_count": null,
      "outputs": [
        {
          "output_type": "stream",
          "name": "stdout",
          "text": [
            "0\n",
            "2\n",
            "4\n",
            "6\n",
            "8\n",
            "10\n",
            "12\n",
            "14\n",
            "16\n",
            "18\n",
            "20\n"
          ]
        }
      ]
    },
    {
      "cell_type": "code",
      "source": [
        "#5- Crie um loop for que utilize enumerate() para exibir os índices e valores de uma lista de nomes.\n",
        "nomes = ['Debs', 'Bob','Jack', 'Samurai']\n",
        "for indice, nome in enumerate(nomes):\n",
        "  print(f'Índice: {indice} -> Nome: {nome}')"
      ],
      "metadata": {
        "id": "CVevEhm6BBuU",
        "colab": {
          "base_uri": "https://localhost:8080/"
        },
        "outputId": "2d30d566-06e1-4145-a0c4-892387b07f19"
      },
      "execution_count": 35,
      "outputs": [
        {
          "output_type": "stream",
          "name": "stdout",
          "text": [
            "Índice: 0 -> Nome: Debs\n",
            "Índice: 1 -> Nome: Bob\n",
            "Índice: 2 -> Nome: Jack\n",
            "Índice: 3 -> Nome: Samurai\n"
          ]
        }
      ]
    },
    {
      "cell_type": "code",
      "source": [
        "#6- Escreva um programa que peça um número ao usuário e continue pedindo até que o usuário digite um número positivo.\n",
        "numero = 0\n",
        "while True:\n",
        "  num = int(input(\"Digite um número: \"))\n",
        "  if num >= 0:\n",
        "    break"
      ],
      "metadata": {
        "colab": {
          "base_uri": "https://localhost:8080/"
        },
        "id": "TqKMD3qHHVcf",
        "outputId": "a463b95e-0b4a-47f0-a7b5-92d52892b10a"
      },
      "execution_count": 69,
      "outputs": [
        {
          "name": "stdout",
          "output_type": "stream",
          "text": [
            "Digite um número: -6\n",
            "Digite um número: -5\n",
            "Digite um número: -9\n",
            "Digite um número: -2\n",
            "Digite um número: -1\n",
            "Digite um número: -6\n",
            "Digite um número: -7\n",
            "Digite um número: 1\n"
          ]
        }
      ]
    },
    {
      "cell_type": "code",
      "source": [
        "#7- Escreva um loop for que conte de 10 até 0 e, ao final, imprima \"Fim!\".\n",
        "for i in range(10, -1, -1):\n",
        "  print(i)\n",
        "print(\"Fim!\")\n"
      ],
      "metadata": {
        "colab": {
          "base_uri": "https://localhost:8080/"
        },
        "id": "Qlz5uCmPJ-Rw",
        "outputId": "9ef0d9c0-c6d2-4914-bf77-5ce019d0eb4b"
      },
      "execution_count": 73,
      "outputs": [
        {
          "output_type": "stream",
          "name": "stdout",
          "text": [
            "10\n",
            "9\n",
            "8\n",
            "7\n",
            "6\n",
            "5\n",
            "4\n",
            "3\n",
            "2\n",
            "1\n",
            "0\n",
            "Fim!\n"
          ]
        }
      ]
    },
    {
      "cell_type": "code",
      "source": [
        "# 8- Escreva um programa que use um while para calcular a soma dos números de 1 a 100.\n",
        "soma = 0\n",
        "contador = 1\n",
        "while contador <= 100:\n",
        "  soma += contador\n",
        "  contador += 1\n",
        "print(f\"A soma dos números de 1 a 100 é: {soma}\")\n"
      ],
      "metadata": {
        "colab": {
          "base_uri": "https://localhost:8080/"
        },
        "id": "-sggsTn1KPCm",
        "outputId": "b52fed32-bd4d-43fc-8761-24327505d2fb"
      },
      "execution_count": 71,
      "outputs": [
        {
          "output_type": "stream",
          "name": "stdout",
          "text": [
            "A soma dos números de 1 a 100 é: 5050\n"
          ]
        }
      ]
    },
    {
      "cell_type": "code",
      "source": [
        "#9- Modifique o exercício anterior para parar a soma se o total ultrapassar 1000, usando break.\n",
        "soma = 0\n",
        "contador = 1\n",
        "while contador <= 100:\n",
        "  if soma > 1000:\n",
        "    break\n",
        "  soma += contador\n",
        "  contador += 1\n",
        "print(f\"{soma}\")\n"
      ],
      "metadata": {
        "colab": {
          "base_uri": "https://localhost:8080/"
        },
        "id": "kAfW0IXyMQD-",
        "outputId": "49404b85-66a4-4928-f4ed-84df03cc9684"
      },
      "execution_count": 77,
      "outputs": [
        {
          "output_type": "stream",
          "name": "stdout",
          "text": [
            "1035\n"
          ]
        }
      ]
    },
    {
      "cell_type": "code",
      "source": [
        "#10- Crie um programa que peça ao usuário para digitar palavras e as adicione a uma lista até que ele digite \"sair\".\n",
        "palavra = ''\n",
        "lista = []\n",
        "while palavra.upper() != 'SAIR':\n",
        "  palavra = input(\"Digite uma palavra: \")\n",
        "  if palavra.upper() != 'SAIR':\n",
        "    lista.append(palavra)\n",
        "print(lista)"
      ],
      "metadata": {
        "colab": {
          "base_uri": "https://localhost:8080/"
        },
        "id": "-2GeDw6cOMfe",
        "outputId": "e0d8b5d0-4e07-4713-968f-5f659891bb78"
      },
      "execution_count": 78,
      "outputs": [
        {
          "output_type": "stream",
          "name": "stdout",
          "text": [
            "Digite uma palavra: abacaxi\n",
            "Digite uma palavra: eu\n",
            "Digite uma palavra: morte\n",
            "Digite uma palavra: sair\n",
            "['abacaxi', 'eu', 'morte']\n"
          ]
        }
      ]
    }
  ]
}