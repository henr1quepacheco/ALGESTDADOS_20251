{
  "nbformat": 4,
  "nbformat_minor": 0,
  "metadata": {
    "colab": {
      "provenance": [],
      "include_colab_link": true
    },
    "kernelspec": {
      "name": "python3",
      "display_name": "Python 3"
    },
    "language_info": {
      "name": "python"
    }
  },
  "cells": [
    {
      "cell_type": "markdown",
      "metadata": {
        "id": "view-in-github",
        "colab_type": "text"
      },
      "source": [
        "<a href=\"https://colab.research.google.com/github/henr1quepacheco/ALGESTDADOS_20251/blob/main/Lista_de_Exerc%C3%ADcios_IV_15_pontos_Entrega_29_06.ipynb\" target=\"_parent\"><img src=\"https://colab.research.google.com/assets/colab-badge.svg\" alt=\"Open In Colab\"/></a>"
      ]
    },
    {
      "cell_type": "markdown",
      "source": [
        "Henrique Pacheco | Kaylany Soares"
      ],
      "metadata": {
        "id": "1eyNkkYROLm5"
      }
    },
    {
      "cell_type": "code",
      "source": [
        "#1 Crie um algoritmo que simule um sistema de reservas de um restaurante. O programa deve solicitar o número de pessoas para a reserva e verificar se há disponibilidade, considerando que o restaurante possui apenas mesas de 4 lugares. Se o número de pessoas exceder a capacidade de uma mesa, o programa deve calcular quantas mesas serão necessárias e informar ao usuário.\n",
        "def verificar_disponibilidade(num_pessoas):\n",
        "    capacidade_mesa = 4\n",
        "    mesas_necessarias = (num_pessoas + capacidade_mesa - 1) // capacidade_mesa\n",
        "    if mesas_necessarias <= 0:\n",
        "        return 1\n",
        "    else:\n",
        "        return mesas_necessarias\n",
        "num_pessoas = int(input(\"Digite o número de pessoas para a reserva: \"))\n",
        "mesas_reservadas = verificar_disponibilidade(num_pessoas)\n",
        "print(f\"Número de mesas reservadas: {mesas_reservadas}\")\n"
      ],
      "metadata": {
        "colab": {
          "base_uri": "https://localhost:8080/"
        },
        "id": "wm465iCLG0XH",
        "outputId": "5c2ba335-f339-4f7a-86e7-40eb542765c1"
      },
      "execution_count": null,
      "outputs": [
        {
          "output_type": "stream",
          "name": "stdout",
          "text": [
            "Digite o número de pessoas para a reserva: 5\n",
            "Número de mesas reservadas: 2\n"
          ]
        }
      ]
    },
    {
      "cell_type": "code",
      "source": [
        "#2 Desenvolva um algoritmo que auxilie na gestão de estoque de uma loja. O programa deve permitir que o usuário insira o nome e a quantidade de diferentes produtos. Se a quantidade de um produto for inferior a 5 unidades, o sistema deve alertar que o estoque está baixo e sugerir a reposição. O processo deve continuar até que o usuário decida encerrar.\n",
        "def verificar_estoque_baixo(quantidade):\n",
        "    return quantidade < 5\n",
        "\n",
        "def gestao_estoque():\n",
        "    while True:\n",
        "        produto = input(\"Nome do produto (ou 'sair'): \")\n",
        "        if produto.lower() == 'sair':\n",
        "            break\n",
        "\n",
        "        quantidade = int(input(\"Quantidade: \"))\n",
        "\n",
        "        if verificar_estoque_baixo(quantidade):\n",
        "            print(\"Estoque baixo! Repor produto.\\n\")\n",
        "        else:\n",
        "            print(\"Estoque adequado.\\n\")\n",
        "gestao_estoque()\n"
      ],
      "metadata": {
        "colab": {
          "base_uri": "https://localhost:8080/"
        },
        "id": "Yo9R1OsuIttM",
        "outputId": "ba4f23c3-d29e-4e7d-f025-b258769f5fbc"
      },
      "execution_count": null,
      "outputs": [
        {
          "name": "stdout",
          "output_type": "stream",
          "text": [
            "Nome do produto (ou 'sair'): sabão\n",
            "Quantidade: 4\n",
            "Estoque baixo! Repor produto.\n",
            "\n",
            "Nome do produto (ou 'sair'): detergente \n",
            "Quantidade: 9\n",
            "Estoque adequado.\n",
            "\n",
            "Nome do produto (ou 'sair'): sair\n"
          ]
        }
      ]
    },
    {
      "cell_type": "code",
      "source": [
        "#3 Elabore um algoritmo que simule um quiz de perguntas e respostas. O programa deve apresentar uma série de perguntas ao usuário, oferecer opções de resposta e verificar se a resposta fornecida está correta. Ao final, o sistema deve exibir a pontuação total do usuário e fornecer um feedback baseado no desempenho.\n",
        "def quiz():\n",
        "    perguntas = [\n",
        "        {\"pergunta\": \"Capital do Brasil?\", \"opcoes\": [\"A) SP\", \"B) Brasília\", \"C) RJ\"], \"resposta\": \"B\"},\n",
        "        {\"pergunta\": \"Quanto é 2 + 2?\", \"opcoes\": [\"A) 3\", \"B) 4\", \"C) 5\"], \"resposta\": \"B\"},\n",
        "        {\"pergunta\": \"Autor de 'Dom Casmurro'?\", \"opcoes\": [\"A) Machado\", \"B) Clarice\", \"C) Monteiro\"], \"resposta\": \"A\"}\n",
        "    ]\n",
        "\n",
        "    pontos = 0\n",
        "\n",
        "    for p in perguntas:\n",
        "        print(f\"\\n{p['pergunta']}\")\n",
        "        for opcao in p[\"opcoes\"]:\n",
        "            print(opcao)\n",
        "        r = input(\"Resposta: \").upper()\n",
        "        if r == p[\"resposta\"]:\n",
        "            pontos += 1\n",
        "\n",
        "    print(f\"\\nVocê acertou {pontos}/3.\")\n",
        "    if pontos == 3:\n",
        "        print(\" Excelente!\")\n",
        "    elif pontos == 2:\n",
        "        print(\" Muito bem!\")\n",
        "    else:\n",
        "        print(\" Estude mais!\")\n",
        "\n",
        "quiz()"
      ],
      "metadata": {
        "colab": {
          "base_uri": "https://localhost:8080/"
        },
        "id": "GbvshvA7KadG",
        "outputId": "d7059983-cb76-4c0f-9e16-9d605d175ec8"
      },
      "execution_count": null,
      "outputs": [
        {
          "output_type": "stream",
          "name": "stdout",
          "text": [
            "\n",
            "Capital do Brasil?\n",
            "A) SP\n",
            "B) Brasília\n",
            "C) RJ\n",
            "Resposta: b\n",
            "\n",
            "Quanto é 2 + 2?\n",
            "A) 3\n",
            "B) 4\n",
            "C) 5\n",
            "Resposta: b\n",
            "\n",
            "Autor de 'Dom Casmurro'?\n",
            "A) Machado\n",
            "B) Clarice\n",
            "C) Monteiro\n",
            "Resposta: a\n",
            "\n",
            "Você acertou 3/3.\n",
            " Excelente!\n"
          ]
        }
      ]
    },
    {
      "cell_type": "code",
      "source": [
        "#4 Crie um algoritmo que simule um sistema de controle de acesso a um edifício. O programa deve solicitar ao usuário um código de acesso e verificar se ele é válido. Caso contrário, deve permitir novas tentativas até que o número máximo de 3 tentativas seja atingido. Se o acesso for concedido, uma mensagem de boas-vindas deve ser exibida; caso contrário, uma mensagem de bloqueio deve ser apresentada.\n",
        "def controle_acesso():\n",
        "    codigo_acesso = \"12345\"\n",
        "    tentativas = 0\n",
        "    max_tentativas = 3\n",
        "\n",
        "    while tentativas < max_tentativas:\n",
        "        codigo = input(\"Digite o código de acesso: \")\n",
        "        if codigo == codigo_acesso:\n",
        "            print(\"Acesso concedido! Bem-vindo!\")\n",
        "            return\n",
        "        else:\n",
        "            tentativas += 1\n",
        "            print(f\"Acesso negado. Tentativas restantes: {max_tentativas - tentativas}\")\n",
        "            print(\"Número máximo de tentativas atingido. Acesso bloqueado.\")\n",
        "controle_acesso()"
      ],
      "metadata": {
        "colab": {
          "base_uri": "https://localhost:8080/"
        },
        "id": "RXT6z3heMkJf",
        "outputId": "be39a3c8-e683-4499-b00e-01349d22928c"
      },
      "execution_count": null,
      "outputs": [
        {
          "output_type": "stream",
          "name": "stdout",
          "text": [
            "Digite o código de acesso: 5432\n",
            "Acesso negado. Tentativas restantes: 2\n",
            "Número máximo de tentativas atingido. Acesso bloqueado.\n",
            "Digite o código de acesso: 9876\n",
            "Acesso negado. Tentativas restantes: 1\n",
            "Número máximo de tentativas atingido. Acesso bloqueado.\n",
            "Digite o código de acesso: 1234\n",
            "Acesso negado. Tentativas restantes: 0\n",
            "Número máximo de tentativas atingido. Acesso bloqueado.\n"
          ]
        }
      ]
    },
    {
      "cell_type": "code",
      "source": [
        "#5 Desenvolva um algoritmo que ajude no planejamento de uma viagem de carro. O programa deve solicitar a distância total a ser percorrida, a capacidade do tanque de combustível do veículo e o consumo médio de combustível (km/l). Com base nessas informações, o sistema deve calcular quantas paradas para reabastecimento serão necessárias, assumindo que o motorista sempre reabastece o tanque completamente.\n",
        "def planejamento_viagem():\n",
        "    distancia = float(input(\"Distância total (km): \"))\n",
        "    capacidade = float(input(\"Capacidade do tanque (litros): \"))\n",
        "    consumo = float(input(\"Consumo (km/l): \"))\n",
        "\n",
        "    alcance = capacidade * consumo\n",
        "\n",
        "    if distancia <= alcance:\n",
        "        paradas = 0\n",
        "    else:\n",
        "        paradas = int(distancia / alcance)\n",
        "        if distancia % alcance == 0:\n",
        "            paradas -= 1\n",
        "\n",
        "    print(f\"Paradas para reabastecer: {paradas}\")\n",
        "\n",
        "planejamento_viagem()\n",
        "\n"
      ],
      "metadata": {
        "colab": {
          "base_uri": "https://localhost:8080/"
        },
        "id": "1VluHhGPNJ7p",
        "outputId": "a1628fa4-685e-43c8-ee77-3969fcb168e7"
      },
      "execution_count": null,
      "outputs": [
        {
          "output_type": "stream",
          "name": "stdout",
          "text": [
            "Distância total (km): 50\n",
            "Capacidade do tanque (litros): 55\n",
            "Consumo (km/l): 6\n",
            "Paradas para reabastecer: 0\n"
          ]
        }
      ]
    },
    {
      "cell_type": "code",
      "execution_count": null,
      "metadata": {
        "colab": {
          "base_uri": "https://localhost:8080/"
        },
        "id": "6DUidZ2Y9wQ3",
        "outputId": "7f24f6f3-32a0-4d7d-df08-9121bd8df496"
      },
      "outputs": [
        {
          "output_type": "stream",
          "name": "stdout",
          "text": [
            "=== Sistema de Avaliação de Filmes ===\n",
            "Digite 'fim' para encerrar as entradas.\n",
            "Digite o título do filme (ou 'fim' para encerrar): ice age\n",
            "Digite a nota para 'ice age' (0 a 10): 8.0\n",
            "Digite o título do filme (ou 'fim' para encerrar): httyd 2\n",
            "Digite a nota para 'httyd 2' (0 a 10): 10\n",
            "Digite o título do filme (ou 'fim' para encerrar): httyd 1\n",
            "Digite a nota para 'httyd 1' (0 a 10): 7.5\n",
            "Digite o título do filme (ou 'fim' para encerrar): fim\n",
            "\n",
            "=== Resultados ===\n",
            "Média das notas: 8.50\n",
            "🎬 Filmes altamente recomendados (nota > 8):\n",
            " - httyd 2\n"
          ]
        }
      ],
      "source": [
        "#6 Elabore um algoritmo que simule um sistema de avaliação de filmes. O programa deve permitir que o usuário insira o título de vários filmes e uma nota de 0 a 10 para cada um. Após o usuário finalizar as entradas,\n",
        "# o sistema deve exibir a média das notas atribuídas e listar os filmes que receberam nota superior a 8, destacando-os como altamente recomendados.\n",
        "filmes = []\n",
        "\n",
        "print(\"=== Sistema de Avaliação de Filmes ===\")\n",
        "print(\"Digite 'fim' para encerrar as entradas.\")\n",
        "\n",
        "while True:\n",
        "    titulo = input(\"Digite o título do filme (ou 'fim' para encerrar): \")\n",
        "    if titulo.lower() == 'fim':\n",
        "        break\n",
        "\n",
        "    try:\n",
        "        nota = float(input(f\"Digite a nota para '{titulo}' (0 a 10): \"))\n",
        "        if 0 <= nota <= 10:\n",
        "            filmes.append((titulo, nota))\n",
        "        else:\n",
        "            print(\" Nota inválida! Digite um valor entre 0 e 10.\")\n",
        "    except ValueError:\n",
        "        print(\" Entrada inválida! Digite um número válido.\")\n",
        "\n",
        "if not filmes:\n",
        "    print(\"Nenhum filme foi avaliado.\")\n",
        "else:\n",
        "\n",
        "    soma_notas = sum(nota for _, nota in filmes)\n",
        "    media = soma_notas / len(filmes)\n",
        "\n",
        "\n",
        "    recomendados = [titulo for titulo, nota in filmes if nota > 8]\n",
        "\n",
        "\n",
        "    print(\"\\n=== Resultados ===\")\n",
        "    print(f\"Média das notas: {media:.2f}\")\n",
        "\n",
        "    if recomendados:\n",
        "        print(\" Filmes altamente recomendados (nota > 8):\")\n",
        "        for titulo in recomendados:\n",
        "            print(f\" - {titulo}\")\n",
        "    else:\n",
        "        print(\"Nenhum filme recebeu nota superior a 8.\")\n"
      ]
    },
    {
      "cell_type": "code",
      "source": [
        "#7 Crie um algoritmo que simule um sistema de monitoramento de temperatura ambiente. O programa deve solicitar ao usuário que insira a temperatura registrada a cada hora durante um período de 24 horas. Ao final, o sistema deve calcular a temperatura média do dia,\n",
        "# identificar a temperatura mais alta e a mais baixa registradas, e alertar se em algum momento a temperatura ultrapassou 30°C ou ficou abaixo de 15°C.\n",
        "def monitoramento_temperatura():\n",
        "    temperaturas = []\n",
        "\n",
        "    print(\"Digite as temperaturas registradas a cada hora (24 entradas):\")\n",
        "    for hora in range(24):\n",
        "        while True:\n",
        "            try:\n",
        "                temp = float(input(f\"Hora {hora:02d}: \"))\n",
        "                temperaturas.append(temp)\n",
        "                break\n",
        "            except ValueError:\n",
        "                print(\"Entrada inválida. Digite um número real para a temperatura.\")\n",
        "\n",
        "    media = sum(temperaturas) / 24\n",
        "\n",
        "    temp_max = max(temperaturas)\n",
        "    temp_min = min(temperaturas)\n",
        "\n",
        "    alerta_calor = any(temp > 30 for temp in temperaturas)\n",
        "    alerta_frio = any(temp < 15 for temp in temperaturas)\n",
        "\n",
        "    print(\"\\n--- Relatório do Monitoramento ---\")\n",
        "    print(f\"Temperatura média do dia: {media:.2f}°C\")\n",
        "    print(f\"Temperatura mais alta registrada: {temp_max:.2f}°C\")\n",
        "    print(f\"Temperatura mais baixa registrada: {temp_min:.2f}°C\")\n",
        "\n",
        "    if alerta_calor:\n",
        "        print(\" Alerta: A temperatura ultrapassou 30°C em algum momento do dia.\")\n",
        "    if alerta_frio:\n",
        "        print(\" Alerta: A temperatura ficou abaixo de 15°C em algum momento do dia.\")\n",
        "    if not alerta_calor and not alerta_frio:\n",
        "        print(\"Nenhum alerta de temperatura extrema foi registrado.\")\n",
        "\n",
        "monitoramento_temperatura()\n"
      ],
      "metadata": {
        "id": "Xf-0pvHv-nsG",
        "colab": {
          "base_uri": "https://localhost:8080/"
        },
        "outputId": "048febcb-0dca-45e4-9c4a-fbdb46d53b14"
      },
      "execution_count": null,
      "outputs": [
        {
          "output_type": "stream",
          "name": "stdout",
          "text": [
            "Digite as temperaturas registradas a cada hora (24 entradas):\n",
            "Hora 00: 23\n",
            "Hora 01: 32\n",
            "Hora 02: 31\n",
            "Hora 03: 27\n",
            "Hora 04: 29\n",
            "Hora 05: 21\n",
            "Hora 06: 39\n",
            "Hora 07: 12\n",
            "Hora 08: 27\n",
            "Hora 09: 40\n",
            "Hora 10: 19\n",
            "Hora 11: 19\n",
            "Hora 12: 19\n",
            "Hora 13: 24\n",
            "Hora 14: 28\n",
            "Hora 15: 26\n",
            "Hora 16: 24\n",
            "Hora 17: 25\n",
            "Hora 18: 15\n",
            "Hora 19: 16\n",
            "Hora 20: 18\n",
            "Hora 21: 19\n",
            "Hora 22: 17\n",
            "Hora 23: 20\n",
            "\n",
            "--- Relatório do Monitoramento ---\n",
            "Temperatura média do dia: 23.75°C\n",
            "Temperatura mais alta registrada: 40.00°C\n",
            "Temperatura mais baixa registrada: 12.00°C\n",
            "⚠️ Alerta: A temperatura ultrapassou 30°C em algum momento do dia.\n",
            "⚠️ Alerta: A temperatura ficou abaixo de 15°C em algum momento do dia.\n"
          ]
        }
      ]
    },
    {
      "cell_type": "code",
      "source": [
        "#8 Desenvolva um algoritmo que auxilie na organização de uma biblioteca pessoal. O programa deve permitir que o usuário insira o título e o autor de diversos livros. Após a inserção,\n",
        "# o sistema deve oferecer a opção de buscar por livros de um autor específico e listar todos os títulos correspondentes. O processo deve continuar até que o usuário decida encerrar.\n",
        "def main():\n",
        "    biblioteca = []\n",
        "\n",
        "    while True:\n",
        "        print(\"\\n--- Menu ---\")\n",
        "        print(\"1. Adicionar livro\")\n",
        "        print(\"2. Buscar livros por autor\")\n",
        "        print(\"3. Listar todos os livros\")\n",
        "        print(\"4. Encerrar\")\n",
        "\n",
        "        opcao = input(\"Escolha uma opção (1-4): \")\n",
        "\n",
        "        if opcao == \"1\":\n",
        "            titulo = input(\"Digite o título do livro: \").strip()\n",
        "            autor = input(\"Digite o nome do autor: \").strip()\n",
        "            biblioteca.append({\"titulo\": titulo, \"autor\": autor})\n",
        "            print(f\"Livro '{titulo}' de {autor} adicionado com sucesso!\")\n",
        "\n",
        "        elif opcao == \"2\":\n",
        "            busca_autor = input(\"Digite o nome do autor para buscar: \").strip()\n",
        "            encontrados = [livro[\"titulo\"] for livro in biblioteca if livro[\"autor\"].lower() == busca_autor.lower()]\n",
        "            if encontrados:\n",
        "                print(f\"\\nLivros de {busca_autor}:\")\n",
        "                for titulo in encontrados:\n",
        "                    print(f\"- {titulo}\")\n",
        "            else:\n",
        "                print(f\"Nenhum livro encontrado para o autor: {busca_autor}\")\n",
        "\n",
        "        elif opcao == \"3\":\n",
        "            if biblioteca:\n",
        "                print(\"\\nTodos os livros cadastrados:\")\n",
        "                for livro in biblioteca:\n",
        "                    print(f\"- '{livro['titulo']}' por {livro['autor']}\")\n",
        "            else:\n",
        "                print(\"Nenhum livro cadastrado ainda.\")\n",
        "\n",
        "        elif opcao == \"4\":\n",
        "            print(\"Encerrando o programa. Até logo!\")\n",
        "            break\n",
        "\n",
        "        else:\n",
        "            print(\"Opção inválida. Tente novamente.\")\n",
        "main()\n",
        "\n"
      ],
      "metadata": {
        "id": "nmE8pGEyr0nt"
      },
      "execution_count": null,
      "outputs": []
    },
    {
      "cell_type": "code",
      "source": [
        "#9 Elabore um algoritmo que simule um sistema de gerenciamento de tarefas domésticas.\n",
        "# O programa deve permitir que o usuário insira diferentes tarefas e atribua um nível de prioridade a cada uma (alto, médio ou baixo).\n",
        "# O sistema deve então exibir as tarefas organizadas por ordem de prioridade, começando pelas de alta prioridade, e permitir que o usuário marque tarefas como concluídas.\n",
        "def exibir_menu():\n",
        "    print(\"\\n--- Menu de Tarefas ---\")\n",
        "    print(\"1. Adicionar nova tarefa\")\n",
        "    print(\"2. Exibir tarefas por prioridade\")\n",
        "    print(\"3. Marcar tarefa como concluída\")\n",
        "    print(\"4. Encerrar\")\n",
        "\n",
        "def obter_prioridade_numero(tarefa):\n",
        "    prioridade_ordem = {\n",
        "        \"alta\": 1,\n",
        "        \"média\": 2,\n",
        "        \"baixa\": 3\n",
        "    }\n",
        "    return prioridade_ordem.get(tarefa[\"prioridade\"], 4)\n",
        "\n",
        "def ordenar_por_prioridade(tarefas):\n",
        "    return sorted(tarefas, key=obter_prioridade_numero)\n",
        "\n",
        "def exibir_tarefas(tarefas):\n",
        "    if not tarefas:\n",
        "        print(\"Nenhuma tarefa cadastrada.\")\n",
        "        return\n",
        "\n",
        "    tarefas_ordenadas = ordenar_por_prioridade(tarefas)\n",
        "\n",
        "    print(\"\\n--- Tarefas Organizadas por Prioridade ---\")\n",
        "    for idx, tarefa in enumerate(tarefas_ordenadas, start=1):\n",
        "        status = \"✅\" if tarefa[\"concluida\"] else \"⏳\"\n",
        "        print(f\"{idx}. [{tarefa['prioridade'].capitalize()}] {tarefa['descricao']} - {status}\")\n",
        "\n",
        "def main():\n",
        "    tarefas = []\n",
        "\n",
        "    while True:\n",
        "        exibir_menu()\n",
        "        opcao = input(\"Escolha uma opção (1-4): \")\n",
        "\n",
        "        if opcao == \"1\":\n",
        "            descricao = input(\"Descrição da tarefa: \").strip()\n",
        "            prioridade = input(\"Prioridade (alta, média ou baixa): \").strip().lower()\n",
        "            if prioridade in (\"alta\", \"média\", \"baixa\"):\n",
        "                tarefas.append({\"descricao\": descricao, \"prioridade\": prioridade, \"concluida\": False})\n",
        "                print(\"Tarefa adicionada com sucesso!\")\n",
        "            else:\n",
        "                print(\"Prioridade inválida. Use: alta, média ou baixa.\")\n",
        "\n",
        "        elif opcao == \"2\":\n",
        "            exibir_tarefas(tarefas)\n",
        "\n",
        "        elif opcao == \"3\":\n",
        "            tarefas_ordenadas = ordenar_por_prioridade(tarefas)\n",
        "            exibir_tarefas(tarefas)\n",
        "            if tarefas:\n",
        "                try:\n",
        "                    num = int(input(\"Digite o número da tarefa a marcar como concluída: \"))\n",
        "                    if 1 <= num <= len(tarefas_ordenadas):\n",
        "                        tarefas_ordenadas[num - 1][\"concluida\"] = True\n",
        "                        print(\"Tarefa marcada como concluída!\")\n",
        "                    else:\n",
        "                        print(\"Número inválido.\")\n",
        "                except ValueError:\n",
        "                    print(\"Entrada inválida. Digite um número.\")\n",
        "\n",
        "        elif opcao == \"4\":\n",
        "            print(\"Encerrando o sistema de tarefas. Até logo!\")\n",
        "            break\n",
        "\n",
        "        else:\n",
        "            print(\"Opção inválida. Tente novamente.\")\n",
        "\n",
        "main()\n"
      ],
      "metadata": {
        "id": "_wjpLfQEsThs"
      },
      "execution_count": null,
      "outputs": []
    },
    {
      "cell_type": "code",
      "source": [
        "#10 Crie um algoritmo que simule um sistema de acompanhamento de hábitos saudáveis. O programa deve permitir que o usuário registre diariamente a quantidade de copos de água ingeridos e o número de minutos dedicados a atividades físicas.\n",
        "# Ao final de uma semana, o sistema deve calcular a média diária de consumo de água e de exercícios,\n",
        "# compará-las com as recomendações de saúde (por exemplo, 8 copos de água e 30 minutos de exercício por dia), e fornecer um feedback sobre o desempenho do usuário.\n",
        "\n",
        "def registrar_habitos():\n",
        "    agua_por_dia = []\n",
        "    exercicio_por_dia = []\n",
        "\n",
        "    print(\"\\n--- Registro de Hábitos por 7 dias ---\")\n",
        "    for dia in range(1, 8):\n",
        "        print(f\"\\nDia {dia}:\")\n",
        "        while True:\n",
        "            try:\n",
        "                agua = int(input(\"Quantidade de copos de água ingeridos: \"))\n",
        "                if agua < 0:\n",
        "                    print(\"Digite um valor não negativo.\")\n",
        "                    continue\n",
        "                break\n",
        "            except ValueError:\n",
        "                print(\"Digite um número inteiro válido.\")\n",
        "        agua_por_dia.append(agua)\n",
        "\n",
        "        while True:\n",
        "            try:\n",
        "                exercicio = int(input(\"Minutos de atividade física realizados: \"))\n",
        "                if exercicio < 0:\n",
        "                    print(\"Digite um valor não negativo.\")\n",
        "                    continue\n",
        "                break\n",
        "            except ValueError:\n",
        "                print(\"Digite um número inteiro válido.\")\n",
        "        exercicio_por_dia.append(exercicio)\n",
        "\n",
        "    return agua_por_dia, exercicio_por_dia\n",
        "\n",
        "def calcular_medias(valores):\n",
        "    return sum(valores) / len(valores)\n",
        "\n",
        "def fornecer_feedback(media_agua, media_exercicio):\n",
        "    print(\"\\n--- Resultado Semanal ---\")\n",
        "    print(f\"Média diária de copos de água: {media_agua:.2f}\")\n",
        "    print(f\"Média diária de minutos de exercício: {media_exercicio:.2f}\")\n",
        "\n",
        "    print(\"\\n--- Feedback ---\")\n",
        "    if media_agua >= 8:\n",
        "        print(\"✅ Ótimo consumo de água! Continue assim.\")\n",
        "    else:\n",
        "        print(\"💧 Tente beber mais água. O ideal são pelo menos 8 copos por dia.\")\n",
        "\n",
        "    if media_exercicio >= 30:\n",
        "        print(\"✅ Excelente dedicação à atividade física!\")\n",
        "    else:\n",
        "        print(\"🏃‍♂️ Tente se exercitar mais. A recomendação é de pelo menos 30 minutos por dia.\")\n",
        "\n",
        "def main():\n",
        "    print(\"=== Sistema de Acompanhamento de Hábitos Saudáveis ===\")\n",
        "    agua, exercicio = registrar_habitos()\n",
        "    media_agua = calcular_medias(agua)\n",
        "    media_exercicio = calcular_medias(exercicio)\n",
        "    fornecer_feedback(media_agua, media_exercicio)\n",
        "\n",
        "main()\n",
        "\n",
        "\n",
        "\n",
        "\n",
        "\n",
        "\n",
        "\n",
        "\n",
        "\n",
        "\n",
        "\n",
        "\n",
        "\n"
      ],
      "metadata": {
        "id": "ioEJ7QQHscmc"
      },
      "execution_count": null,
      "outputs": []
    }
  ]
}